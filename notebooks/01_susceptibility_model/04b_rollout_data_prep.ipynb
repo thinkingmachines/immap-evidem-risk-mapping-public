{
 "cells": [
  {
   "cell_type": "markdown",
   "metadata": {},
   "source": [
    "# Roll-out data preparation\n",
    "\n",
    "This notebook runs feature engineering on the target municipalites needed for model roll-out\n",
    "\n",
    "### Input\n",
    "- Features for the priority municipalities\n",
    "\n",
    "### Output\n",
    "- Feature table for roll-out"
   ]
  },
  {
   "cell_type": "code",
   "execution_count": 1,
   "metadata": {},
   "outputs": [],
   "source": [
    "%load_ext autoreload\n",
    "%autoreload 2"
   ]
  },
  {
   "cell_type": "markdown",
   "metadata": {},
   "source": [
    "# Imports and Set-up"
   ]
  },
  {
   "cell_type": "code",
   "execution_count": 2,
   "metadata": {},
   "outputs": [
    {
     "name": "stderr",
     "output_type": "stream",
     "text": [
      "/home/abbymoreno/miniconda3/envs/immap-evidem-risk-mapping/lib/python3.9/site-packages/geopandas/_compat.py:111: UserWarning: The Shapely GEOS version (3.10.3-CAPI-1.16.1) is incompatible with the GEOS version PyGEOS was compiled with (3.10.4-CAPI-1.16.2). Conversions between both will be slow.\n",
      "  warnings.warn(\n"
     ]
    }
   ],
   "source": [
    "import sys\n",
    "import polars as pl\n",
    "import pandas as pd\n",
    "from loguru import logger\n",
    "\n",
    "import geopandas as gpd"
   ]
  },
  {
   "cell_type": "code",
   "execution_count": 3,
   "metadata": {},
   "outputs": [],
   "source": [
    "sys.path.append(\"../../\")  # include parent directory\n",
    "from src import bing_tile_utils\n",
    "from src.polars_utils import log_condition, log_duplicates\n",
    "\n",
    "from src.settings import DATA_DIR"
   ]
  },
  {
   "cell_type": "code",
   "execution_count": 4,
   "metadata": {},
   "outputs": [],
   "source": [
    "MODEL_DIR = DATA_DIR / \"models\"\n",
    "VECTOR_DIR = DATA_DIR / \"vectors\"\n",
    "OUTPUT_DIR = DATA_DIR / \"output/component_1\""
   ]
  },
  {
   "cell_type": "code",
   "execution_count": 5,
   "metadata": {},
   "outputs": [],
   "source": [
    "FEATURES_FPATH = (\n",
    "    DATA_DIR / \"aligned/parquets/aligned_dataset_consolidated_20240503.parquet\"\n",
    ")\n",
    "BINGTILE_FPATH = (\n",
    "    DATA_DIR / \"admin_bounds/grids_landslide_w_xyz_zoomlevel18_20240320.parquet\"\n",
    ")\n",
    "\n",
    "ADM_GRIDS = DATA_DIR / \"admin_bounds/grids_target_muni_wadm_zoomlevel18_20240304.gpkg\""
   ]
  },
  {
   "cell_type": "code",
   "execution_count": 6,
   "metadata": {},
   "outputs": [],
   "source": [
    "# lattice variables\n",
    "BING_TILE_ZOOM_LEVEL = 18\n",
    "USE_WEIGHTED_LATTICE = False\n",
    "LATTICE_RADIUS = 3\n",
    "CHEBYSHEV_DIST_COL = \"chebyshev_dist_col\"\n",
    "\n",
    "OUTPUT_VERSION = pd.to_datetime(\"today\").strftime(\"%Y%m%d\")\n",
    "OUTPUT_FPATH = (\n",
    "    MODEL_DIR\n",
    "    / f\"rollout_data/rollout_data_w_lattice{LATTICE_RADIUS}_{OUTPUT_VERSION}.parquet\"\n",
    ")"
   ]
  },
  {
   "cell_type": "markdown",
   "metadata": {},
   "source": [
    "## Import Data\n"
   ]
  },
  {
   "cell_type": "code",
   "execution_count": 7,
   "metadata": {},
   "outputs": [],
   "source": [
    "bingtiles = pl.read_parquet(BINGTILE_FPATH)"
   ]
  },
  {
   "cell_type": "code",
   "execution_count": 8,
   "metadata": {},
   "outputs": [
    {
     "data": {
      "text/plain": [
       "(shape: (5, 4)\n",
       " ┌────────────────────┬───────┬────────┬─────┐\n",
       " │ quadkey            ┆ x     ┆ y      ┆ z   │\n",
       " │ ---                ┆ ---   ┆ ---    ┆ --- │\n",
       " │ str                ┆ i64   ┆ i64    ┆ i64 │\n",
       " ╞════════════════════╪═══════╪════════╪═════╡\n",
       " │ 032232230000210321 ┆ 74773 ┆ 130086 ┆ 18  │\n",
       " │ 032232230000210330 ┆ 74774 ┆ 130086 ┆ 18  │\n",
       " │ 032232230000210331 ┆ 74775 ┆ 130086 ┆ 18  │\n",
       " │ 032232230000211220 ┆ 74776 ┆ 130086 ┆ 18  │\n",
       " │ 032232230000210323 ┆ 74773 ┆ 130087 ┆ 18  │\n",
       " └────────────────────┴───────┴────────┴─────┘,\n",
       " (1798240, 4))"
      ]
     },
     "execution_count": 8,
     "metadata": {},
     "output_type": "execute_result"
    }
   ],
   "source": [
    "bingtiles.head(), bingtiles.shape"
   ]
  },
  {
   "cell_type": "code",
   "execution_count": 9,
   "metadata": {},
   "outputs": [],
   "source": [
    "adm_grids = gpd.read_file(ADM_GRIDS)\n",
    "adm_grids.drop(columns=[\"geometry\"], inplace=True)\n",
    "adm_grids = pl.from_pandas(adm_grids)"
   ]
  },
  {
   "cell_type": "code",
   "execution_count": 10,
   "metadata": {},
   "outputs": [
    {
     "data": {
      "text/plain": [
       "(shape: (5, 15)\n",
       " ┌───────────┬───────────┬───────────┬───────────┬───┬───────────┬───────────┬───────────┬──────────┐\n",
       " │ quadkey   ┆ MPIO_CCNC ┆ MPIO_CNMB ┆ MPIO_CNMB ┆ … ┆ MPIO_NARE ┆ MPIO_NANO ┆ SHAPE_ARE ┆ SHAPE_LE │\n",
       " │ ---       ┆ T         ┆ R         ┆ R_EN      ┆   ┆ A         ┆ ---       ┆ A         ┆ N        │\n",
       " │ str       ┆ ---       ┆ ---       ┆ ---       ┆   ┆ ---       ┆ i64       ┆ ---       ┆ ---      │\n",
       " │           ┆ str       ┆ str       ┆ str       ┆   ┆ f64       ┆           ┆ f64       ┆ f64      │\n",
       " ╞═══════════╪═══════════╪═══════════╪═══════════╪═══╪═══════════╪═══════════╪═══════════╪══════════╡\n",
       " │ 032232230 ┆ 86749     ┆ SIBUNDOY  ┆ SIBUNDOY  ┆ … ┆ 97.734625 ┆ 2020      ┆ 0.007922  ┆ 0.511382 │\n",
       " │ 100333331 ┆           ┆           ┆           ┆   ┆           ┆           ┆           ┆          │\n",
       " │ 032232230 ┆ 86749     ┆ SIBUNDOY  ┆ SIBUNDOY  ┆ … ┆ 97.734625 ┆ 2020      ┆ 0.007922  ┆ 0.511382 │\n",
       " │ 100333323 ┆           ┆           ┆           ┆   ┆           ┆           ┆           ┆          │\n",
       " │ 032232230 ┆ 86749     ┆ SIBUNDOY  ┆ SIBUNDOY  ┆ … ┆ 97.734625 ┆ 2020      ┆ 0.007922  ┆ 0.511382 │\n",
       " │ 100333332 ┆           ┆           ┆           ┆   ┆           ┆           ┆           ┆          │\n",
       " │ 032232230 ┆ 86749     ┆ SIBUNDOY  ┆ SIBUNDOY  ┆ … ┆ 97.734625 ┆ 2020      ┆ 0.007922  ┆ 0.511382 │\n",
       " │ 100333333 ┆           ┆           ┆           ┆   ┆           ┆           ┆           ┆          │\n",
       " │ 032232230 ┆ 86749     ┆ SIBUNDOY  ┆ SIBUNDOY  ┆ … ┆ 97.734625 ┆ 2020      ┆ 0.007922  ┆ 0.511382 │\n",
       " │ 101222222 ┆           ┆           ┆           ┆   ┆           ┆           ┆           ┆          │\n",
       " └───────────┴───────────┴───────────┴───────────┴───┴───────────┴───────────┴───────────┴──────────┘,\n",
       " (221152, 15))"
      ]
     },
     "execution_count": 10,
     "metadata": {},
     "output_type": "execute_result"
    }
   ],
   "source": [
    "adm_grids.head(), adm_grids.shape"
   ]
  },
  {
   "cell_type": "code",
   "execution_count": 11,
   "metadata": {},
   "outputs": [],
   "source": [
    "features_df = pl.read_parquet(FEATURES_FPATH)"
   ]
  },
  {
   "cell_type": "code",
   "execution_count": 12,
   "metadata": {},
   "outputs": [
    {
     "data": {
      "text/plain": [
       "(shape: (5, 50)\n",
       " ┌───────────┬───────────┬───────────┬───────────┬───┬───────────┬───────────┬───────────┬──────────┐\n",
       " │ quadkey   ┆ MPIO_CCNC ┆ MPIO_CNMB ┆ MPIO_CNMB ┆ … ┆ hillshade ┆ hillshade ┆ distance_ ┆ distance │\n",
       " │ ---       ┆ T         ┆ R         ┆ R_EN      ┆   ┆ _count    ┆ _median   ┆ m_roads   ┆ _m_river │\n",
       " │ str       ┆ ---       ┆ ---       ┆ ---       ┆   ┆ ---       ┆ ---       ┆ ---       ┆ s        │\n",
       " │           ┆ str       ┆ str       ┆ str       ┆   ┆ i64       ┆ f64       ┆ f64       ┆ ---      │\n",
       " │           ┆           ┆           ┆           ┆   ┆           ┆           ┆           ┆ f64      │\n",
       " ╞═══════════╪═══════════╪═══════════╪═══════════╪═══╪═══════════╪═══════════╪═══════════╪══════════╡\n",
       " │ 032232230 ┆ 52001     ┆ PASTO     ┆ PASTO     ┆ … ┆ 256       ┆ 0.0       ┆ 654.41195 ┆ 440.4481 │\n",
       " │ 000210321 ┆           ┆           ┆           ┆   ┆           ┆           ┆ 7         ┆ 32       │\n",
       " │ 032232230 ┆ 52001     ┆ PASTO     ┆ PASTO     ┆ … ┆ 256       ┆ 146.5     ┆ 652.10202 ┆ 288.2310 │\n",
       " │ 000210330 ┆           ┆           ┆           ┆   ┆           ┆           ┆ 8         ┆ 95       │\n",
       " │ 032232230 ┆ 52001     ┆ PASTO     ┆ PASTO     ┆ … ┆ 272       ┆ 0.0       ┆ 659.41560 ┆ 137.1699 │\n",
       " │ 000210331 ┆           ┆           ┆           ┆   ┆           ┆           ┆ 2         ┆ 62       │\n",
       " │ 032232230 ┆ 52001     ┆ PASTO     ┆ PASTO     ┆ … ┆ 256       ┆ 0.0       ┆ 698.67289 ┆ 0.0      │\n",
       " │ 000211220 ┆           ┆           ┆           ┆   ┆           ┆           ┆ 7         ┆          │\n",
       " │ 032232230 ┆ 52001     ┆ PASTO     ┆ PASTO     ┆ … ┆ 256       ┆ 227.0     ┆ 502.24149 ┆ 464.8820 │\n",
       " │ 000210323 ┆           ┆           ┆           ┆   ┆           ┆           ┆ 7         ┆ 55       │\n",
       " └───────────┴───────────┴───────────┴───────────┴───┴───────────┴───────────┴───────────┴──────────┘,\n",
       " (1798240, 50))"
      ]
     },
     "execution_count": 12,
     "metadata": {},
     "output_type": "execute_result"
    }
   ],
   "source": [
    "features_df.head(), features_df.shape"
   ]
  },
  {
   "cell_type": "code",
   "execution_count": 13,
   "metadata": {},
   "outputs": [],
   "source": [
    "priority_cities_quadkeys = list(adm_grids[\"quadkey\"])"
   ]
  },
  {
   "cell_type": "code",
   "execution_count": 14,
   "metadata": {},
   "outputs": [],
   "source": [
    "# subset features to priority municipalities\n",
    "priority_city_feat = features_df.filter(\n",
    "    pl.col(\"quadkey\").is_in(priority_cities_quadkeys)\n",
    ")"
   ]
  },
  {
   "cell_type": "code",
   "execution_count": 15,
   "metadata": {},
   "outputs": [
    {
     "data": {
      "text/plain": [
       "(shape: (5, 50)\n",
       " ┌───────────┬───────────┬───────────┬───────────┬───┬───────────┬───────────┬───────────┬──────────┐\n",
       " │ quadkey   ┆ MPIO_CCNC ┆ MPIO_CNMB ┆ MPIO_CNMB ┆ … ┆ hillshade ┆ hillshade ┆ distance_ ┆ distance │\n",
       " │ ---       ┆ T         ┆ R         ┆ R_EN      ┆   ┆ _count    ┆ _median   ┆ m_roads   ┆ _m_river │\n",
       " │ str       ┆ ---       ┆ ---       ┆ ---       ┆   ┆ ---       ┆ ---       ┆ ---       ┆ s        │\n",
       " │           ┆ str       ┆ str       ┆ str       ┆   ┆ i64       ┆ f64       ┆ f64       ┆ ---      │\n",
       " │           ┆           ┆           ┆           ┆   ┆           ┆           ┆           ┆ f64      │\n",
       " ╞═══════════╪═══════════╪═══════════╪═══════════╪═══╪═══════════╪═══════════╪═══════════╪══════════╡\n",
       " │ 032232230 ┆ 86749     ┆ SIBUNDOY  ┆ SIBUNDOY  ┆ … ┆ 289       ┆ 0.0       ┆ null      ┆ 7235.630 │\n",
       " │ 100333331 ┆           ┆           ┆           ┆   ┆           ┆           ┆           ┆ 84       │\n",
       " │ 032232230 ┆ 86749     ┆ SIBUNDOY  ┆ SIBUNDOY  ┆ … ┆ 256       ┆ 0.0       ┆ null      ┆ 7357.343 │\n",
       " │ 100333323 ┆           ┆           ┆           ┆   ┆           ┆           ┆           ┆ 708      │\n",
       " │ 032232230 ┆ 86749     ┆ SIBUNDOY  ┆ SIBUNDOY  ┆ … ┆ 256       ┆ 0.0       ┆ null      ┆ 7243.247 │\n",
       " │ 100333332 ┆           ┆           ┆           ┆   ┆           ┆           ┆           ┆ 264      │\n",
       " │ 032232230 ┆ 86749     ┆ SIBUNDOY  ┆ SIBUNDOY  ┆ … ┆ 272       ┆ 135.5     ┆ null      ┆ 7130.602 │\n",
       " │ 100333333 ┆           ┆           ┆           ┆   ┆           ┆           ┆           ┆ 806      │\n",
       " │ 032232230 ┆ 86749     ┆ SIBUNDOY  ┆ SIBUNDOY  ┆ … ┆ 256       ┆ 144.0     ┆ null      ┆ 7019.480 │\n",
       " │ 101222222 ┆           ┆           ┆           ┆   ┆           ┆           ┆           ┆ 235      │\n",
       " └───────────┴───────────┴───────────┴───────────┴───┴───────────┴───────────┴───────────┴──────────┘,\n",
       " (221152, 50))"
      ]
     },
     "execution_count": 15,
     "metadata": {},
     "output_type": "execute_result"
    }
   ],
   "source": [
    "priority_city_feat.head(), priority_city_feat.shape"
   ]
  },
  {
   "cell_type": "code",
   "execution_count": 16,
   "metadata": {},
   "outputs": [],
   "source": [
    "# Get bingtile x,y for target municipalities\n",
    "priority_city_feat = priority_city_feat.join(bingtiles, on=\"quadkey\")"
   ]
  },
  {
   "cell_type": "code",
   "execution_count": 17,
   "metadata": {},
   "outputs": [
    {
     "data": {
      "text/html": [
       "<div><style>\n",
       ".dataframe > thead > tr,\n",
       ".dataframe > tbody > tr {\n",
       "  text-align: right;\n",
       "  white-space: pre-wrap;\n",
       "}\n",
       "</style>\n",
       "<small>shape: (1, 53)</small><table border=\"1\" class=\"dataframe\"><thead><tr><th>quadkey</th><th>MPIO_CCNCT</th><th>MPIO_CNMBR</th><th>MPIO_CNMBR_EN</th><th>DPTO_CNMBR</th><th>DPTO_CNMBR_EN</th><th>Municipio</th><th>Municipio_EN</th><th>DPTO_CCDGO</th><th>MPIO_CCDGO</th><th>MPIO_CRSLC</th><th>MPIO_NAREA</th><th>MPIO_NANO</th><th>SHAPE_AREA</th><th>SHAPE_LEN</th><th>slope_min</th><th>slope_max</th><th>slope_count</th><th>slope_median</th><th>aspect_min</th><th>aspect_max</th><th>aspect_count</th><th>aspect_median</th><th>soil_class</th><th>elevation_min</th><th>elevation_max</th><th>elevation_count</th><th>elevation_median</th><th>ndvi2023_min</th><th>ndvi2023_max</th><th>ndvi2023_count</th><th>ndvi2023_median</th><th>rainfall_mm_min</th><th>rainfall_mm_max</th><th>rainfall_mm_count</th><th>rainfall_mm_median</th><th>__index_level_0__</th><th>lithology_type</th><th>sand_5-15cm_mean</th><th>sand_100-200cm_mean</th><th>silt_5-15cm_mean</th><th>silt_100-200cm_mean</th><th>clay_5-15cm_mean</th><th>clay_100-200cm_mean</th><th>hillshade_min</th><th>hillshade_max</th><th>hillshade_count</th><th>hillshade_median</th><th>distance_m_roads</th><th>distance_m_rivers</th><th>x</th><th>y</th><th>z</th></tr><tr><td>u32</td><td>u32</td><td>u32</td><td>u32</td><td>u32</td><td>u32</td><td>u32</td><td>u32</td><td>u32</td><td>u32</td><td>u32</td><td>u32</td><td>u32</td><td>u32</td><td>u32</td><td>u32</td><td>u32</td><td>u32</td><td>u32</td><td>u32</td><td>u32</td><td>u32</td><td>u32</td><td>u32</td><td>u32</td><td>u32</td><td>u32</td><td>u32</td><td>u32</td><td>u32</td><td>u32</td><td>u32</td><td>u32</td><td>u32</td><td>u32</td><td>u32</td><td>u32</td><td>u32</td><td>u32</td><td>u32</td><td>u32</td><td>u32</td><td>u32</td><td>u32</td><td>u32</td><td>u32</td><td>u32</td><td>u32</td><td>u32</td><td>u32</td><td>u32</td><td>u32</td><td>u32</td></tr></thead><tbody><tr><td>0</td><td>0</td><td>0</td><td>0</td><td>0</td><td>0</td><td>0</td><td>0</td><td>0</td><td>0</td><td>0</td><td>0</td><td>0</td><td>0</td><td>0</td><td>0</td><td>0</td><td>0</td><td>0</td><td>0</td><td>0</td><td>0</td><td>0</td><td>0</td><td>0</td><td>0</td><td>0</td><td>0</td><td>0</td><td>0</td><td>0</td><td>0</td><td>0</td><td>0</td><td>0</td><td>0</td><td>0</td><td>0</td><td>0</td><td>0</td><td>0</td><td>0</td><td>0</td><td>0</td><td>0</td><td>0</td><td>0</td><td>0</td><td>0</td><td>0</td><td>0</td><td>0</td><td>0</td></tr></tbody></table></div>"
      ],
      "text/plain": [
       "shape: (1, 53)\n",
       "┌─────────┬────────────┬────────────┬───────────────┬───┬───────────────────┬─────┬─────┬─────┐\n",
       "│ quadkey ┆ MPIO_CCNCT ┆ MPIO_CNMBR ┆ MPIO_CNMBR_EN ┆ … ┆ distance_m_rivers ┆ x   ┆ y   ┆ z   │\n",
       "│ ---     ┆ ---        ┆ ---        ┆ ---           ┆   ┆ ---               ┆ --- ┆ --- ┆ --- │\n",
       "│ u32     ┆ u32        ┆ u32        ┆ u32           ┆   ┆ u32               ┆ u32 ┆ u32 ┆ u32 │\n",
       "╞═════════╪════════════╪════════════╪═══════════════╪═══╪═══════════════════╪═════╪═════╪═════╡\n",
       "│ 0       ┆ 0          ┆ 0          ┆ 0             ┆ … ┆ 0                 ┆ 0   ┆ 0   ┆ 0   │\n",
       "└─────────┴────────────┴────────────┴───────────────┴───┴───────────────────┴─────┴─────┴─────┘"
      ]
     },
     "execution_count": 17,
     "metadata": {},
     "output_type": "execute_result"
    }
   ],
   "source": [
    "priority_city_feat.select(pl.all().is_null().sum())"
   ]
  },
  {
   "cell_type": "markdown",
   "metadata": {},
   "source": [
    "## Impute missing values"
   ]
  },
  {
   "cell_type": "code",
   "execution_count": null,
   "metadata": {},
   "outputs": [],
   "source": [
    "priority_city_feat = priority_city_feat.drop(\n",
    "    [\"ndvi2023_min\", \"ndvi2023_max\", \"ndvi2023_count\", \"ndvi2023_median\"]\n",
    ")"
   ]
  },
  {
   "cell_type": "code",
   "execution_count": null,
   "metadata": {},
   "outputs": [],
   "source": [
    "priority_city_feat = priority_city_feat.with_columns(\n",
    "    pl.col(\n",
    "        [\n",
    "            \"rainfall_mm_min\",\n",
    "            \"rainfall_mm_max\",\n",
    "            \"rainfall_mm_count\",\n",
    "            \"rainfall_mm_median\",\n",
    "        ]\n",
    "    ).fill_null(strategy=\"zero\")\n",
    ")"
   ]
  },
  {
   "cell_type": "code",
   "execution_count": null,
   "metadata": {},
   "outputs": [],
   "source": [
    "priority_city_feat = priority_city_feat.with_columns(\n",
    "    pl.col([\"distance_m_roads\", \"distance_m_rivers\"]).fill_null(-99)\n",
    ")"
   ]
  },
  {
   "cell_type": "code",
   "execution_count": null,
   "metadata": {},
   "outputs": [],
   "source": [
    "# rainfall median\n",
    "priority_city_feat = priority_city_feat.with_columns(\n",
    "    pl.when(pl.col(\"rainfall_mm_median\") < 0)\n",
    "    .then(pl.lit(0))\n",
    "    .otherwise(pl.col(\"rainfall_mm_median\"))\n",
    "    .alias(\"rainfall_mm_median\")\n",
    ")"
   ]
  },
  {
   "cell_type": "code",
   "execution_count": null,
   "metadata": {},
   "outputs": [],
   "source": [
    "priority_city_feat.with_columns(pl.col(\"rainfall_mm_median\") < 0)"
   ]
  },
  {
   "cell_type": "markdown",
   "metadata": {},
   "source": [
    "# Get lattices"
   ]
  },
  {
   "cell_type": "markdown",
   "metadata": {},
   "source": [
    "## Get weight expressions"
   ]
  },
  {
   "cell_type": "code",
   "execution_count": 18,
   "metadata": {},
   "outputs": [],
   "source": [
    "exprs_dict = bing_tile_utils.get_lattice_weight_exprs(\n",
    "    use_weighted_lattice=USE_WEIGHTED_LATTICE,\n",
    "    radius=LATTICE_RADIUS,\n",
    "    group_by_cols=\"center_quadkey\",\n",
    "    chebyshev_dist_col=CHEBYSHEV_DIST_COL,\n",
    ")\n",
    "\n",
    "chebyshev_count_exprs = exprs_dict[\"chebyshev_count_exprs\"]\n",
    "lattice_weight_exprs = exprs_dict[\"lattice_weight_exprs\"]\n",
    "lattice_weight_multiplier = exprs_dict[\"lattice_weight_multiplier\"]"
   ]
  },
  {
   "cell_type": "code",
   "execution_count": 19,
   "metadata": {},
   "outputs": [
    {
     "name": "stderr",
     "output_type": "stream",
     "text": [
      "2024-05-07 16:18:09.158 | INFO     | src.polars_utils:log_duplicates:51 - There are 0 duplicate rows based on these columns ['quadkey']\n",
      "2024-05-07 16:18:09.237 | INFO     | src.polars_utils:log_condition:17 - There are 0 rows meeting condition *.is_null().any_horizontal()\n"
     ]
    },
    {
     "data": {
      "text/html": [
       "<div><style>\n",
       ".dataframe > thead > tr,\n",
       ".dataframe > tbody > tr {\n",
       "  text-align: right;\n",
       "  white-space: pre-wrap;\n",
       "}\n",
       "</style>\n",
       "<small>shape: (5, 53)</small><table border=\"1\" class=\"dataframe\"><thead><tr><th>quadkey</th><th>MPIO_CCNCT</th><th>MPIO_CNMBR</th><th>MPIO_CNMBR_EN</th><th>DPTO_CNMBR</th><th>DPTO_CNMBR_EN</th><th>Municipio</th><th>Municipio_EN</th><th>DPTO_CCDGO</th><th>MPIO_CCDGO</th><th>MPIO_CRSLC</th><th>MPIO_NAREA</th><th>MPIO_NANO</th><th>SHAPE_AREA</th><th>SHAPE_LEN</th><th>slope_min</th><th>slope_max</th><th>slope_count</th><th>slope_median</th><th>aspect_min</th><th>aspect_max</th><th>aspect_count</th><th>aspect_median</th><th>soil_class</th><th>elevation_min</th><th>elevation_max</th><th>elevation_count</th><th>elevation_median</th><th>ndvi2023_min</th><th>ndvi2023_max</th><th>ndvi2023_count</th><th>ndvi2023_median</th><th>rainfall_mm_min</th><th>rainfall_mm_max</th><th>rainfall_mm_count</th><th>rainfall_mm_median</th><th>__index_level_0__</th><th>lithology_type</th><th>sand_5-15cm_mean</th><th>sand_100-200cm_mean</th><th>silt_5-15cm_mean</th><th>silt_100-200cm_mean</th><th>clay_5-15cm_mean</th><th>clay_100-200cm_mean</th><th>hillshade_min</th><th>hillshade_max</th><th>hillshade_count</th><th>hillshade_median</th><th>distance_m_roads</th><th>distance_m_rivers</th><th>x</th><th>y</th><th>z</th></tr><tr><td>str</td><td>str</td><td>str</td><td>str</td><td>str</td><td>str</td><td>str</td><td>str</td><td>str</td><td>str</td><td>str</td><td>f64</td><td>i64</td><td>f64</td><td>f64</td><td>f64</td><td>f64</td><td>i64</td><td>f64</td><td>f64</td><td>f64</td><td>i64</td><td>f64</td><td>f64</td><td>f64</td><td>f64</td><td>i64</td><td>f64</td><td>f64</td><td>f64</td><td>i64</td><td>f64</td><td>f64</td><td>f64</td><td>f64</td><td>f64</td><td>i64</td><td>f64</td><td>f64</td><td>f64</td><td>f64</td><td>f64</td><td>f64</td><td>f64</td><td>f64</td><td>f64</td><td>i64</td><td>f64</td><td>f64</td><td>f64</td><td>i64</td><td>i64</td><td>i64</td></tr></thead><tbody><tr><td>&quot;03223223010033…</td><td>&quot;86749&quot;</td><td>&quot;SIBUNDOY&quot;</td><td>&quot;SIBUNDOY&quot;</td><td>&quot;PUTUMAYO&quot;</td><td>&quot;PUTUMAYO&quot;</td><td>&quot;Sibundoy&quot;</td><td>&quot;Sibundoy&quot;</td><td>&quot;86&quot;</td><td>&quot;749&quot;</td><td>&quot;Decreto 1871 d…</td><td>97.734625</td><td>2020</td><td>0.007922</td><td>0.511382</td><td>0.0</td><td>26.0</td><td>36</td><td>0.0</td><td>0.0</td><td>142.0</td><td>256</td><td>0.0</td><td>3.0</td><td>0.0</td><td>3689.0</td><td>256</td><td>0.0</td><td>0.620972</td><td>0.708093</td><td>28</td><td>0.657662</td><td>2267.173584</td><td>2267.173584</td><td>1.0</td><td>2267.173584</td><td>82312</td><td>177.0</td><td>350.5</td><td>388.0</td><td>388.0</td><td>317.0</td><td>261.5</td><td>295.0</td><td>0.0</td><td>133.0</td><td>256</td><td>0.0</td><td>-99.0</td><td>7357.343708</td><td>75069</td><td>130111</td><td>18</td></tr><tr><td>&quot;03223223010211…</td><td>&quot;86749&quot;</td><td>&quot;SIBUNDOY&quot;</td><td>&quot;SIBUNDOY&quot;</td><td>&quot;PUTUMAYO&quot;</td><td>&quot;PUTUMAYO&quot;</td><td>&quot;Sibundoy&quot;</td><td>&quot;Sibundoy&quot;</td><td>&quot;86&quot;</td><td>&quot;749&quot;</td><td>&quot;Decreto 1871 d…</td><td>97.734625</td><td>2020</td><td>0.007922</td><td>0.511382</td><td>0.0</td><td>26.0</td><td>42</td><td>14.5</td><td>0.0</td><td>176.0</td><td>289</td><td>126.0</td><td>3.0</td><td>0.0</td><td>3539.0</td><td>289</td><td>3493.0</td><td>0.757433</td><td>0.83594</td><td>166</td><td>0.789813</td><td>2267.173584</td><td>2267.173584</td><td>1.0</td><td>2267.173584</td><td>83049</td><td>177.0</td><td>328.0</td><td>376.0</td><td>406.5</td><td>315.5</td><td>265.5</td><td>308.5</td><td>0.0</td><td>177.0</td><td>289</td><td>121.0</td><td>9832.161935</td><td>6826.373141</td><td>75071</td><td>130114</td><td>18</td></tr><tr><td>&quot;03223223010211…</td><td>&quot;86749&quot;</td><td>&quot;SIBUNDOY&quot;</td><td>&quot;SIBUNDOY&quot;</td><td>&quot;PUTUMAYO&quot;</td><td>&quot;PUTUMAYO&quot;</td><td>&quot;Sibundoy&quot;</td><td>&quot;Sibundoy&quot;</td><td>&quot;86&quot;</td><td>&quot;749&quot;</td><td>&quot;Decreto 1871 d…</td><td>97.734625</td><td>2020</td><td>0.007922</td><td>0.511382</td><td>8.0</td><td>29.0</td><td>36</td><td>18.5</td><td>67.0</td><td>144.0</td><td>256</td><td>111.5</td><td>3.0</td><td>3569.0</td><td>3634.0</td><td>256</td><td>3602.0</td><td>0.653631</td><td>0.810933</td><td>225</td><td>0.733945</td><td>2267.173584</td><td>2267.173584</td><td>1.0</td><td>2267.173584</td><td>83535</td><td>177.0</td><td>329.75</td><td>379.0</td><td>404.75</td><td>323.25</td><td>265.75</td><td>297.5</td><td>109.0</td><td>157.0</td><td>256</td><td>133.0</td><td>9469.616296</td><td>6999.996487</td><td>75068</td><td>130116</td><td>18</td></tr><tr><td>&quot;03223223010211…</td><td>&quot;86749&quot;</td><td>&quot;SIBUNDOY&quot;</td><td>&quot;SIBUNDOY&quot;</td><td>&quot;PUTUMAYO&quot;</td><td>&quot;PUTUMAYO&quot;</td><td>&quot;Sibundoy&quot;</td><td>&quot;Sibundoy&quot;</td><td>&quot;86&quot;</td><td>&quot;749&quot;</td><td>&quot;Decreto 1871 d…</td><td>97.734625</td><td>2020</td><td>0.007922</td><td>0.511382</td><td>16.0</td><td>31.0</td><td>36</td><td>24.0</td><td>88.0</td><td>125.0</td><td>256</td><td>107.0</td><td>3.0</td><td>3453.0</td><td>3523.0</td><td>256</td><td>3479.0</td><td>0.761498</td><td>0.84216</td><td>225</td><td>0.795787</td><td>2267.173584</td><td>2267.173584</td><td>1.0</td><td>2267.173584</td><td>83537</td><td>177.0</td><td>322.25</td><td>369.5</td><td>400.25</td><td>316.25</td><td>277.75</td><td>314.0</td><td>97.0</td><td>133.0</td><td>256</td><td>120.0</td><td>9507.463646</td><td>6754.365909</td><td>75070</td><td>130116</td><td>18</td></tr><tr><td>&quot;03223223010211…</td><td>&quot;86749&quot;</td><td>&quot;SIBUNDOY&quot;</td><td>&quot;SIBUNDOY&quot;</td><td>&quot;PUTUMAYO&quot;</td><td>&quot;PUTUMAYO&quot;</td><td>&quot;Sibundoy&quot;</td><td>&quot;Sibundoy&quot;</td><td>&quot;86&quot;</td><td>&quot;749&quot;</td><td>&quot;Decreto 1871 d…</td><td>97.734625</td><td>2020</td><td>0.007922</td><td>0.511382</td><td>10.0</td><td>24.0</td><td>42</td><td>17.0</td><td>90.0</td><td>196.0</td><td>272</td><td>149.0</td><td>3.0</td><td>3640.0</td><td>3707.0</td><td>272</td><td>3668.0</td><td>0.628219</td><td>0.779647</td><td>225</td><td>0.691238</td><td>2267.173584</td><td>2267.173584</td><td>1.0</td><td>2267.173584</td><td>83778</td><td>177.0</td><td>326.5</td><td>381.5</td><td>402.0</td><td>319.5</td><td>271.5</td><td>299.0</td><td>125.0</td><td>192.0</td><td>272</td><td>150.0</td><td>9289.096724</td><td>7164.983954</td><td>75066</td><td>130117</td><td>18</td></tr></tbody></table></div>"
      ],
      "text/plain": [
       "shape: (5, 53)\n",
       "┌───────────────┬────────────┬────────────┬──────────────┬───┬──────────────┬───────┬────────┬─────┐\n",
       "│ quadkey       ┆ MPIO_CCNCT ┆ MPIO_CNMBR ┆ MPIO_CNMBR_E ┆ … ┆ distance_m_r ┆ x     ┆ y      ┆ z   │\n",
       "│ ---           ┆ ---        ┆ ---        ┆ N            ┆   ┆ ivers        ┆ ---   ┆ ---    ┆ --- │\n",
       "│ str           ┆ str        ┆ str        ┆ ---          ┆   ┆ ---          ┆ i64   ┆ i64    ┆ i64 │\n",
       "│               ┆            ┆            ┆ str          ┆   ┆ f64          ┆       ┆        ┆     │\n",
       "╞═══════════════╪════════════╪════════════╪══════════════╪═══╪══════════════╪═══════╪════════╪═════╡\n",
       "│ 0322322301003 ┆ 86749      ┆ SIBUNDOY   ┆ SIBUNDOY     ┆ … ┆ 7357.343708  ┆ 75069 ┆ 130111 ┆ 18  │\n",
       "│ 33323         ┆            ┆            ┆              ┆   ┆              ┆       ┆        ┆     │\n",
       "│ 0322322301021 ┆ 86749      ┆ SIBUNDOY   ┆ SIBUNDOY     ┆ … ┆ 6826.373141  ┆ 75071 ┆ 130114 ┆ 18  │\n",
       "│ 11131         ┆            ┆            ┆              ┆   ┆              ┆       ┆        ┆     │\n",
       "│ 0322322301021 ┆ 86749      ┆ SIBUNDOY   ┆ SIBUNDOY     ┆ … ┆ 6999.996487  ┆ 75068 ┆ 130116 ┆ 18  │\n",
       "│ 11300         ┆            ┆            ┆              ┆   ┆              ┆       ┆        ┆     │\n",
       "│ 0322322301021 ┆ 86749      ┆ SIBUNDOY   ┆ SIBUNDOY     ┆ … ┆ 6754.365909  ┆ 75070 ┆ 130116 ┆ 18  │\n",
       "│ 11310         ┆            ┆            ┆              ┆   ┆              ┆       ┆        ┆     │\n",
       "│ 0322322301021 ┆ 86749      ┆ SIBUNDOY   ┆ SIBUNDOY     ┆ … ┆ 7164.983954  ┆ 75066 ┆ 130117 ┆ 18  │\n",
       "│ 11212         ┆            ┆            ┆              ┆   ┆              ┆       ┆        ┆     │\n",
       "└───────────────┴────────────┴────────────┴──────────────┴───┴──────────────┴───────┴────────┴─────┘"
      ]
     },
     "execution_count": 19,
     "metadata": {},
     "output_type": "execute_result"
    }
   ],
   "source": [
    "columns = [\"quadkey\"]\n",
    "landslide_quadkeys = (\n",
    "    priority_city_feat.pipe(log_duplicates, columns)\n",
    "    .unique()\n",
    "    .pipe(log_condition, pl.any_horizontal([pl.col(\"*\").is_null()]))\n",
    "    .drop_nulls()\n",
    ")\n",
    "landslide_quadkeys.head()"
   ]
  },
  {
   "cell_type": "code",
   "execution_count": 20,
   "metadata": {},
   "outputs": [
    {
     "data": {
      "text/plain": [
       "1070.1179504394531"
      ]
     },
     "execution_count": 20,
     "metadata": {},
     "output_type": "execute_result"
    }
   ],
   "source": [
    "bing_tile_utils.get_bing_cluster_tile_length_m(BING_TILE_ZOOM_LEVEL, LATTICE_RADIUS)"
   ]
  },
  {
   "cell_type": "code",
   "execution_count": 21,
   "metadata": {},
   "outputs": [
    {
     "name": "stdout",
     "output_type": "stream",
     "text": [
      "10836448\n"
     ]
    },
    {
     "data": {
      "text/html": [
       "<div><style>\n",
       ".dataframe > thead > tr,\n",
       ".dataframe > tbody > tr {\n",
       "  text-align: right;\n",
       "  white-space: pre-wrap;\n",
       "}\n",
       "</style>\n",
       "<small>shape: (5, 5)</small><table border=\"1\" class=\"dataframe\"><thead><tr><th>center_x</th><th>center_y</th><th>lattice_x</th><th>lattice_y</th><th>lattice_quadkey</th></tr><tr><td>i64</td><td>i64</td><td>i64</td><td>i64</td><td>str</td></tr></thead><tbody><tr><td>75069</td><td>130111</td><td>75066</td><td>130108</td><td>&quot;03223223010033…</td></tr><tr><td>75069</td><td>130111</td><td>75066</td><td>130109</td><td>&quot;03223223010033…</td></tr><tr><td>75069</td><td>130111</td><td>75066</td><td>130110</td><td>&quot;03223223010033…</td></tr><tr><td>75069</td><td>130111</td><td>75066</td><td>130111</td><td>&quot;03223223010033…</td></tr><tr><td>75069</td><td>130111</td><td>75066</td><td>130112</td><td>&quot;03223223010211…</td></tr></tbody></table></div>"
      ],
      "text/plain": [
       "shape: (5, 5)\n",
       "┌──────────┬──────────┬───────────┬───────────┬────────────────────┐\n",
       "│ center_x ┆ center_y ┆ lattice_x ┆ lattice_y ┆ lattice_quadkey    │\n",
       "│ ---      ┆ ---      ┆ ---       ┆ ---       ┆ ---                │\n",
       "│ i64      ┆ i64      ┆ i64       ┆ i64       ┆ str                │\n",
       "╞══════════╪══════════╪═══════════╪═══════════╪════════════════════╡\n",
       "│ 75069    ┆ 130111   ┆ 75066     ┆ 130108    ┆ 032232230100333210 │\n",
       "│ 75069    ┆ 130111   ┆ 75066     ┆ 130109    ┆ 032232230100333212 │\n",
       "│ 75069    ┆ 130111   ┆ 75066     ┆ 130110    ┆ 032232230100333230 │\n",
       "│ 75069    ┆ 130111   ┆ 75066     ┆ 130111    ┆ 032232230100333232 │\n",
       "│ 75069    ┆ 130111   ┆ 75066     ┆ 130112    ┆ 032232230102111010 │\n",
       "└──────────┴──────────┴───────────┴───────────┴────────────────────┘"
      ]
     },
     "execution_count": 21,
     "metadata": {},
     "output_type": "execute_result"
    }
   ],
   "source": [
    "lattice_df = bing_tile_utils.generate_lattice(\n",
    "    landslide_quadkeys.select(\"x\", \"y\"),\n",
    "    LATTICE_RADIUS,\n",
    "    zoom_level=BING_TILE_ZOOM_LEVEL,\n",
    "    include_chebyshev_dist=USE_WEIGHTED_LATTICE,\n",
    ")\n",
    "assert not lattice_df.is_duplicated().any()\n",
    "\n",
    "print(len(lattice_df))\n",
    "lattice_df.head()"
   ]
  },
  {
   "cell_type": "code",
   "execution_count": 22,
   "metadata": {},
   "outputs": [
    {
     "name": "stdout",
     "output_type": "stream",
     "text": [
      "10836448\n"
     ]
    },
    {
     "data": {
      "text/html": [
       "<div><style>\n",
       ".dataframe > thead > tr,\n",
       ".dataframe > tbody > tr {\n",
       "  text-align: right;\n",
       "  white-space: pre-wrap;\n",
       "}\n",
       "</style>\n",
       "<small>shape: (5, 2)</small><table border=\"1\" class=\"dataframe\"><thead><tr><th>center_quadkey</th><th>lattice_quadkey</th></tr><tr><td>str</td><td>str</td></tr></thead><tbody><tr><td>&quot;03223223010033…</td><td>&quot;03223223010033…</td></tr><tr><td>&quot;03223223010033…</td><td>&quot;03223223010033…</td></tr><tr><td>&quot;03223223010033…</td><td>&quot;03223223010033…</td></tr><tr><td>&quot;03223223010033…</td><td>&quot;03223223010033…</td></tr><tr><td>&quot;03223223010033…</td><td>&quot;03223223010211…</td></tr></tbody></table></div>"
      ],
      "text/plain": [
       "shape: (5, 2)\n",
       "┌────────────────────┬────────────────────┐\n",
       "│ center_quadkey     ┆ lattice_quadkey    │\n",
       "│ ---                ┆ ---                │\n",
       "│ str                ┆ str                │\n",
       "╞════════════════════╪════════════════════╡\n",
       "│ 032232230100333323 ┆ 032232230100333210 │\n",
       "│ 032232230100333323 ┆ 032232230100333212 │\n",
       "│ 032232230100333323 ┆ 032232230100333230 │\n",
       "│ 032232230100333323 ┆ 032232230100333232 │\n",
       "│ 032232230100333323 ┆ 032232230102111010 │\n",
       "└────────────────────┴────────────────────┘"
      ]
     },
     "execution_count": 22,
     "metadata": {},
     "output_type": "execute_result"
    }
   ],
   "source": [
    "rename_dict = {\"x\": \"center_x\", \"y\": \"center_y\", \"quadkey\": \"center_quadkey\"}\n",
    "columns = [\"center_quadkey\", \"lattice_quadkey\"]\n",
    "if USE_WEIGHTED_LATTICE:\n",
    "    columns += bing_tile_utils.CHEBYSHEV_DIST_COLS\n",
    "\n",
    "lattice_df = lattice_df.join(\n",
    "    landslide_quadkeys.rename(rename_dict), on=[\"center_x\", \"center_y\"], how=\"left\"\n",
    ").select(columns)\n",
    "print(len(lattice_df))\n",
    "lattice_df.head()"
   ]
  },
  {
   "cell_type": "markdown",
   "metadata": {},
   "source": [
    "# Calculate lattice features"
   ]
  },
  {
   "cell_type": "markdown",
   "metadata": {},
   "source": [
    "## Features that need the average "
   ]
  },
  {
   "cell_type": "code",
   "execution_count": 23,
   "metadata": {},
   "outputs": [],
   "source": [
    "aggregated_cols = [\n",
    "    \"elevation_median\",\n",
    "    \"slope_median\",\n",
    "    \"aspect_median\",\n",
    "    \"hillshade_median\",\n",
    "    \"rainfall_mm_median\",\n",
    "    \"sand_5-15cm_mean\",\n",
    "    \"sand_100-200cm_mean\",\n",
    "    \"silt_5-15cm_mean\",\n",
    "    \"silt_100-200cm_mean\",\n",
    "    \"clay_5-15cm_mean\",\n",
    "    \"clay_100-200cm_mean\",\n",
    "    \"distance_m_roads\",\n",
    "    \"distance_m_rivers\",\n",
    "]"
   ]
  },
  {
   "cell_type": "code",
   "execution_count": 24,
   "metadata": {},
   "outputs": [
    {
     "name": "stdout",
     "output_type": "stream",
     "text": [
      "221152\n"
     ]
    },
    {
     "data": {
      "text/html": [
       "<div><style>\n",
       ".dataframe > thead > tr,\n",
       ".dataframe > tbody > tr {\n",
       "  text-align: right;\n",
       "  white-space: pre-wrap;\n",
       "}\n",
       "</style>\n",
       "<small>shape: (5, 14)</small><table border=\"1\" class=\"dataframe\"><thead><tr><th>quadkey</th><th>elevation_median</th><th>slope_median</th><th>aspect_median</th><th>hillshade_median</th><th>rainfall_mm_median</th><th>sand_5-15cm_mean</th><th>sand_100-200cm_mean</th><th>silt_5-15cm_mean</th><th>silt_100-200cm_mean</th><th>clay_5-15cm_mean</th><th>clay_100-200cm_mean</th><th>distance_m_roads</th><th>distance_m_rivers</th></tr><tr><td>str</td><td>f64</td><td>f64</td><td>f64</td><td>f64</td><td>f64</td><td>f64</td><td>f64</td><td>f64</td><td>f64</td><td>f64</td><td>f64</td><td>f64</td><td>f64</td></tr></thead><tbody><tr><td>&quot;03223013331131…</td><td>616.535714</td><td>16.321429</td><td>103.142857</td><td>115.053571</td><td>1768.910867</td><td>331.160714</td><td>300.901786</td><td>279.017857</td><td>263.821429</td><td>345.0</td><td>390.848214</td><td>898.256797</td><td>5096.987494</td></tr><tr><td>&quot;03223013331131…</td><td>607.95</td><td>14.183333</td><td>97.933333</td><td>112.6</td><td>1738.617017</td><td>336.033333</td><td>306.341667</td><td>279.058333</td><td>266.008333</td><td>343.075</td><td>386.166667</td><td>961.398781</td><td>5101.554011</td></tr><tr><td>&quot;03223013331131…</td><td>636.142857</td><td>16.257143</td><td>104.6</td><td>121.071429</td><td>1751.852609</td><td>334.671429</td><td>307.05</td><td>280.364286</td><td>268.042857</td><td>349.078571</td><td>389.378571</td><td>885.60206</td><td>5047.859659</td></tr><tr><td>&quot;03223013331131…</td><td>561.956522</td><td>16.652174</td><td>88.304348</td><td>106.021739</td><td>1834.327074</td><td>323.75</td><td>298.847826</td><td>281.891304</td><td>271.391304</td><td>350.836957</td><td>386.478261</td><td>746.03176</td><td>5054.777113</td></tr><tr><td>&quot;03223013331131…</td><td>618.76</td><td>17.72</td><td>100.84</td><td>113.94</td><td>1796.676309</td><td>332.25</td><td>304.12</td><td>284.63</td><td>271.58</td><td>353.05</td><td>394.54</td><td>814.063313</td><td>5079.217917</td></tr></tbody></table></div>"
      ],
      "text/plain": [
       "shape: (5, 14)\n",
       "┌───────────┬───────────┬───────────┬───────────┬───┬───────────┬───────────┬───────────┬──────────┐\n",
       "│ quadkey   ┆ elevation ┆ slope_med ┆ aspect_me ┆ … ┆ clay_5-15 ┆ clay_100- ┆ distance_ ┆ distance │\n",
       "│ ---       ┆ _median   ┆ ian       ┆ dian      ┆   ┆ cm_mean   ┆ 200cm_mea ┆ m_roads   ┆ _m_river │\n",
       "│ str       ┆ ---       ┆ ---       ┆ ---       ┆   ┆ ---       ┆ n         ┆ ---       ┆ s        │\n",
       "│           ┆ f64       ┆ f64       ┆ f64       ┆   ┆ f64       ┆ ---       ┆ f64       ┆ ---      │\n",
       "│           ┆           ┆           ┆           ┆   ┆           ┆ f64       ┆           ┆ f64      │\n",
       "╞═══════════╪═══════════╪═══════════╪═══════════╪═══╪═══════════╪═══════════╪═══════════╪══════════╡\n",
       "│ 032230133 ┆ 616.53571 ┆ 16.321429 ┆ 103.14285 ┆ … ┆ 345.0     ┆ 390.84821 ┆ 898.25679 ┆ 5096.987 │\n",
       "│ 311313231 ┆ 4         ┆           ┆ 7         ┆   ┆           ┆ 4         ┆ 7         ┆ 494      │\n",
       "│ 032230133 ┆ 607.95    ┆ 14.183333 ┆ 97.933333 ┆ … ┆ 343.075   ┆ 386.16666 ┆ 961.39878 ┆ 5101.554 │\n",
       "│ 311313232 ┆           ┆           ┆           ┆   ┆           ┆ 7         ┆ 1         ┆ 011      │\n",
       "│ 032230133 ┆ 636.14285 ┆ 16.257143 ┆ 104.6     ┆ … ┆ 349.07857 ┆ 389.37857 ┆ 885.60206 ┆ 5047.859 │\n",
       "│ 311313233 ┆ 7         ┆           ┆           ┆   ┆ 1         ┆ 1         ┆           ┆ 659      │\n",
       "│ 032230133 ┆ 561.95652 ┆ 16.652174 ┆ 88.304348 ┆ … ┆ 350.83695 ┆ 386.47826 ┆ 746.03176 ┆ 5054.777 │\n",
       "│ 311313301 ┆ 2         ┆           ┆           ┆   ┆ 7         ┆ 1         ┆           ┆ 113      │\n",
       "│ 032230133 ┆ 618.76    ┆ 17.72     ┆ 100.84    ┆ … ┆ 353.05    ┆ 394.54    ┆ 814.06331 ┆ 5079.217 │\n",
       "│ 311313302 ┆           ┆           ┆           ┆   ┆           ┆           ┆ 3         ┆ 917      │\n",
       "└───────────┴───────────┴───────────┴───────────┴───┴───────────┴───────────┴───────────┴──────────┘"
      ]
     },
     "execution_count": 24,
     "metadata": {},
     "output_type": "execute_result"
    }
   ],
   "source": [
    "agg_expr = [(pl.col(col) * lattice_weight_multiplier).mean() for col in aggregated_cols]\n",
    "\n",
    "aggregated_metrics = (\n",
    "    features_df.select([\"quadkey\"] + aggregated_cols)\n",
    "    .rename({\"quadkey\": \"lattice_quadkey\"})\n",
    "    .join(\n",
    "        lattice_df,\n",
    "        on=\"lattice_quadkey\",\n",
    "        how=\"inner\",\n",
    "        validate=\"1:m\",\n",
    "    )\n",
    "    .drop(\"lattice_quadkey\")\n",
    "    .with_columns(chebyshev_count_exprs)\n",
    "    .with_columns(lattice_weight_exprs)\n",
    "    .group_by(\"center_quadkey\")\n",
    "    .agg(agg_expr)\n",
    "    .rename({\"center_quadkey\": \"quadkey\"})\n",
    "    .sort(by=\"quadkey\")\n",
    ")\n",
    "print(len(aggregated_metrics))\n",
    "aggregated_metrics.head()"
   ]
  },
  {
   "cell_type": "code",
   "execution_count": 25,
   "metadata": {},
   "outputs": [],
   "source": [
    "aggregated_metrics = aggregated_metrics.with_columns(\n",
    "    pl.all().name.suffix(f\"_lattice_{LATTICE_RADIUS}\")\n",
    ")"
   ]
  },
  {
   "cell_type": "code",
   "execution_count": 26,
   "metadata": {},
   "outputs": [],
   "source": [
    "aggregated_metrics = aggregated_metrics.select(f\"^.*_lattice_{LATTICE_RADIUS}$\").rename(\n",
    "    {f\"quadkey_lattice_{LATTICE_RADIUS}\": \"quadkey\"}\n",
    ")"
   ]
  },
  {
   "cell_type": "markdown",
   "metadata": {},
   "source": [
    "## Aggregation for lithology type"
   ]
  },
  {
   "cell_type": "code",
   "execution_count": 27,
   "metadata": {},
   "outputs": [
    {
     "name": "stdout",
     "output_type": "stream",
     "text": [
      "221152\n"
     ]
    },
    {
     "data": {
      "text/html": [
       "<div><style>\n",
       ".dataframe > thead > tr,\n",
       ".dataframe > tbody > tr {\n",
       "  text-align: right;\n",
       "  white-space: pre-wrap;\n",
       "}\n",
       "</style>\n",
       "<small>shape: (5, 2)</small><table border=\"1\" class=\"dataframe\"><thead><tr><th>quadkey</th><th>lithology_type_lattice_3</th></tr><tr><td>str</td><td>list[f64]</td></tr></thead><tbody><tr><td>&quot;03223013331131…</td><td>[42.0]</td></tr><tr><td>&quot;03223013331131…</td><td>[42.0]</td></tr><tr><td>&quot;03223013331131…</td><td>[42.0]</td></tr><tr><td>&quot;03223013331131…</td><td>[42.0]</td></tr><tr><td>&quot;03223013331131…</td><td>[42.0]</td></tr></tbody></table></div>"
      ],
      "text/plain": [
       "shape: (5, 2)\n",
       "┌────────────────────┬──────────────────────────┐\n",
       "│ quadkey            ┆ lithology_type_lattice_3 │\n",
       "│ ---                ┆ ---                      │\n",
       "│ str                ┆ list[f64]                │\n",
       "╞════════════════════╪══════════════════════════╡\n",
       "│ 032230133311313231 ┆ [42.0]                   │\n",
       "│ 032230133311313232 ┆ [42.0]                   │\n",
       "│ 032230133311313233 ┆ [42.0]                   │\n",
       "│ 032230133311313301 ┆ [42.0]                   │\n",
       "│ 032230133311313302 ┆ [42.0]                   │\n",
       "└────────────────────┴──────────────────────────┘"
      ]
     },
     "execution_count": 27,
     "metadata": {},
     "output_type": "execute_result"
    }
   ],
   "source": [
    "lithology_metrics = (\n",
    "    features_df.select([\"quadkey\"] + [\"lithology_type\"])\n",
    "    .rename({\"quadkey\": \"lattice_quadkey\"})\n",
    "    .join(\n",
    "        lattice_df,\n",
    "        on=\"lattice_quadkey\",\n",
    "        how=\"inner\",\n",
    "        validate=\"1:m\",\n",
    "    )\n",
    "    .drop(\"lattice_quadkey\")\n",
    "    .with_columns(chebyshev_count_exprs)\n",
    "    .with_columns(lattice_weight_exprs)\n",
    "    .group_by(\"center_quadkey\")\n",
    "    .agg(pl.col(\"lithology_type\").mode())\n",
    "    .rename(\n",
    "        {\n",
    "            \"center_quadkey\": \"quadkey\",\n",
    "            \"lithology_type\": f\"lithology_type_lattice_{LATTICE_RADIUS}\",\n",
    "        }\n",
    "    )\n",
    "    .sort(by=\"quadkey\")\n",
    ")\n",
    "print(len(lithology_metrics))\n",
    "lithology_metrics.head()"
   ]
  },
  {
   "cell_type": "code",
   "execution_count": 28,
   "metadata": {},
   "outputs": [
    {
     "data": {
      "text/html": [
       "<div><style>\n",
       ".dataframe > thead > tr,\n",
       ".dataframe > tbody > tr {\n",
       "  text-align: right;\n",
       "  white-space: pre-wrap;\n",
       "}\n",
       "</style>\n",
       "<small>shape: (5, 2)</small><table border=\"1\" class=\"dataframe\"><thead><tr><th>quadkey</th><th>lithology_type_lattice_3</th></tr><tr><td>str</td><td>f64</td></tr></thead><tbody><tr><td>&quot;03223013331131…</td><td>42.0</td></tr><tr><td>&quot;03223013331131…</td><td>42.0</td></tr><tr><td>&quot;03223013331131…</td><td>42.0</td></tr><tr><td>&quot;03223013331131…</td><td>42.0</td></tr><tr><td>&quot;03223013331131…</td><td>42.0</td></tr></tbody></table></div>"
      ],
      "text/plain": [
       "shape: (5, 2)\n",
       "┌────────────────────┬──────────────────────────┐\n",
       "│ quadkey            ┆ lithology_type_lattice_3 │\n",
       "│ ---                ┆ ---                      │\n",
       "│ str                ┆ f64                      │\n",
       "╞════════════════════╪══════════════════════════╡\n",
       "│ 032230133311313231 ┆ 42.0                     │\n",
       "│ 032230133311313232 ┆ 42.0                     │\n",
       "│ 032230133311313233 ┆ 42.0                     │\n",
       "│ 032230133311313301 ┆ 42.0                     │\n",
       "│ 032230133311313302 ┆ 42.0                     │\n",
       "└────────────────────┴──────────────────────────┘"
      ]
     },
     "execution_count": 28,
     "metadata": {},
     "output_type": "execute_result"
    }
   ],
   "source": [
    "# get first element from mode list\n",
    "lithology_metrics = (\n",
    "    lithology_metrics.with_row_index()\n",
    "    .with_columns(\n",
    "        pl.col(f\"lithology_type_lattice_{LATTICE_RADIUS}\")\n",
    "        .explode()\n",
    "        .gather(0)\n",
    "        .over(pl.col(\"index\"))\n",
    "    )\n",
    "    .drop(\"index\")\n",
    ")\n",
    "lithology_metrics.head()"
   ]
  },
  {
   "cell_type": "code",
   "execution_count": 29,
   "metadata": {},
   "outputs": [],
   "source": [
    "lattice_features = priority_city_feat.join(lithology_metrics, on=\"quadkey\").join(\n",
    "    aggregated_metrics, on=\"quadkey\"\n",
    ")"
   ]
  },
  {
   "cell_type": "code",
   "execution_count": 30,
   "metadata": {},
   "outputs": [
    {
     "data": {
      "text/plain": [
       "(shape: (5, 67)\n",
       " ┌───────────┬───────────┬───────────┬───────────┬───┬───────────┬───────────┬───────────┬──────────┐\n",
       " │ quadkey   ┆ MPIO_CCNC ┆ MPIO_CNMB ┆ MPIO_CNMB ┆ … ┆ clay_5-15 ┆ clay_100- ┆ distance_ ┆ distance │\n",
       " │ ---       ┆ T         ┆ R         ┆ R_EN      ┆   ┆ cm_mean_l ┆ 200cm_mea ┆ m_roads_l ┆ _m_river │\n",
       " │ str       ┆ ---       ┆ ---       ┆ ---       ┆   ┆ attice_3  ┆ n_lattice ┆ attice_3  ┆ s_lattic │\n",
       " │           ┆ str       ┆ str       ┆ str       ┆   ┆ ---       ┆ _3        ┆ ---       ┆ e_3      │\n",
       " │           ┆           ┆           ┆           ┆   ┆ f64       ┆ ---       ┆ f64       ┆ ---      │\n",
       " │           ┆           ┆           ┆           ┆   ┆           ┆ f64       ┆           ┆ f64      │\n",
       " ╞═══════════╪═══════════╪═══════════╪═══════════╪═══╪═══════════╪═══════════╪═══════════╪══════════╡\n",
       " │ 032230133 ┆ 54250     ┆ EL TARRA  ┆ EL TARRA  ┆ … ┆ 345.0     ┆ 390.84821 ┆ 898.25679 ┆ 5096.987 │\n",
       " │ 311313231 ┆           ┆           ┆           ┆   ┆           ┆ 4         ┆ 7         ┆ 494      │\n",
       " │ 032230133 ┆ 54250     ┆ EL TARRA  ┆ EL TARRA  ┆ … ┆ 343.075   ┆ 386.16666 ┆ 961.39878 ┆ 5101.554 │\n",
       " │ 311313232 ┆           ┆           ┆           ┆   ┆           ┆ 7         ┆ 1         ┆ 011      │\n",
       " │ 032230133 ┆ 54250     ┆ EL TARRA  ┆ EL TARRA  ┆ … ┆ 349.07857 ┆ 389.37857 ┆ 885.60206 ┆ 5047.859 │\n",
       " │ 311313233 ┆           ┆           ┆           ┆   ┆ 1         ┆ 1         ┆           ┆ 659      │\n",
       " │ 032230133 ┆ 54250     ┆ EL TARRA  ┆ EL TARRA  ┆ … ┆ 350.83695 ┆ 386.47826 ┆ 746.03176 ┆ 5054.777 │\n",
       " │ 311313301 ┆           ┆           ┆           ┆   ┆ 7         ┆ 1         ┆           ┆ 113      │\n",
       " │ 032230133 ┆ 54250     ┆ EL TARRA  ┆ EL TARRA  ┆ … ┆ 353.05    ┆ 394.54    ┆ 814.06331 ┆ 5079.217 │\n",
       " │ 311313302 ┆           ┆           ┆           ┆   ┆           ┆           ┆ 3         ┆ 917      │\n",
       " └───────────┴───────────┴───────────┴───────────┴───┴───────────┴───────────┴───────────┴──────────┘,\n",
       " (221152, 67))"
      ]
     },
     "execution_count": 30,
     "metadata": {},
     "output_type": "execute_result"
    }
   ],
   "source": [
    "lattice_features.head(), lattice_features.shape"
   ]
  },
  {
   "cell_type": "code",
   "execution_count": 31,
   "metadata": {},
   "outputs": [],
   "source": [
    "lattice_features = lattice_features.drop(\"__index_level_0__\")"
   ]
  },
  {
   "cell_type": "markdown",
   "metadata": {},
   "source": [
    "## Impute missing values for lattice features"
   ]
  },
  {
   "cell_type": "code",
   "execution_count": 32,
   "metadata": {},
   "outputs": [
    {
     "data": {
      "text/html": [
       "<div><style>\n",
       ".dataframe > thead > tr,\n",
       ".dataframe > tbody > tr {\n",
       "  text-align: right;\n",
       "  white-space: pre-wrap;\n",
       "}\n",
       "</style>\n",
       "<small>shape: (1, 66)</small><table border=\"1\" class=\"dataframe\"><thead><tr><th>quadkey</th><th>MPIO_CCNCT</th><th>MPIO_CNMBR</th><th>MPIO_CNMBR_EN</th><th>DPTO_CNMBR</th><th>DPTO_CNMBR_EN</th><th>Municipio</th><th>Municipio_EN</th><th>DPTO_CCDGO</th><th>MPIO_CCDGO</th><th>MPIO_CRSLC</th><th>MPIO_NAREA</th><th>MPIO_NANO</th><th>SHAPE_AREA</th><th>SHAPE_LEN</th><th>slope_min</th><th>slope_max</th><th>slope_count</th><th>slope_median</th><th>aspect_min</th><th>aspect_max</th><th>aspect_count</th><th>aspect_median</th><th>soil_class</th><th>elevation_min</th><th>elevation_max</th><th>elevation_count</th><th>elevation_median</th><th>ndvi2023_min</th><th>ndvi2023_max</th><th>ndvi2023_count</th><th>ndvi2023_median</th><th>rainfall_mm_min</th><th>rainfall_mm_max</th><th>rainfall_mm_count</th><th>rainfall_mm_median</th><th>lithology_type</th><th>sand_5-15cm_mean</th><th>sand_100-200cm_mean</th><th>silt_5-15cm_mean</th><th>silt_100-200cm_mean</th><th>clay_5-15cm_mean</th><th>clay_100-200cm_mean</th><th>hillshade_min</th><th>hillshade_max</th><th>hillshade_count</th><th>hillshade_median</th><th>distance_m_roads</th><th>distance_m_rivers</th><th>x</th><th>y</th><th>z</th><th>lithology_type_lattice_3</th><th>elevation_median_lattice_3</th><th>slope_median_lattice_3</th><th>aspect_median_lattice_3</th><th>hillshade_median_lattice_3</th><th>rainfall_mm_median_lattice_3</th><th>sand_5-15cm_mean_lattice_3</th><th>sand_100-200cm_mean_lattice_3</th><th>silt_5-15cm_mean_lattice_3</th><th>silt_100-200cm_mean_lattice_3</th><th>clay_5-15cm_mean_lattice_3</th><th>clay_100-200cm_mean_lattice_3</th><th>distance_m_roads_lattice_3</th><th>distance_m_rivers_lattice_3</th></tr><tr><td>u32</td><td>u32</td><td>u32</td><td>u32</td><td>u32</td><td>u32</td><td>u32</td><td>u32</td><td>u32</td><td>u32</td><td>u32</td><td>u32</td><td>u32</td><td>u32</td><td>u32</td><td>u32</td><td>u32</td><td>u32</td><td>u32</td><td>u32</td><td>u32</td><td>u32</td><td>u32</td><td>u32</td><td>u32</td><td>u32</td><td>u32</td><td>u32</td><td>u32</td><td>u32</td><td>u32</td><td>u32</td><td>u32</td><td>u32</td><td>u32</td><td>u32</td><td>u32</td><td>u32</td><td>u32</td><td>u32</td><td>u32</td><td>u32</td><td>u32</td><td>u32</td><td>u32</td><td>u32</td><td>u32</td><td>u32</td><td>u32</td><td>u32</td><td>u32</td><td>u32</td><td>u32</td><td>u32</td><td>u32</td><td>u32</td><td>u32</td><td>u32</td><td>u32</td><td>u32</td><td>u32</td><td>u32</td><td>u32</td><td>u32</td><td>u32</td><td>u32</td></tr></thead><tbody><tr><td>0</td><td>0</td><td>0</td><td>0</td><td>0</td><td>0</td><td>0</td><td>0</td><td>0</td><td>0</td><td>0</td><td>0</td><td>0</td><td>0</td><td>0</td><td>0</td><td>0</td><td>0</td><td>0</td><td>0</td><td>0</td><td>0</td><td>0</td><td>0</td><td>0</td><td>0</td><td>0</td><td>0</td><td>0</td><td>0</td><td>0</td><td>0</td><td>0</td><td>0</td><td>0</td><td>0</td><td>0</td><td>0</td><td>0</td><td>0</td><td>0</td><td>0</td><td>0</td><td>0</td><td>0</td><td>0</td><td>0</td><td>0</td><td>0</td><td>0</td><td>0</td><td>0</td><td>0</td><td>0</td><td>0</td><td>0</td><td>0</td><td>0</td><td>0</td><td>0</td><td>0</td><td>0</td><td>0</td><td>0</td><td>0</td><td>0</td></tr></tbody></table></div>"
      ],
      "text/plain": [
       "shape: (1, 66)\n",
       "┌─────────┬────────────┬───────────┬───────────┬───┬───────────┬───────────┬───────────┬───────────┐\n",
       "│ quadkey ┆ MPIO_CCNCT ┆ MPIO_CNMB ┆ MPIO_CNMB ┆ … ┆ clay_5-15 ┆ clay_100- ┆ distance_ ┆ distance_ │\n",
       "│ ---     ┆ ---        ┆ R         ┆ R_EN      ┆   ┆ cm_mean_l ┆ 200cm_mea ┆ m_roads_l ┆ m_rivers_ │\n",
       "│ u32     ┆ u32        ┆ ---       ┆ ---       ┆   ┆ attice_3  ┆ n_lattice ┆ attice_3  ┆ lattice_3 │\n",
       "│         ┆            ┆ u32       ┆ u32       ┆   ┆ ---       ┆ _3        ┆ ---       ┆ ---       │\n",
       "│         ┆            ┆           ┆           ┆   ┆ u32       ┆ ---       ┆ u32       ┆ u32       │\n",
       "│         ┆            ┆           ┆           ┆   ┆           ┆ u32       ┆           ┆           │\n",
       "╞═════════╪════════════╪═══════════╪═══════════╪═══╪═══════════╪═══════════╪═══════════╪═══════════╡\n",
       "│ 0       ┆ 0          ┆ 0         ┆ 0         ┆ … ┆ 0         ┆ 0         ┆ 0         ┆ 0         │\n",
       "└─────────┴────────────┴───────────┴───────────┴───┴───────────┴───────────┴───────────┴───────────┘"
      ]
     },
     "execution_count": 32,
     "metadata": {},
     "output_type": "execute_result"
    }
   ],
   "source": [
    "lattice_features.select(pl.all().is_null().sum())"
   ]
  },
  {
   "cell_type": "code",
   "execution_count": 35,
   "metadata": {},
   "outputs": [],
   "source": [
    "lattice_features.write_parquet(OUTPUT_FPATH)"
   ]
  }
 ],
 "metadata": {
  "kernelspec": {
   "display_name": "immap-evidem",
   "language": "python",
   "name": "python3"
  },
  "language_info": {
   "codemirror_mode": {
    "name": "ipython",
    "version": 3
   },
   "file_extension": ".py",
   "mimetype": "text/x-python",
   "name": "python",
   "nbconvert_exporter": "python",
   "pygments_lexer": "ipython3",
   "version": "3.9.18"
  }
 },
 "nbformat": 4,
 "nbformat_minor": 2
}
