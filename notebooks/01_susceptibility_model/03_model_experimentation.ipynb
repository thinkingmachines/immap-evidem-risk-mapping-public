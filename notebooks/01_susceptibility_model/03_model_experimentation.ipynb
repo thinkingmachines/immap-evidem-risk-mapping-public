{
 "cells": [
  {
   "cell_type": "markdown",
   "metadata": {},
   "source": [
    "# Model Experimentation\n",
    "\n",
    "This notebook runs model experiments and evaluates performance using train/test split and cross-fold validation. This is where you can experiment the impact of the type of feature you include in the model training and also test if the generated training dataset is effective in our use-case.\n",
    "\n",
    "### Input\n",
    "- training data\n",
    "- model parameters\n",
    "\n",
    "### Output\n",
    "- metrics for CSV\n",
    "- test data prediction"
   ]
  },
  {
   "cell_type": "markdown",
   "metadata": {},
   "source": [
    "# Imports and Set-up\n",
    "\n",
    "*DO NOT SKIP THIS SECTION.* This section imports the packages needed to run this notebook and initializes the data file paths."
   ]
  },
  {
   "cell_type": "code",
   "execution_count": 1,
   "metadata": {},
   "outputs": [],
   "source": [
    "%load_ext autoreload\n",
    "%autoreload 2"
   ]
  },
  {
   "cell_type": "code",
   "execution_count": 2,
   "metadata": {},
   "outputs": [],
   "source": [
    "import sys\n",
    "import polars as pl\n",
    "import pandas as pd"
   ]
  },
  {
   "cell_type": "code",
   "execution_count": 3,
   "metadata": {},
   "outputs": [],
   "source": [
    "sys.path.append(\"../../\")  # include parent directory\n",
    "import src.model_utils as model_utils\n",
    "from src.polars_utils import log_condition, log_duplicates"
   ]
  },
  {
   "cell_type": "code",
   "execution_count": 4,
   "metadata": {},
   "outputs": [],
   "source": [
    "from src.settings import DATA_DIR\n",
    "\n",
    "MODEL_DIR = DATA_DIR / \"models\"\n",
    "OUTPUT_DIR = DATA_DIR / \"output/component_1\"\n",
    "\n",
    "OUTPUT_VERSION = pd.to_datetime(\"today\").strftime(\"%Y%m%d\")"
   ]
  },
  {
   "cell_type": "code",
   "execution_count": 5,
   "metadata": {},
   "outputs": [],
   "source": [
    "TRAIN_VERSION = \"20240504\"\n",
    "LATTICE_RADIUS = 3\n",
    "if LATTICE_RADIUS != 0:\n",
    "    TRAIN_TABLE_FPATH = (\n",
    "        MODEL_DIR\n",
    "        / f\"training_data/training_data_w_lattice{LATTICE_RADIUS}_{TRAIN_VERSION}.parquet\"\n",
    "    )\n",
    "else:\n",
    "    TRAIN_TABLE_FPATH = (\n",
    "        MODEL_DIR / f\"training_data/training_data_{TRAIN_VERSION}.parquet\"\n",
    "    )"
   ]
  },
  {
   "cell_type": "code",
   "execution_count": 6,
   "metadata": {},
   "outputs": [],
   "source": [
    "KEY_COLS = [\"quadkey\"]\n",
    "LABEL_COLS = [\"label\", \"label_binary\", \"MOV_TYPE\", \"label_multiclass\"]\n",
    "MULTICLASS = True\n",
    "if MULTICLASS:\n",
    "    LABEL_COL = \"label_multiclass\"  # choose either label_binary or label_multiclass\n",
    "    AVERAGING_METHOD = \"weighted\"  # binary if 2 classes, use weighted if multiclass\n",
    "else:\n",
    "    LABEL_COL = \"label_binary\"  # choose either label_binary or label_multiclass\n",
    "    AVERAGING_METHOD = \"binary\"  # binary if 2 classes, use weighted if multiclass\n",
    "AREA_COLS = [\n",
    "    \"MPIO_CCNCT\",\n",
    "    \"MPIO_CNMBR\",\n",
    "    \"MPIO_CNMBR_EN\",\n",
    "    \"DPTO_CNMBR\",\n",
    "    \"DPTO_CNMBR_EN\",\n",
    "    \"Municipio\",\n",
    "    \"Municipio_EN\",\n",
    "    \"DPTO_CCDGO\",\n",
    "    \"MPIO_CCDGO\",\n",
    "    \"MPIO_CRSLC\",\n",
    "    \"MPIO_NAREA\",\n",
    "    \"MPIO_NANO\",\n",
    "    \"SHAPE_AREA\",\n",
    "    \"SHAPE_LEN\",\n",
    "    \"OBJECTID\",\n",
    "    \"source\",\n",
    "]\n",
    "EXC_COLS = [\n",
    "    \"source\",\n",
    "    \"x\",\n",
    "    \"y\",\n",
    "    \"z\",\n",
    "    \"slope_count\",\n",
    "    \"slope_min\",\n",
    "    \"slope_max\",\n",
    "    \"aspect_count\",\n",
    "    \"aspect_max\",\n",
    "    \"aspect_min\",\n",
    "    \"elevation_min\",\n",
    "    \"elevation_max\",\n",
    "    \"elevation_count\",\n",
    "    \"rainfall_mm_count\",\n",
    "    \"rainfall_mm_min\",\n",
    "    \"rainfall_mm_max\",\n",
    "    \"hillshade_count\",\n",
    "    \"hillshade_min\",\n",
    "    \"hillshade_max\",\n",
    "    \"hillshade_count\",\n",
    "    \"ndvi2023_min\",\n",
    "    \"ndvi2023_max\",\n",
    "    \"ndvi2023_count\",\n",
    "    \"ndvi2023_median\",\n",
    "    \"__index_level_0__\",\n",
    "    \"geometry\",\n",
    "]"
   ]
  },
  {
   "cell_type": "markdown",
   "metadata": {},
   "source": [
    "## Dataset"
   ]
  },
  {
   "cell_type": "code",
   "execution_count": 7,
   "metadata": {},
   "outputs": [],
   "source": [
    "if TRAIN_TABLE_FPATH.exists():\n",
    "    features_df = pl.read_parquet(TRAIN_TABLE_FPATH)\n",
    "else:\n",
    "    TRAIN_TABLE_FNAME = TRAIN_TABLE_FPATH.name\n",
    "    !gsutil -m cp gs://immap-models/training_data/$TRAIN_TABLE_FNAME $TRAIN_TABLE_FPATH\n",
    "    features_df = pl.read_parquet(TRAIN_TABLE_FPATH)"
   ]
  },
  {
   "cell_type": "code",
   "execution_count": 8,
   "metadata": {},
   "outputs": [
    {
     "data": {
      "text/html": [
       "<div><style>\n",
       ".dataframe > thead > tr,\n",
       ".dataframe > tbody > tr {\n",
       "  text-align: right;\n",
       "  white-space: pre-wrap;\n",
       "}\n",
       "</style>\n",
       "<small>shape: (2, 66)</small><table border=\"1\" class=\"dataframe\"><thead><tr><th>quadkey</th><th>x</th><th>y</th><th>z</th><th>MOV_TYPE</th><th>source</th><th>OBJECTID</th><th>MPIO_CCNCT</th><th>MPIO_CNMBR</th><th>MPIO_CNMBR_EN</th><th>DPTO_CNMBR</th><th>DPTO_CNMBR_EN</th><th>Municipio</th><th>Municipio_EN</th><th>DPTO_CCDGO</th><th>MPIO_CCDGO</th><th>slope_min</th><th>slope_max</th><th>slope_count</th><th>slope_median</th><th>aspect_min</th><th>aspect_max</th><th>aspect_count</th><th>aspect_median</th><th>soil_class</th><th>elevation_min</th><th>elevation_max</th><th>elevation_count</th><th>elevation_median</th><th>ndvi2023_min</th><th>ndvi2023_max</th><th>ndvi2023_count</th><th>ndvi2023_median</th><th>rainfall_mm_min</th><th>rainfall_mm_max</th><th>rainfall_mm_count</th><th>rainfall_mm_median</th><th>__index_level_0__</th><th>lithology_type</th><th>sand_5-15cm_mean</th><th>sand_100-200cm_mean</th><th>silt_5-15cm_mean</th><th>silt_100-200cm_mean</th><th>clay_5-15cm_mean</th><th>clay_100-200cm_mean</th><th>hillshade_min</th><th>hillshade_max</th><th>hillshade_count</th><th>hillshade_median</th><th>distance_m_roads</th><th>distance_m_rivers</th><th>lithology_type_lattice_3</th><th>soil_class_lattice_3</th><th>elevation_median_lattice_3</th><th>slope_median_lattice_3</th><th>aspect_median_lattice_3</th><th>hillshade_median_lattice_3</th><th>rainfall_mm_median_lattice_3</th><th>sand_5-15cm_mean_lattice_3</th><th>sand_100-200cm_mean_lattice_3</th><th>silt_5-15cm_mean_lattice_3</th><th>silt_100-200cm_mean_lattice_3</th><th>clay_5-15cm_mean_lattice_3</th><th>clay_100-200cm_mean_lattice_3</th><th>distance_m_roads_lattice_3</th><th>distance_m_rivers_lattice_3</th></tr><tr><td>str</td><td>i64</td><td>i64</td><td>i64</td><td>str</td><td>str</td><td>str</td><td>i64</td><td>str</td><td>str</td><td>str</td><td>str</td><td>str</td><td>str</td><td>i64</td><td>i64</td><td>f64</td><td>f64</td><td>i64</td><td>f64</td><td>f64</td><td>f64</td><td>i64</td><td>f64</td><td>f64</td><td>f64</td><td>f64</td><td>i64</td><td>f64</td><td>f64</td><td>f64</td><td>f64</td><td>f64</td><td>f64</td><td>f64</td><td>f64</td><td>f64</td><td>i64</td><td>f64</td><td>f64</td><td>f64</td><td>f64</td><td>f64</td><td>f64</td><td>f64</td><td>f64</td><td>f64</td><td>i64</td><td>f64</td><td>f64</td><td>f64</td><td>f64</td><td>f64</td><td>f64</td><td>f64</td><td>f64</td><td>f64</td><td>f64</td><td>f64</td><td>f64</td><td>f64</td><td>f64</td><td>f64</td><td>f64</td><td>f64</td><td>f64</td></tr></thead><tbody><tr><td>&quot;03223010120123…</td><td>76381</td><td>123199</td><td>18</td><td>&quot;landslide&quot;</td><td>&quot;landslide_inve…</td><td>&quot;nan&quot;</td><td>8549</td><td>&quot;PIOJÓ&quot;</td><td>&quot;PIOJO&quot;</td><td>&quot;ATLÁNTICO&quot;</td><td>&quot;ATLANTICO&quot;</td><td>&quot;Piojó&quot;</td><td>&quot;Piojo&quot;</td><td>8</td><td>549</td><td>2.0</td><td>17.0</td><td>36</td><td>8.0</td><td>0.0</td><td>352.0</td><td>256</td><td>309.0</td><td>0.0</td><td>297.0</td><td>326.0</td><td>256</td><td>317.0</td><td>0.114671</td><td>0.494776</td><td>240.0</td><td>0.317509</td><td>2184.866699</td><td>2184.866699</td><td>1.0</td><td>2184.866699</td><td>1138318</td><td>168.0</td><td>342.0</td><td>289.0</td><td>319.0</td><td>302.5</td><td>338.5</td><td>408.5</td><td>163.0</td><td>223.0</td><td>256</td><td>183.0</td><td>0.0</td><td>1493.422583</td><td>168.0</td><td>0.0</td><td>317.0</td><td>8.0</td><td>309.0</td><td>183.0</td><td>2184.866699</td><td>342.0</td><td>289.0</td><td>319.0</td><td>302.5</td><td>338.5</td><td>408.5</td><td>0.0</td><td>1493.422583</td></tr><tr><td>&quot;03223010120133…</td><td>76410</td><td>123189</td><td>18</td><td>&quot;non_landslide&quot;</td><td>null</td><td>&quot;03223010120133…</td><td>8549</td><td>&quot;PIOJÓ&quot;</td><td>&quot;PIOJO&quot;</td><td>&quot;ATLÁNTICO&quot;</td><td>&quot;ATLANTICO&quot;</td><td>&quot;Piojó&quot;</td><td>&quot;Piojo&quot;</td><td>8</td><td>549</td><td>1.0</td><td>14.0</td><td>36</td><td>6.5</td><td>0.0</td><td>344.0</td><td>272</td><td>270.0</td><td>6.0</td><td>125.0</td><td>146.0</td><td>272</td><td>141.0</td><td>0.404474</td><td>0.562933</td><td>225.0</td><td>0.512943</td><td>1664.335571</td><td>1664.335571</td><td>1.0</td><td>1664.335571</td><td>1136886</td><td>168.0</td><td>339.5</td><td>311.0</td><td>304.0</td><td>276.0</td><td>356.5</td><td>412.5</td><td>166.0</td><td>215.0</td><td>272</td><td>186.0</td><td>784.422821</td><td>1003.273334</td><td>168.0</td><td>6.0</td><td>141.0</td><td>6.5</td><td>270.0</td><td>186.0</td><td>1664.335571</td><td>339.5</td><td>311.0</td><td>304.0</td><td>276.0</td><td>356.5</td><td>412.5</td><td>784.422821</td><td>1003.273334</td></tr></tbody></table></div>"
      ],
      "text/plain": [
       "shape: (2, 66)\n",
       "┌──────────────┬───────┬────────┬─────┬───┬──────────────┬─────────────┬─────────────┬─────────────┐\n",
       "│ quadkey      ┆ x     ┆ y      ┆ z   ┆ … ┆ clay_5-15cm_ ┆ clay_100-20 ┆ distance_m_ ┆ distance_m_ │\n",
       "│ ---          ┆ ---   ┆ ---    ┆ --- ┆   ┆ mean_lattice ┆ 0cm_mean_la ┆ roads_latti ┆ rivers_latt │\n",
       "│ str          ┆ i64   ┆ i64    ┆ i64 ┆   ┆ _3           ┆ ttice_3     ┆ ce_3        ┆ ice_3       │\n",
       "│              ┆       ┆        ┆     ┆   ┆ ---          ┆ ---         ┆ ---         ┆ ---         │\n",
       "│              ┆       ┆        ┆     ┆   ┆ f64          ┆ f64         ┆ f64         ┆ f64         │\n",
       "╞══════════════╪═══════╪════════╪═════╪═══╪══════════════╪═════════════╪═════════════╪═════════════╡\n",
       "│ 032230101202 ┆ 76296 ┆ 123204 ┆ 18  ┆ … ┆ 0.0          ┆ 0.0         ┆ 2331.088722 ┆ 1054.576276 │\n",
       "│ 001200       ┆       ┆        ┆     ┆   ┆              ┆             ┆             ┆             │\n",
       "│ 032230101202 ┆ 76317 ┆ 123200 ┆ 18  ┆ … ┆ 407.5        ┆ 403.75      ┆ 307.870608  ┆ 1304.524066 │\n",
       "│ 011101       ┆       ┆        ┆     ┆   ┆              ┆             ┆             ┆             │\n",
       "└──────────────┴───────┴────────┴─────┴───┴──────────────┴─────────────┴─────────────┴─────────────┘"
      ]
     },
     "execution_count": 8,
     "metadata": {},
     "output_type": "execute_result"
    }
   ],
   "source": [
    "features_df.head(2)"
   ]
  },
  {
   "cell_type": "code",
   "execution_count": 9,
   "metadata": {},
   "outputs": [
    {
     "data": {
      "text/plain": [
       "(3299, 66)"
      ]
     },
     "execution_count": 9,
     "metadata": {},
     "output_type": "execute_result"
    }
   ],
   "source": [
    "features_df.shape"
   ]
  },
  {
   "cell_type": "code",
   "execution_count": 10,
   "metadata": {},
   "outputs": [],
   "source": [
    "features_df = features_df.unique(subset=[\"quadkey\"])"
   ]
  },
  {
   "cell_type": "code",
   "execution_count": 11,
   "metadata": {},
   "outputs": [
    {
     "data": {
      "text/plain": [
       "(3299, 66)"
      ]
     },
     "execution_count": 11,
     "metadata": {},
     "output_type": "execute_result"
    }
   ],
   "source": [
    "features_df.shape"
   ]
  },
  {
   "cell_type": "code",
   "execution_count": 12,
   "metadata": {},
   "outputs": [
    {
     "data": {
      "text/html": [
       "<div><style>\n",
       ".dataframe > thead > tr,\n",
       ".dataframe > tbody > tr {\n",
       "  text-align: right;\n",
       "  white-space: pre-wrap;\n",
       "}\n",
       "</style>\n",
       "<small>shape: (3, 1)</small><table border=\"1\" class=\"dataframe\"><thead><tr><th>MOV_TYPE</th></tr><tr><td>str</td></tr></thead><tbody><tr><td>&quot;flows&quot;</td></tr><tr><td>&quot;non_landslide&quot;</td></tr><tr><td>&quot;landslide&quot;</td></tr></tbody></table></div>"
      ],
      "text/plain": [
       "shape: (3, 1)\n",
       "┌───────────────┐\n",
       "│ MOV_TYPE      │\n",
       "│ ---           │\n",
       "│ str           │\n",
       "╞═══════════════╡\n",
       "│ flows         │\n",
       "│ non_landslide │\n",
       "│ landslide     │\n",
       "└───────────────┘"
      ]
     },
     "execution_count": 12,
     "metadata": {},
     "output_type": "execute_result"
    }
   ],
   "source": [
    "features_df.select(\"MOV_TYPE\").unique()"
   ]
  },
  {
   "cell_type": "code",
   "execution_count": 13,
   "metadata": {},
   "outputs": [],
   "source": [
    "# Create numerical categorization of landslide\n",
    "\n",
    "if MULTICLASS:\n",
    "    LABEL_COL = \"label_multiclass\"\n",
    "    # add multiclass labels\n",
    "    features_df = features_df.with_columns(\n",
    "        pl.when(pl.col(\"MOV_TYPE\") == \"landslide\")\n",
    "        .then(1)\n",
    "        .when(pl.col(\"MOV_TYPE\") == \"flows\")\n",
    "        .then(2)\n",
    "        .otherwise(0)\n",
    "        .alias(\"label_multiclass\")\n",
    "    )\n",
    "else:\n",
    "    LABEL_COL = \"label_binary\"\n",
    "    # add binary labels\n",
    "    features_df = features_df.with_columns(\n",
    "        pl.when(pl.col(\"label\") == \"landslide\")\n",
    "        .then(pl.lit(1))\n",
    "        .otherwise(pl.lit(0))\n",
    "        .alias(\"label_binary\")\n",
    "    )"
   ]
  },
  {
   "cell_type": "code",
   "execution_count": 14,
   "metadata": {},
   "outputs": [
    {
     "data": {
      "text/html": [
       "<div><style>\n",
       ".dataframe > thead > tr,\n",
       ".dataframe > tbody > tr {\n",
       "  text-align: right;\n",
       "  white-space: pre-wrap;\n",
       "}\n",
       "</style>\n",
       "<small>shape: (3,)</small><table border=\"1\" class=\"dataframe\"><thead><tr><th>label_multiclass</th></tr><tr><td>i32</td></tr></thead><tbody><tr><td>0</td></tr><tr><td>1</td></tr><tr><td>2</td></tr></tbody></table></div>"
      ],
      "text/plain": [
       "shape: (3,)\n",
       "Series: 'label_multiclass' [i32]\n",
       "[\n",
       "\t0\n",
       "\t1\n",
       "\t2\n",
       "]"
      ]
     },
     "execution_count": 14,
     "metadata": {},
     "output_type": "execute_result"
    }
   ],
   "source": [
    "features_df[LABEL_COL].unique()"
   ]
  },
  {
   "cell_type": "code",
   "execution_count": 15,
   "metadata": {},
   "outputs": [
    {
     "data": {
      "text/plain": [
       "(30,\n",
       " ['slope_median',\n",
       "  'aspect_median',\n",
       "  'soil_class',\n",
       "  'elevation_median',\n",
       "  'rainfall_mm_median',\n",
       "  'lithology_type',\n",
       "  'sand_5-15cm_mean',\n",
       "  'sand_100-200cm_mean',\n",
       "  'silt_5-15cm_mean',\n",
       "  'silt_100-200cm_mean',\n",
       "  'clay_5-15cm_mean',\n",
       "  'clay_100-200cm_mean',\n",
       "  'hillshade_median',\n",
       "  'distance_m_roads',\n",
       "  'distance_m_rivers',\n",
       "  'lithology_type_lattice_3',\n",
       "  'soil_class_lattice_3',\n",
       "  'elevation_median_lattice_3',\n",
       "  'slope_median_lattice_3',\n",
       "  'aspect_median_lattice_3',\n",
       "  'hillshade_median_lattice_3',\n",
       "  'rainfall_mm_median_lattice_3',\n",
       "  'sand_5-15cm_mean_lattice_3',\n",
       "  'sand_100-200cm_mean_lattice_3',\n",
       "  'silt_5-15cm_mean_lattice_3',\n",
       "  'silt_100-200cm_mean_lattice_3',\n",
       "  'clay_5-15cm_mean_lattice_3',\n",
       "  'clay_100-200cm_mean_lattice_3',\n",
       "  'distance_m_roads_lattice_3',\n",
       "  'distance_m_rivers_lattice_3'])"
      ]
     },
     "execution_count": 15,
     "metadata": {},
     "output_type": "execute_result"
    }
   ],
   "source": [
    "feature_cols = [\n",
    "    col\n",
    "    for col in features_df.columns\n",
    "    if col not in KEY_COLS + EXC_COLS + AREA_COLS + LABEL_COLS\n",
    "]\n",
    "len(feature_cols), feature_cols"
   ]
  },
  {
   "cell_type": "code",
   "execution_count": 16,
   "metadata": {},
   "outputs": [
    {
     "data": {
      "text/plain": [
       "(3299, 67)"
      ]
     },
     "execution_count": 16,
     "metadata": {},
     "output_type": "execute_result"
    }
   ],
   "source": [
    "features_df.shape"
   ]
  },
  {
   "cell_type": "code",
   "execution_count": 17,
   "metadata": {},
   "outputs": [
    {
     "data": {
      "text/html": [
       "<div><style>\n",
       ".dataframe > thead > tr,\n",
       ".dataframe > tbody > tr {\n",
       "  text-align: right;\n",
       "  white-space: pre-wrap;\n",
       "}\n",
       "</style>\n",
       "<small>shape: (1, 30)</small><table border=\"1\" class=\"dataframe\"><thead><tr><th>slope_median</th><th>aspect_median</th><th>soil_class</th><th>elevation_median</th><th>rainfall_mm_median</th><th>lithology_type</th><th>sand_5-15cm_mean</th><th>sand_100-200cm_mean</th><th>silt_5-15cm_mean</th><th>silt_100-200cm_mean</th><th>clay_5-15cm_mean</th><th>clay_100-200cm_mean</th><th>hillshade_median</th><th>distance_m_roads</th><th>distance_m_rivers</th><th>lithology_type_lattice_3</th><th>soil_class_lattice_3</th><th>elevation_median_lattice_3</th><th>slope_median_lattice_3</th><th>aspect_median_lattice_3</th><th>hillshade_median_lattice_3</th><th>rainfall_mm_median_lattice_3</th><th>sand_5-15cm_mean_lattice_3</th><th>sand_100-200cm_mean_lattice_3</th><th>silt_5-15cm_mean_lattice_3</th><th>silt_100-200cm_mean_lattice_3</th><th>clay_5-15cm_mean_lattice_3</th><th>clay_100-200cm_mean_lattice_3</th><th>distance_m_roads_lattice_3</th><th>distance_m_rivers_lattice_3</th></tr><tr><td>u32</td><td>u32</td><td>u32</td><td>u32</td><td>u32</td><td>u32</td><td>u32</td><td>u32</td><td>u32</td><td>u32</td><td>u32</td><td>u32</td><td>u32</td><td>u32</td><td>u32</td><td>u32</td><td>u32</td><td>u32</td><td>u32</td><td>u32</td><td>u32</td><td>u32</td><td>u32</td><td>u32</td><td>u32</td><td>u32</td><td>u32</td><td>u32</td><td>u32</td><td>u32</td></tr></thead><tbody><tr><td>0</td><td>0</td><td>0</td><td>0</td><td>4</td><td>0</td><td>0</td><td>0</td><td>0</td><td>0</td><td>0</td><td>0</td><td>0</td><td>68</td><td>30</td><td>0</td><td>0</td><td>0</td><td>0</td><td>0</td><td>0</td><td>4</td><td>0</td><td>0</td><td>0</td><td>0</td><td>0</td><td>0</td><td>68</td><td>30</td></tr></tbody></table></div>"
      ],
      "text/plain": [
       "shape: (1, 30)\n",
       "┌───────────┬───────────┬───────────┬───────────┬───┬───────────┬───────────┬───────────┬──────────┐\n",
       "│ slope_med ┆ aspect_me ┆ soil_clas ┆ elevation ┆ … ┆ clay_5-15 ┆ clay_100- ┆ distance_ ┆ distance │\n",
       "│ ian       ┆ dian      ┆ s         ┆ _median   ┆   ┆ cm_mean_l ┆ 200cm_mea ┆ m_roads_l ┆ _m_river │\n",
       "│ ---       ┆ ---       ┆ ---       ┆ ---       ┆   ┆ attice_3  ┆ n_lattice ┆ attice_3  ┆ s_lattic │\n",
       "│ u32       ┆ u32       ┆ u32       ┆ u32       ┆   ┆ ---       ┆ _3        ┆ ---       ┆ e_3      │\n",
       "│           ┆           ┆           ┆           ┆   ┆ u32       ┆ ---       ┆ u32       ┆ ---      │\n",
       "│           ┆           ┆           ┆           ┆   ┆           ┆ u32       ┆           ┆ u32      │\n",
       "╞═══════════╪═══════════╪═══════════╪═══════════╪═══╪═══════════╪═══════════╪═══════════╪══════════╡\n",
       "│ 0         ┆ 0         ┆ 0         ┆ 0         ┆ … ┆ 0         ┆ 0         ┆ 68        ┆ 30       │\n",
       "└───────────┴───────────┴───────────┴───────────┴───┴───────────┴───────────┴───────────┴──────────┘"
      ]
     },
     "execution_count": 17,
     "metadata": {},
     "output_type": "execute_result"
    }
   ],
   "source": [
    "features_df.select(feature_cols).null_count()"
   ]
  },
  {
   "cell_type": "code",
   "execution_count": 18,
   "metadata": {},
   "outputs": [
    {
     "data": {
      "text/html": [
       "<div><style>\n",
       ".dataframe > thead > tr,\n",
       ".dataframe > tbody > tr {\n",
       "  text-align: right;\n",
       "  white-space: pre-wrap;\n",
       "}\n",
       "</style>\n",
       "<small>shape: (9, 31)</small><table border=\"1\" class=\"dataframe\"><thead><tr><th>statistic</th><th>slope_median</th><th>aspect_median</th><th>soil_class</th><th>elevation_median</th><th>rainfall_mm_median</th><th>lithology_type</th><th>sand_5-15cm_mean</th><th>sand_100-200cm_mean</th><th>silt_5-15cm_mean</th><th>silt_100-200cm_mean</th><th>clay_5-15cm_mean</th><th>clay_100-200cm_mean</th><th>hillshade_median</th><th>distance_m_roads</th><th>distance_m_rivers</th><th>lithology_type_lattice_3</th><th>soil_class_lattice_3</th><th>elevation_median_lattice_3</th><th>slope_median_lattice_3</th><th>aspect_median_lattice_3</th><th>hillshade_median_lattice_3</th><th>rainfall_mm_median_lattice_3</th><th>sand_5-15cm_mean_lattice_3</th><th>sand_100-200cm_mean_lattice_3</th><th>silt_5-15cm_mean_lattice_3</th><th>silt_100-200cm_mean_lattice_3</th><th>clay_5-15cm_mean_lattice_3</th><th>clay_100-200cm_mean_lattice_3</th><th>distance_m_roads_lattice_3</th><th>distance_m_rivers_lattice_3</th></tr><tr><td>str</td><td>f64</td><td>f64</td><td>f64</td><td>f64</td><td>f64</td><td>f64</td><td>f64</td><td>f64</td><td>f64</td><td>f64</td><td>f64</td><td>f64</td><td>f64</td><td>f64</td><td>f64</td><td>f64</td><td>f64</td><td>f64</td><td>f64</td><td>f64</td><td>f64</td><td>f64</td><td>f64</td><td>f64</td><td>f64</td><td>f64</td><td>f64</td><td>f64</td><td>f64</td><td>f64</td></tr></thead><tbody><tr><td>&quot;count&quot;</td><td>3299.0</td><td>3299.0</td><td>3299.0</td><td>3299.0</td><td>3295.0</td><td>3299.0</td><td>3299.0</td><td>3299.0</td><td>3299.0</td><td>3299.0</td><td>3299.0</td><td>3299.0</td><td>3299.0</td><td>3231.0</td><td>3269.0</td><td>3299.0</td><td>3299.0</td><td>3299.0</td><td>3299.0</td><td>3299.0</td><td>3299.0</td><td>3295.0</td><td>3299.0</td><td>3299.0</td><td>3299.0</td><td>3299.0</td><td>3299.0</td><td>3299.0</td><td>3231.0</td><td>3269.0</td></tr><tr><td>&quot;null_count&quot;</td><td>0.0</td><td>0.0</td><td>0.0</td><td>0.0</td><td>4.0</td><td>0.0</td><td>0.0</td><td>0.0</td><td>0.0</td><td>0.0</td><td>0.0</td><td>0.0</td><td>0.0</td><td>68.0</td><td>30.0</td><td>0.0</td><td>0.0</td><td>0.0</td><td>0.0</td><td>0.0</td><td>0.0</td><td>4.0</td><td>0.0</td><td>0.0</td><td>0.0</td><td>0.0</td><td>0.0</td><td>0.0</td><td>68.0</td><td>30.0</td></tr><tr><td>&quot;mean&quot;</td><td>18.777054</td><td>172.782207</td><td>5.206729</td><td>1576.055168</td><td>2161.849488</td><td>106.150045</td><td>332.744998</td><td>297.236056</td><td>321.862155</td><td>306.267505</td><td>328.641103</td><td>379.754092</td><td>174.35147</td><td>518.093301</td><td>1786.32768</td><td>106.12913</td><td>5.233404</td><td>1575.86458</td><td>18.770518</td><td>172.737065</td><td>174.316408</td><td>2161.84088</td><td>332.75045</td><td>297.232341</td><td>321.902756</td><td>306.299681</td><td>328.674273</td><td>379.806199</td><td>518.006583</td><td>1785.541821</td></tr><tr><td>&quot;std&quot;</td><td>8.897397</td><td>92.936857</td><td>1.697482</td><td>781.69836</td><td>1096.411884</td><td>47.800985</td><td>53.766788</td><td>59.149344</td><td>49.037256</td><td>47.848541</td><td>52.301527</td><td>67.979602</td><td>45.336041</td><td>1297.388703</td><td>1821.785008</td><td>47.894254</td><td>1.663131</td><td>781.175386</td><td>8.466544</td><td>83.55679</td><td>41.776732</td><td>1096.084236</td><td>52.108572</td><td>57.934516</td><td>47.209123</td><td>46.025765</td><td>50.506822</td><td>65.874321</td><td>1295.840885</td><td>1819.687169</td></tr><tr><td>&quot;min&quot;</td><td>0.0</td><td>0.0</td><td>0.0</td><td>0.0</td><td>0.0</td><td>5.0</td><td>0.0</td><td>0.0</td><td>0.0</td><td>0.0</td><td>0.0</td><td>0.0</td><td>0.0</td><td>0.0</td><td>0.0</td><td>5.0</td><td>0.0</td><td>0.0</td><td>0.0</td><td>0.0</td><td>0.0</td><td>0.0</td><td>0.0</td><td>0.0</td><td>0.0</td><td>0.0</td><td>0.0</td><td>0.0</td><td>0.0</td><td>0.0</td></tr><tr><td>&quot;25%&quot;</td><td>12.5</td><td>94.0</td><td>3.0</td><td>1041.0</td><td>1526.689209</td><td>75.0</td><td>310.25</td><td>264.5</td><td>302.25</td><td>286.0</td><td>309.5</td><td>352.0</td><td>143.0</td><td>0.0</td><td>400.481442</td><td>75.0</td><td>6.0</td><td>1041.0</td><td>13.333333</td><td>106.0</td><td>147.0</td><td>1526.414795</td><td>310.0</td><td>264.5</td><td>302.0</td><td>286.0</td><td>309.5</td><td>352.5</td><td>0.0</td><td>398.172823</td></tr><tr><td>&quot;50%&quot;</td><td>18.0</td><td>165.5</td><td>6.0</td><td>1526.0</td><td>1892.342041</td><td>104.0</td><td>334.5</td><td>293.25</td><td>323.0</td><td>308.0</td><td>333.5</td><td>391.75</td><td>177.0</td><td>47.77716</td><td>1266.440849</td><td>104.0</td><td>6.0</td><td>1523.0</td><td>18.0</td><td>168.0</td><td>176.833333</td><td>1893.949707</td><td>334.0</td><td>292.75</td><td>323.0</td><td>308.0</td><td>334.0</td><td>392.1875</td><td>67.076199</td><td>1262.528984</td></tr><tr><td>&quot;75%&quot;</td><td>25.0</td><td>254.0</td><td>6.0</td><td>2060.0</td><td>2392.361572</td><td>139.0</td><td>362.0</td><td>332.5</td><td>348.5</td><td>333.0</td><td>357.0</td><td>420.5</td><td>206.0</td><td>403.895198</td><td>2514.154954</td><td>139.0</td><td>6.0</td><td>2054.5</td><td>24.5</td><td>240.0</td><td>203.0</td><td>2392.55835</td><td>361.5</td><td>332.2</td><td>347.708333</td><td>331.208333</td><td>357.0</td><td>419.8</td><td>390.925401</td><td>2518.834341</td></tr><tr><td>&quot;max&quot;</td><td>56.0</td><td>347.0</td><td>29.0</td><td>4460.0</td><td>8623.12207</td><td>193.0</td><td>481.0</td><td>522.0</td><td>453.0</td><td>440.5</td><td>481.75</td><td>561.0</td><td>255.0</td><td>9997.204725</td><td>9931.370429</td><td>193.0</td><td>29.0</td><td>4460.0</td><td>51.0</td><td>347.0</td><td>255.0</td><td>8623.12207</td><td>481.0</td><td>522.0</td><td>453.0</td><td>440.5</td><td>473.5</td><td>530.5625</td><td>9997.204725</td><td>9931.370429</td></tr></tbody></table></div>"
      ],
      "text/plain": [
       "shape: (9, 31)\n",
       "┌───────────┬───────────┬───────────┬───────────┬───┬───────────┬───────────┬───────────┬──────────┐\n",
       "│ statistic ┆ slope_med ┆ aspect_me ┆ soil_clas ┆ … ┆ clay_5-15 ┆ clay_100- ┆ distance_ ┆ distance │\n",
       "│ ---       ┆ ian       ┆ dian      ┆ s         ┆   ┆ cm_mean_l ┆ 200cm_mea ┆ m_roads_l ┆ _m_river │\n",
       "│ str       ┆ ---       ┆ ---       ┆ ---       ┆   ┆ attice_3  ┆ n_lattice ┆ attice_3  ┆ s_lattic │\n",
       "│           ┆ f64       ┆ f64       ┆ f64       ┆   ┆ ---       ┆ _3        ┆ ---       ┆ e_3      │\n",
       "│           ┆           ┆           ┆           ┆   ┆ f64       ┆ ---       ┆ f64       ┆ ---      │\n",
       "│           ┆           ┆           ┆           ┆   ┆           ┆ f64       ┆           ┆ f64      │\n",
       "╞═══════════╪═══════════╪═══════════╪═══════════╪═══╪═══════════╪═══════════╪═══════════╪══════════╡\n",
       "│ count     ┆ 3299.0    ┆ 3299.0    ┆ 3299.0    ┆ … ┆ 3299.0    ┆ 3299.0    ┆ 3231.0    ┆ 3269.0   │\n",
       "│ null_coun ┆ 0.0       ┆ 0.0       ┆ 0.0       ┆ … ┆ 0.0       ┆ 0.0       ┆ 68.0      ┆ 30.0     │\n",
       "│ t         ┆           ┆           ┆           ┆   ┆           ┆           ┆           ┆          │\n",
       "│ mean      ┆ 18.777054 ┆ 172.78220 ┆ 5.206729  ┆ … ┆ 328.67427 ┆ 379.80619 ┆ 518.00658 ┆ 1785.541 │\n",
       "│           ┆           ┆ 7         ┆           ┆   ┆ 3         ┆ 9         ┆ 3         ┆ 821      │\n",
       "│ std       ┆ 8.897397  ┆ 92.936857 ┆ 1.697482  ┆ … ┆ 50.506822 ┆ 65.874321 ┆ 1295.8408 ┆ 1819.687 │\n",
       "│           ┆           ┆           ┆           ┆   ┆           ┆           ┆ 85        ┆ 169      │\n",
       "│ min       ┆ 0.0       ┆ 0.0       ┆ 0.0       ┆ … ┆ 0.0       ┆ 0.0       ┆ 0.0       ┆ 0.0      │\n",
       "│ 25%       ┆ 12.5      ┆ 94.0      ┆ 3.0       ┆ … ┆ 309.5     ┆ 352.5     ┆ 0.0       ┆ 398.1728 │\n",
       "│           ┆           ┆           ┆           ┆   ┆           ┆           ┆           ┆ 23       │\n",
       "│ 50%       ┆ 18.0      ┆ 165.5     ┆ 6.0       ┆ … ┆ 334.0     ┆ 392.1875  ┆ 67.076199 ┆ 1262.528 │\n",
       "│           ┆           ┆           ┆           ┆   ┆           ┆           ┆           ┆ 984      │\n",
       "│ 75%       ┆ 25.0      ┆ 254.0     ┆ 6.0       ┆ … ┆ 357.0     ┆ 419.8     ┆ 390.92540 ┆ 2518.834 │\n",
       "│           ┆           ┆           ┆           ┆   ┆           ┆           ┆ 1         ┆ 341      │\n",
       "│ max       ┆ 56.0      ┆ 347.0     ┆ 29.0      ┆ … ┆ 473.5     ┆ 530.5625  ┆ 9997.2047 ┆ 9931.370 │\n",
       "│           ┆           ┆           ┆           ┆   ┆           ┆           ┆ 25        ┆ 429      │\n",
       "└───────────┴───────────┴───────────┴───────────┴───┴───────────┴───────────┴───────────┴──────────┘"
      ]
     },
     "execution_count": 18,
     "metadata": {},
     "output_type": "execute_result"
    }
   ],
   "source": [
    "features_df.select(feature_cols).describe()"
   ]
  },
  {
   "cell_type": "code",
   "execution_count": 82,
   "metadata": {},
   "outputs": [
    {
     "data": {
      "text/html": [
       "<div><style>\n",
       ".dataframe > thead > tr,\n",
       ".dataframe > tbody > tr {\n",
       "  text-align: right;\n",
       "  white-space: pre-wrap;\n",
       "}\n",
       "</style>\n",
       "<small>shape: (3, 2)</small><table border=\"1\" class=\"dataframe\"><thead><tr><th>MOV_TYPE</th><th>count</th></tr><tr><td>str</td><td>u32</td></tr></thead><tbody><tr><td>&quot;non_landslide&quot;</td><td>353</td></tr><tr><td>&quot;flows&quot;</td><td>377</td></tr><tr><td>&quot;landslide&quot;</td><td>751</td></tr></tbody></table></div>"
      ],
      "text/plain": [
       "shape: (3, 2)\n",
       "┌───────────────┬───────┐\n",
       "│ MOV_TYPE      ┆ count │\n",
       "│ ---           ┆ ---   │\n",
       "│ str           ┆ u32   │\n",
       "╞═══════════════╪═══════╡\n",
       "│ non_landslide ┆ 353   │\n",
       "│ flows         ┆ 377   │\n",
       "│ landslide     ┆ 751   │\n",
       "└───────────────┴───────┘"
      ]
     },
     "execution_count": 82,
     "metadata": {},
     "output_type": "execute_result"
    }
   ],
   "source": [
    "features_df[\"MOV_TYPE\"].value_counts()"
   ]
  },
  {
   "cell_type": "markdown",
   "metadata": {},
   "source": [
    "# Experiment with only a 80-20 train test split"
   ]
  },
  {
   "cell_type": "markdown",
   "metadata": {},
   "source": [
    "In the following code block, we set the needed function arguments to conduct our model training and validation. These arguments will also be the same for the k-fold validation approach and will be used in the next section."
   ]
  },
  {
   "cell_type": "code",
   "execution_count": 19,
   "metadata": {},
   "outputs": [],
   "source": [
    "EVAL_SIMPLE_TRAIN_TEST_SPLIT = True\n",
    "RANDOM_SEED = 47\n",
    "MODEL_TYPE = \"classification\"\n",
    "MODEL_NAME = \"xgboost\"\n",
    "APPLY_LOG_TRANSFORM = False\n",
    "REVERSE_LOG_TRANSFORM = False\n",
    "TRAIN_WITH_PREDICTION_INTERVALS = False\n",
    "\n",
    "label_strip = LABEL_COL.split(\"_\")[1]\n",
    "OUTPUT_PATH = (\n",
    "    OUTPUT_DIR / f\"{OUTPUT_VERSION}_{MODEL_TYPE}_{MODEL_NAME}_{label_strip}.parquet\"\n",
    ")\n",
    "\n",
    "CV_METRICS_OUTPUT_PATH = (\n",
    "    OUTPUT_DIR\n",
    "    / f\"{OUTPUT_VERSION}_{MODEL_TYPE}_{MODEL_NAME}_{label_strip}_cv_metrics.parquet\"\n",
    ")"
   ]
  },
  {
   "cell_type": "code",
   "execution_count": 21,
   "metadata": {},
   "outputs": [
    {
     "data": {
      "text/plain": [
       "{'train_accuracy': 1.0,\n",
       " 'train_precision': 1.0,\n",
       " 'train_recall': 1.0,\n",
       " 'train_f1': 1.0,\n",
       " 'train_confusion_matrix': array([[ 623,    0,    0],\n",
       "        [   0, 1715,    0],\n",
       "        [   0,    0,  301]]),\n",
       " 'test_accuracy': 0.8045454545454546,\n",
       " 'test_precision': 0.7876390066922325,\n",
       " 'test_recall': 0.8045454545454546,\n",
       " 'test_f1': 0.7864235938861096,\n",
       " 'test_confusion_matrix': array([[104,  32,   2],\n",
       "        [ 18, 405,  15],\n",
       "        [  3,  59,  22]])}"
      ]
     },
     "execution_count": 21,
     "metadata": {},
     "output_type": "execute_result"
    }
   ],
   "source": [
    "eval_metrics = None\n",
    "if EVAL_SIMPLE_TRAIN_TEST_SPLIT:\n",
    "    train_df, test_df = model_utils.key_based_train_test_split(\n",
    "        df=features_df,\n",
    "        key_column=\"quadkey\",\n",
    "        train_proportion=0.8,\n",
    "        shuffle=True,\n",
    "        random_seed=RANDOM_SEED,\n",
    "    )\n",
    "\n",
    "    if MODEL_TYPE == \"regression\":\n",
    "        plot_actual_vs_pred = True\n",
    "    elif MODEL_TYPE == \"classification\":\n",
    "        plot_actual_vs_pred = False\n",
    "\n",
    "    kwargs = {\n",
    "        \"feature_cols\": feature_cols,\n",
    "        \"label_col\": LABEL_COL,  # need to update to multiclass\n",
    "        \"model_name\": MODEL_NAME,\n",
    "        \"model_type\": MODEL_TYPE,\n",
    "        \"train_df\": train_df,\n",
    "        \"val_df\": None,\n",
    "        \"test_df\": test_df,\n",
    "        \"apply_log_transform\": APPLY_LOG_TRANSFORM,\n",
    "        \"reverse_log_transform\": REVERSE_LOG_TRANSFORM,\n",
    "        \"train_with_prediction_intervals\": TRAIN_WITH_PREDICTION_INTERVALS,\n",
    "        \"plot_actual_vs_pred\": plot_actual_vs_pred,\n",
    "        \"averaging_method\": AVERAGING_METHOD,\n",
    "        \"random_seed\": RANDOM_SEED,\n",
    "    }\n",
    "    model, eval_metrics = model_utils.train_and_eval_model(**kwargs)\n",
    "eval_metrics"
   ]
  },
  {
   "cell_type": "markdown",
   "metadata": {},
   "source": [
    "# Train and validate the model using K-fold Split approach"
   ]
  },
  {
   "cell_type": "markdown",
   "metadata": {},
   "source": [
    "`GROUP_COL` is a parameter that sets the split of the validaiton approach. In our case below, we made use of the Department codes as the split for the k-fold validation. Make sure to choose the split that you would want to experiment and validate on. "
   ]
  },
  {
   "cell_type": "code",
   "execution_count": 22,
   "metadata": {},
   "outputs": [],
   "source": [
    "GROUP_COL = \"DPTO_CCDGO\"\n",
    "\n",
    "NUM_CV_FOLDS = features_df[GROUP_COL].n_unique()"
   ]
  },
  {
   "cell_type": "code",
   "execution_count": 23,
   "metadata": {},
   "outputs": [
    {
     "data": {
      "text/plain": [
       "20"
      ]
     },
     "execution_count": 23,
     "metadata": {},
     "output_type": "execute_result"
    }
   ],
   "source": [
    "NUM_CV_FOLDS"
   ]
  },
  {
   "cell_type": "code",
   "execution_count": 24,
   "metadata": {},
   "outputs": [
    {
     "name": "stderr",
     "output_type": "stream",
     "text": [
      "Precision is ill-defined and being set to 0.0 in labels with no predicted samples. Use `zero_division` parameter to control this behavior.\n",
      "Precision is ill-defined and being set to 0.0 in labels with no predicted samples. Use `zero_division` parameter to control this behavior.\n",
      "Precision is ill-defined and being set to 0.0 in labels with no predicted samples. Use `zero_division` parameter to control this behavior.\n",
      "Precision is ill-defined and being set to 0.0 in labels with no predicted samples. Use `zero_division` parameter to control this behavior.\n",
      "Precision is ill-defined and being set to 0.0 in labels with no predicted samples. Use `zero_division` parameter to control this behavior.\n",
      "Precision is ill-defined and being set to 0.0 in labels with no predicted samples. Use `zero_division` parameter to control this behavior.\n",
      "A single label was found in 'y_true' and 'y_pred'. For the confusion matrix to have the correct shape, use the 'labels' parameter to pass all known labels.\n",
      "Precision is ill-defined and being set to 0.0 in labels with no predicted samples. Use `zero_division` parameter to control this behavior.\n"
     ]
    },
    {
     "name": "stdout",
     "output_type": "stream",
     "text": [
      "CPU times: user 4min 41s, sys: 1.12 s, total: 4min 42s\n",
      "Wall time: 24.2 s\n"
     ]
    },
    {
     "name": "stderr",
     "output_type": "stream",
     "text": [
      "Precision is ill-defined and being set to 0.0 in labels with no predicted samples. Use `zero_division` parameter to control this behavior.\n",
      "Recall is ill-defined and being set to 0.0 in labels with no true samples. Use `zero_division` parameter to control this behavior.\n"
     ]
    },
    {
     "data": {
      "text/html": [
       "<div><style>\n",
       ".dataframe > thead > tr,\n",
       ".dataframe > tbody > tr {\n",
       "  text-align: right;\n",
       "  white-space: pre-wrap;\n",
       "}\n",
       "</style>\n",
       "<small>shape: (5, 12)</small><table border=\"1\" class=\"dataframe\"><thead><tr><th>val_group</th><th>val_fold</th><th>train_accuracy</th><th>train_precision</th><th>train_recall</th><th>train_f1</th><th>train_confusion_matrix</th><th>val_accuracy</th><th>val_precision</th><th>val_recall</th><th>val_f1</th><th>val_confusion_matrix</th></tr><tr><td>str</td><td>i64</td><td>f64</td><td>f64</td><td>f64</td><td>f64</td><td>object</td><td>f64</td><td>f64</td><td>f64</td><td>f64</td><td>object</td></tr></thead><tbody><tr><td>&quot;BOYACA&quot;</td><td>1</td><td>1.0</td><td>1.0</td><td>1.0</td><td>1.0</td><td>[[ 567    0    0]\n",
       " [   0 1687    0]\n",
       " [   0    0  343]]</td><td>0.764957</td><td>0.721868</td><td>0.764957</td><td>0.742674</td><td>[[133  59   2]\n",
       " [ 60 404   2]\n",
       " [  4  38   0]]</td></tr><tr><td>&quot;NORTE DE SANTA…</td><td>2</td><td>1.0</td><td>1.0</td><td>1.0</td><td>1.0</td><td>[[ 710    0    0]\n",
       " [   0 1752    0]\n",
       " [   0    0  284]]</td><td>0.703436</td><td>0.643783</td><td>0.703436</td><td>0.657469</td><td>[[ 34  15   2]\n",
       " [ 38 352  11]\n",
       " [ 22  76   3]]</td></tr><tr><td>&quot;CAUCA&quot;</td><td>3</td><td>1.0</td><td>1.0</td><td>1.0</td><td>1.0</td><td>[[ 710    0    0]\n",
       " [   0 1743    0]\n",
       " [   0    0  372]]</td><td>0.852321</td><td>0.852261</td><td>0.852321</td><td>0.849794</td><td>[[ 34  17   0]\n",
       " [ 40 370   0]\n",
       " [  2  11   0]]</td></tr><tr><td>&quot;CUNDINAMARCA&quot;</td><td>4</td><td>1.0</td><td>1.0</td><td>1.0</td><td>1.0</td><td>[[ 719    0    0]\n",
       " [   0 1936    0]\n",
       " [   0    0  233]]</td><td>0.552311</td><td>0.349688</td><td>0.552311</td><td>0.41695</td><td>[[ 15  27   0]\n",
       " [  5 212   0]\n",
       " [  6 146   0]]</td></tr><tr><td>&quot;VALLE DEL CAUC…</td><td>5</td><td>1.0</td><td>1.0</td><td>1.0</td><td>1.0</td><td>[[ 736    0    0]\n",
       " [   0 1999    0]\n",
       " [   0    0  383]]</td><td>0.889503</td><td>0.882923</td><td>0.889503</td><td>0.882483</td><td>[[ 13  12   0]\n",
       " [  4 148   2]\n",
       " [  0   2   0]]</td></tr></tbody></table></div>"
      ],
      "text/plain": [
       "shape: (5, 12)\n",
       "┌────────────┬──────────┬───────────┬───────────┬───┬───────────┬───────────┬──────────┬───────────┐\n",
       "│ val_group  ┆ val_fold ┆ train_acc ┆ train_pre ┆ … ┆ val_preci ┆ val_recal ┆ val_f1   ┆ val_confu │\n",
       "│ ---        ┆ ---      ┆ uracy     ┆ cision    ┆   ┆ sion      ┆ l         ┆ ---      ┆ sion_matr │\n",
       "│ str        ┆ i64      ┆ ---       ┆ ---       ┆   ┆ ---       ┆ ---       ┆ f64      ┆ ix        │\n",
       "│            ┆          ┆ f64       ┆ f64       ┆   ┆ f64       ┆ f64       ┆          ┆ ---       │\n",
       "│            ┆          ┆           ┆           ┆   ┆           ┆           ┆          ┆ object    │\n",
       "╞════════════╪══════════╪═══════════╪═══════════╪═══╪═══════════╪═══════════╪══════════╪═══════════╡\n",
       "│ BOYACA     ┆ 1        ┆ 1.0       ┆ 1.0       ┆ … ┆ 0.721868  ┆ 0.764957  ┆ 0.742674 ┆ [[133  59 │\n",
       "│            ┆          ┆           ┆           ┆   ┆           ┆           ┆          ┆ 2]        │\n",
       "│            ┆          ┆           ┆           ┆   ┆           ┆           ┆          ┆ [ 60 404  │\n",
       "│            ┆          ┆           ┆           ┆   ┆           ┆           ┆          ┆ 2]        │\n",
       "│            ┆          ┆           ┆           ┆   ┆           ┆           ┆          ┆  […       │\n",
       "│ NORTE DE   ┆ 2        ┆ 1.0       ┆ 1.0       ┆ … ┆ 0.643783  ┆ 0.703436  ┆ 0.657469 ┆ [[ 34  15 │\n",
       "│ SANTANDER  ┆          ┆           ┆           ┆   ┆           ┆           ┆          ┆ 2]        │\n",
       "│            ┆          ┆           ┆           ┆   ┆           ┆           ┆          ┆ [ 38 352  │\n",
       "│            ┆          ┆           ┆           ┆   ┆           ┆           ┆          ┆ 11]       │\n",
       "│            ┆          ┆           ┆           ┆   ┆           ┆           ┆          ┆  […       │\n",
       "│ CAUCA      ┆ 3        ┆ 1.0       ┆ 1.0       ┆ … ┆ 0.852261  ┆ 0.852321  ┆ 0.849794 ┆ [[ 34  17 │\n",
       "│            ┆          ┆           ┆           ┆   ┆           ┆           ┆          ┆ 0]        │\n",
       "│            ┆          ┆           ┆           ┆   ┆           ┆           ┆          ┆ [ 40 370  │\n",
       "│            ┆          ┆           ┆           ┆   ┆           ┆           ┆          ┆ 0]        │\n",
       "│            ┆          ┆           ┆           ┆   ┆           ┆           ┆          ┆  […       │\n",
       "│ CUNDINAMAR ┆ 4        ┆ 1.0       ┆ 1.0       ┆ … ┆ 0.349688  ┆ 0.552311  ┆ 0.41695  ┆ [[ 15  27 │\n",
       "│ CA         ┆          ┆           ┆           ┆   ┆           ┆           ┆          ┆ 0]        │\n",
       "│            ┆          ┆           ┆           ┆   ┆           ┆           ┆          ┆ [  5 212  │\n",
       "│            ┆          ┆           ┆           ┆   ┆           ┆           ┆          ┆ 0]        │\n",
       "│            ┆          ┆           ┆           ┆   ┆           ┆           ┆          ┆  […       │\n",
       "│ VALLE DEL  ┆ 5        ┆ 1.0       ┆ 1.0       ┆ … ┆ 0.882923  ┆ 0.889503  ┆ 0.882483 ┆ [[ 13  12 │\n",
       "│ CAUCA      ┆          ┆           ┆           ┆   ┆           ┆           ┆          ┆ 0]        │\n",
       "│            ┆          ┆           ┆           ┆   ┆           ┆           ┆          ┆ [  4 148  │\n",
       "│            ┆          ┆           ┆           ┆   ┆           ┆           ┆          ┆ 2]        │\n",
       "│            ┆          ┆           ┆           ┆   ┆           ┆           ┆          ┆  […       │\n",
       "└────────────┴──────────┴───────────┴───────────┴───┴───────────┴───────────┴──────────┴───────────┘"
      ]
     },
     "execution_count": 24,
     "metadata": {},
     "output_type": "execute_result"
    }
   ],
   "source": [
    "%%time\n",
    "kfolds = model_utils.key_based_k_fold_cross_validation(\n",
    "    df=features_df, key_column=\"quadkey\", group_column=GROUP_COL, n_splits=NUM_CV_FOLDS\n",
    ")\n",
    "\n",
    "cv_metrics = []\n",
    "output_preds_df = []\n",
    "\n",
    "for i, (train_df, val_df) in enumerate(kfolds, start=1):\n",
    "    kwargs = {\n",
    "        \"feature_cols\": feature_cols,\n",
    "        \"label_col\": LABEL_COL,\n",
    "        \"model_name\": MODEL_NAME,\n",
    "        \"model_type\": MODEL_TYPE,\n",
    "        \"train_df\": train_df,\n",
    "        \"val_df\": val_df,\n",
    "        \"test_df\": None,\n",
    "        \"apply_log_transform\": APPLY_LOG_TRANSFORM,\n",
    "        \"reverse_log_transform\": REVERSE_LOG_TRANSFORM,\n",
    "        \"train_with_prediction_intervals\": TRAIN_WITH_PREDICTION_INTERVALS,\n",
    "        \"plot_actual_vs_pred\": False,\n",
    "        \"averaging_method\": AVERAGING_METHOD,\n",
    "        \"random_seed\": RANDOM_SEED,\n",
    "        \"return_val_pred\": True,\n",
    "    }\n",
    "    model, eval_metrics, output_val_pred = model_utils.train_and_eval_model(**kwargs)\n",
    "    eval_metrics[\"val_fold\"] = i\n",
    "    # eval_metrics.insert(1, \"val_group\", eval_metrics.pop(\"val_group\"))\n",
    "    cv_metrics.append(eval_metrics)\n",
    "    output_val_pred = output_val_pred.drop(EXC_COLS)\n",
    "    output_preds_df.append(output_val_pred)\n",
    "\n",
    "predictions_kfolds_df = pl.concat(output_preds_df)\n",
    "\n",
    "cv_metrics = pl.from_dicts(cv_metrics)\n",
    "reordered_cols = cv_metrics.columns[-2:] + cv_metrics.columns[:-2]\n",
    "cv_metrics = cv_metrics.select(reordered_cols)\n",
    "cv_metrics.head()"
   ]
  },
  {
   "cell_type": "code",
   "execution_count": 25,
   "metadata": {},
   "outputs": [
    {
     "data": {
      "text/html": [
       "<div><style>\n",
       ".dataframe > thead > tr,\n",
       ".dataframe > tbody > tr {\n",
       "  text-align: right;\n",
       "  white-space: pre-wrap;\n",
       "}\n",
       "</style>\n",
       "<small>shape: (1, 9)</small><table border=\"1\" class=\"dataframe\"><thead><tr><th>val_fold</th><th>train_accuracy</th><th>train_precision</th><th>train_recall</th><th>train_f1</th><th>val_accuracy</th><th>val_precision</th><th>val_recall</th><th>val_f1</th></tr><tr><td>f64</td><td>f64</td><td>f64</td><td>f64</td><td>f64</td><td>f64</td><td>f64</td><td>f64</td><td>f64</td></tr></thead><tbody><tr><td>10.5</td><td>1.0</td><td>1.0</td><td>1.0</td><td>1.0</td><td>0.780312</td><td>0.756173</td><td>0.780312</td><td>0.752443</td></tr></tbody></table></div>"
      ],
      "text/plain": [
       "shape: (1, 9)\n",
       "┌──────────┬────────────┬───────────┬───────────┬───┬───────────┬───────────┬───────────┬──────────┐\n",
       "│ val_fold ┆ train_accu ┆ train_pre ┆ train_rec ┆ … ┆ val_accur ┆ val_preci ┆ val_recal ┆ val_f1   │\n",
       "│ ---      ┆ racy       ┆ cision    ┆ all       ┆   ┆ acy       ┆ sion      ┆ l         ┆ ---      │\n",
       "│ f64      ┆ ---        ┆ ---       ┆ ---       ┆   ┆ ---       ┆ ---       ┆ ---       ┆ f64      │\n",
       "│          ┆ f64        ┆ f64       ┆ f64       ┆   ┆ f64       ┆ f64       ┆ f64       ┆          │\n",
       "╞══════════╪════════════╪═══════════╪═══════════╪═══╪═══════════╪═══════════╪═══════════╪══════════╡\n",
       "│ 10.5     ┆ 1.0        ┆ 1.0       ┆ 1.0       ┆ … ┆ 0.780312  ┆ 0.756173  ┆ 0.780312  ┆ 0.752443 │\n",
       "└──────────┴────────────┴───────────┴───────────┴───┴───────────┴───────────┴───────────┴──────────┘"
      ]
     },
     "execution_count": 25,
     "metadata": {},
     "output_type": "execute_result"
    }
   ],
   "source": [
    "cv_metrics.drop([\"val_confusion_matrix\", \"train_confusion_matrix\", \"val_group\"]).mean()"
   ]
  },
  {
   "cell_type": "code",
   "execution_count": 26,
   "metadata": {},
   "outputs": [],
   "source": [
    "output_cv_metrics = cv_metrics.drop([\"val_confusion_matrix\", \"train_confusion_matrix\"])\n",
    "output_cv_metrics.write_parquet(CV_METRICS_OUTPUT_PATH)"
   ]
  },
  {
   "cell_type": "code",
   "execution_count": 27,
   "metadata": {},
   "outputs": [
    {
     "data": {
      "text/html": [
       "<div><style>\n",
       ".dataframe > thead > tr,\n",
       ".dataframe > tbody > tr {\n",
       "  text-align: right;\n",
       "  white-space: pre-wrap;\n",
       "}\n",
       "</style>\n",
       "<small>shape: (3_299, 49)</small><table border=\"1\" class=\"dataframe\"><thead><tr><th>quadkey</th><th>MOV_TYPE</th><th>OBJECTID</th><th>MPIO_CCNCT</th><th>MPIO_CNMBR</th><th>MPIO_CNMBR_EN</th><th>DPTO_CNMBR</th><th>DPTO_CNMBR_EN</th><th>Municipio</th><th>Municipio_EN</th><th>DPTO_CCDGO</th><th>MPIO_CCDGO</th><th>slope_median</th><th>aspect_median</th><th>soil_class</th><th>elevation_median</th><th>rainfall_mm_median</th><th>lithology_type</th><th>sand_5-15cm_mean</th><th>sand_100-200cm_mean</th><th>silt_5-15cm_mean</th><th>silt_100-200cm_mean</th><th>clay_5-15cm_mean</th><th>clay_100-200cm_mean</th><th>hillshade_median</th><th>distance_m_roads</th><th>distance_m_rivers</th><th>lithology_type_lattice_3</th><th>soil_class_lattice_3</th><th>elevation_median_lattice_3</th><th>slope_median_lattice_3</th><th>aspect_median_lattice_3</th><th>hillshade_median_lattice_3</th><th>rainfall_mm_median_lattice_3</th><th>sand_5-15cm_mean_lattice_3</th><th>sand_100-200cm_mean_lattice_3</th><th>silt_5-15cm_mean_lattice_3</th><th>silt_100-200cm_mean_lattice_3</th><th>clay_5-15cm_mean_lattice_3</th><th>clay_100-200cm_mean_lattice_3</th><th>distance_m_roads_lattice_3</th><th>distance_m_rivers_lattice_3</th><th>label_multiclass</th><th>val_group</th><th>department_name</th><th>label_multiclass_pred_class</th><th>pred_proba_0</th><th>pred_proba_1</th><th>pred_proba_2</th></tr><tr><td>str</td><td>str</td><td>str</td><td>i64</td><td>str</td><td>str</td><td>str</td><td>str</td><td>str</td><td>str</td><td>i64</td><td>i64</td><td>f64</td><td>f64</td><td>f64</td><td>f64</td><td>f64</td><td>f64</td><td>f64</td><td>f64</td><td>f64</td><td>f64</td><td>f64</td><td>f64</td><td>f64</td><td>f64</td><td>f64</td><td>f64</td><td>f64</td><td>f64</td><td>f64</td><td>f64</td><td>f64</td><td>f64</td><td>f64</td><td>f64</td><td>f64</td><td>f64</td><td>f64</td><td>f64</td><td>f64</td><td>f64</td><td>i32</td><td>i32</td><td>str</td><td>i64</td><td>f32</td><td>f32</td><td>f32</td></tr></thead><tbody><tr><td>&quot;03223211130321…</td><td>&quot;landslide&quot;</td><td>&quot;nan&quot;</td><td>15299</td><td>&quot;GARAGOA&quot;</td><td>&quot;GARAGOA&quot;</td><td>&quot;BOYACÁ&quot;</td><td>&quot;BOYACA&quot;</td><td>&quot;Garagoa&quot;</td><td>&quot;Garagoa&quot;</td><td>15</td><td>299</td><td>10.0</td><td>287.0</td><td>6.0</td><td>1526.0</td><td>1538.036865</td><td>75.0</td><td>325.5</td><td>265.25</td><td>350.5</td><td>316.5</td><td>324.25</td><td>418.5</td><td>201.0</td><td>0.0</td><td>364.285824</td><td>75.0</td><td>6.0</td><td>1522.5</td><td>11.25</td><td>281.5</td><td>208.0</td><td>1538.036865</td><td>325.75</td><td>265.125</td><td>350.5</td><td>315.5</td><td>323.875</td><td>419.5</td><td>0.0</td><td>328.741391</td><td>1</td><td>15</td><td>&quot;BOYACA&quot;</td><td>1</td><td>0.016925</td><td>0.875729</td><td>0.107346</td></tr><tr><td>&quot;03223122031302…</td><td>&quot;landslide&quot;</td><td>&quot;nan&quot;</td><td>15180</td><td>&quot;CHISCAS&quot;</td><td>&quot;CHISCAS&quot;</td><td>&quot;BOYACÁ&quot;</td><td>&quot;BOYACA&quot;</td><td>&quot;Chiscas&quot;</td><td>&quot;Chiscas&quot;</td><td>15</td><td>180</td><td>17.5</td><td>145.0</td><td>6.0</td><td>2249.5</td><td>1886.560181</td><td>106.0</td><td>294.75</td><td>262.5</td><td>359.5</td><td>323.0</td><td>346.0</td><td>414.25</td><td>154.0</td><td>0.0</td><td>516.289099</td><td>106.0</td><td>6.0</td><td>2249.833333</td><td>15.666667</td><td>143.0</td><td>154.0</td><td>1886.560181</td><td>293.333333</td><td>265.833333</td><td>359.25</td><td>323.25</td><td>347.5</td><td>410.916667</td><td>0.0</td><td>467.426799</td><td>1</td><td>15</td><td>&quot;BOYACA&quot;</td><td>1</td><td>0.001139</td><td>0.997489</td><td>0.001371</td></tr><tr><td>&quot;03223211132332…</td><td>&quot;landslide&quot;</td><td>&quot;nan&quot;</td><td>15425</td><td>&quot;MACANAL&quot;</td><td>&quot;MACANAL&quot;</td><td>&quot;BOYACÁ&quot;</td><td>&quot;BOYACA&quot;</td><td>&quot;Macanal&quot;</td><td>&quot;Macanal&quot;</td><td>15</td><td>425</td><td>17.5</td><td>81.0</td><td>6.0</td><td>1861.0</td><td>2244.408936</td><td>75.0</td><td>336.75</td><td>273.25</td><td>346.5</td><td>329.75</td><td>316.5</td><td>397.25</td><td>127.0</td><td>307.723415</td><td>1567.062822</td><td>75.0</td><td>6.0</td><td>1863.5</td><td>19.5</td><td>83.0</td><td>121.333333</td><td>2244.408936</td><td>337.416667</td><td>272.75</td><td>345.666667</td><td>327.916667</td><td>316.666667</td><td>399.416667</td><td>343.472478</td><td>1615.522839</td><td>1</td><td>15</td><td>&quot;BOYACA&quot;</td><td>1</td><td>0.001431</td><td>0.996372</td><td>0.002197</td></tr><tr><td>&quot;03223122220313…</td><td>&quot;non_landslide&quot;</td><td>&quot;03223122220313…</td><td>15693</td><td>&quot;SANTA ROSA DE …</td><td>&quot;SANTA ROSA DE …</td><td>&quot;BOYACÁ&quot;</td><td>&quot;BOYACA&quot;</td><td>&quot;Santa Rosa De …</td><td>&quot;Santa Rosa De …</td><td>15</td><td>693</td><td>32.5</td><td>297.0</td><td>3.0</td><td>2828.0</td><td>981.300232</td><td>24.0</td><td>294.5</td><td>308.0</td><td>369.0</td><td>335.0</td><td>336.25</td><td>356.75</td><td>253.0</td><td>562.543144</td><td>4226.667207</td><td>24.0</td><td>3.0</td><td>2828.0</td><td>32.5</td><td>297.0</td><td>253.0</td><td>981.300232</td><td>294.5</td><td>308.0</td><td>369.0</td><td>335.0</td><td>336.25</td><td>356.75</td><td>562.543144</td><td>4226.667207</td><td>0</td><td>15</td><td>&quot;BOYACA&quot;</td><td>0</td><td>0.893177</td><td>0.075941</td><td>0.030882</td></tr><tr><td>&quot;03223211112233…</td><td>&quot;landslide&quot;</td><td>&quot;nan&quot;</td><td>15804</td><td>&quot;TIBANÁ&quot;</td><td>&quot;TIBANA&quot;</td><td>&quot;BOYACÁ&quot;</td><td>&quot;BOYACA&quot;</td><td>&quot;Tibaná&quot;</td><td>&quot;Tibana&quot;</td><td>15</td><td>804</td><td>17.0</td><td>65.0</td><td>6.0</td><td>2029.5</td><td>1263.649048</td><td>113.0</td><td>281.5</td><td>256.0</td><td>390.75</td><td>352.0</td><td>328.0</td><td>392.0</td><td>134.0</td><td>152.577564</td><td>286.562947</td><td>113.0</td><td>3.0</td><td>2012.25</td><td>19.5</td><td>89.0</td><td>128.0</td><td>1263.649048</td><td>280.375</td><td>255.0</td><td>369.375</td><td>330.75</td><td>350.5</td><td>414.375</td><td>97.47562</td><td>283.914126</td><td>1</td><td>15</td><td>&quot;BOYACA&quot;</td><td>1</td><td>0.042016</td><td>0.947338</td><td>0.010646</td></tr><tr><td>&hellip;</td><td>&hellip;</td><td>&hellip;</td><td>&hellip;</td><td>&hellip;</td><td>&hellip;</td><td>&hellip;</td><td>&hellip;</td><td>&hellip;</td><td>&hellip;</td><td>&hellip;</td><td>&hellip;</td><td>&hellip;</td><td>&hellip;</td><td>&hellip;</td><td>&hellip;</td><td>&hellip;</td><td>&hellip;</td><td>&hellip;</td><td>&hellip;</td><td>&hellip;</td><td>&hellip;</td><td>&hellip;</td><td>&hellip;</td><td>&hellip;</td><td>&hellip;</td><td>&hellip;</td><td>&hellip;</td><td>&hellip;</td><td>&hellip;</td><td>&hellip;</td><td>&hellip;</td><td>&hellip;</td><td>&hellip;</td><td>&hellip;</td><td>&hellip;</td><td>&hellip;</td><td>&hellip;</td><td>&hellip;</td><td>&hellip;</td><td>&hellip;</td><td>&hellip;</td><td>&hellip;</td><td>&hellip;</td><td>&hellip;</td><td>&hellip;</td><td>&hellip;</td><td>&hellip;</td><td>&hellip;</td></tr><tr><td>&quot;03223010120133…</td><td>&quot;non_landslide&quot;</td><td>&quot;03223010120133…</td><td>8549</td><td>&quot;PIOJÓ&quot;</td><td>&quot;PIOJO&quot;</td><td>&quot;ATLÁNTICO&quot;</td><td>&quot;ATLANTICO&quot;</td><td>&quot;Piojó&quot;</td><td>&quot;Piojo&quot;</td><td>8</td><td>549</td><td>6.5</td><td>270.0</td><td>6.0</td><td>141.0</td><td>1664.335571</td><td>168.0</td><td>339.5</td><td>311.0</td><td>304.0</td><td>276.0</td><td>356.5</td><td>412.5</td><td>186.0</td><td>784.422821</td><td>1003.273334</td><td>168.0</td><td>6.0</td><td>141.0</td><td>6.5</td><td>270.0</td><td>186.0</td><td>1664.335571</td><td>339.5</td><td>311.0</td><td>304.0</td><td>276.0</td><td>356.5</td><td>412.5</td><td>784.422821</td><td>1003.273334</td><td>0</td><td>8</td><td>&quot;ATLANTICO&quot;</td><td>0</td><td>0.900895</td><td>0.00872</td><td>0.090385</td></tr><tr><td>&quot;03223010120123…</td><td>&quot;landslide&quot;</td><td>&quot;nan&quot;</td><td>8549</td><td>&quot;PIOJÓ&quot;</td><td>&quot;PIOJO&quot;</td><td>&quot;ATLÁNTICO&quot;</td><td>&quot;ATLANTICO&quot;</td><td>&quot;Piojó&quot;</td><td>&quot;Piojo&quot;</td><td>8</td><td>549</td><td>8.0</td><td>309.0</td><td>0.0</td><td>317.0</td><td>2184.866699</td><td>168.0</td><td>342.0</td><td>289.0</td><td>319.0</td><td>302.5</td><td>338.5</td><td>408.5</td><td>183.0</td><td>0.0</td><td>1493.422583</td><td>168.0</td><td>0.0</td><td>317.0</td><td>8.0</td><td>309.0</td><td>183.0</td><td>2184.866699</td><td>342.0</td><td>289.0</td><td>319.0</td><td>302.5</td><td>338.5</td><td>408.5</td><td>0.0</td><td>1493.422583</td><td>1</td><td>8</td><td>&quot;ATLANTICO&quot;</td><td>0</td><td>0.586861</td><td>0.367986</td><td>0.045153</td></tr><tr><td>&quot;03223010121202…</td><td>&quot;non_landslide&quot;</td><td>&quot;03223010121202…</td><td>8549</td><td>&quot;PIOJÓ&quot;</td><td>&quot;PIOJO&quot;</td><td>&quot;ATLÁNTICO&quot;</td><td>&quot;ATLANTICO&quot;</td><td>&quot;Piojó&quot;</td><td>&quot;Piojo&quot;</td><td>8</td><td>549</td><td>3.0</td><td>180.0</td><td>6.0</td><td>60.0</td><td>1478.869629</td><td>157.0</td><td>361.0</td><td>322.0</td><td>323.0</td><td>298.0</td><td>315.0</td><td>380.0</td><td>180.0</td><td>1224.548501</td><td>466.116468</td><td>157.0</td><td>6.0</td><td>60.0</td><td>3.0</td><td>180.0</td><td>180.0</td><td>1478.869629</td><td>361.0</td><td>322.0</td><td>323.0</td><td>298.0</td><td>315.0</td><td>380.0</td><td>1224.548501</td><td>466.116468</td><td>0</td><td>8</td><td>&quot;ATLANTICO&quot;</td><td>0</td><td>0.970593</td><td>0.00605</td><td>0.023358</td></tr><tr><td>&quot;03223010120201…</td><td>&quot;non_landslide&quot;</td><td>&quot;03223010120201…</td><td>8549</td><td>&quot;PIOJÓ&quot;</td><td>&quot;PIOJO&quot;</td><td>&quot;ATLÁNTICO&quot;</td><td>&quot;ATLANTICO&quot;</td><td>&quot;Piojó&quot;</td><td>&quot;Piojo&quot;</td><td>8</td><td>549</td><td>2.0</td><td>134.0</td><td>29.0</td><td>9.0</td><td>1318.163574</td><td>189.0</td><td>313.25</td><td>331.5</td><td>279.25</td><td>265.0</td><td>407.5</td><td>403.75</td><td>177.0</td><td>307.870608</td><td>1304.524066</td><td>189.0</td><td>29.0</td><td>9.0</td><td>2.0</td><td>134.0</td><td>177.0</td><td>1318.163574</td><td>313.25</td><td>331.5</td><td>279.25</td><td>265.0</td><td>407.5</td><td>403.75</td><td>307.870608</td><td>1304.524066</td><td>0</td><td>8</td><td>&quot;ATLANTICO&quot;</td><td>0</td><td>0.99626</td><td>0.000614</td><td>0.003126</td></tr><tr><td>&quot;03223010120200…</td><td>&quot;non_landslide&quot;</td><td>&quot;03223010120200…</td><td>8549</td><td>&quot;PIOJÓ&quot;</td><td>&quot;PIOJO&quot;</td><td>&quot;ATLÁNTICO&quot;</td><td>&quot;ATLANTICO&quot;</td><td>&quot;Piojó&quot;</td><td>&quot;Piojo&quot;</td><td>8</td><td>549</td><td>0.0</td><td>0.0</td><td>6.0</td><td>0.0</td><td>1332.576416</td><td>189.0</td><td>0.0</td><td>0.0</td><td>0.0</td><td>0.0</td><td>0.0</td><td>0.0</td><td>180.0</td><td>2331.088722</td><td>1054.576276</td><td>189.0</td><td>6.0</td><td>0.0</td><td>0.0</td><td>0.0</td><td>180.0</td><td>1332.576416</td><td>0.0</td><td>0.0</td><td>0.0</td><td>0.0</td><td>0.0</td><td>0.0</td><td>2331.088722</td><td>1054.576276</td><td>0</td><td>8</td><td>&quot;ATLANTICO&quot;</td><td>0</td><td>0.991603</td><td>0.005263</td><td>0.003134</td></tr></tbody></table></div>"
      ],
      "text/plain": [
       "shape: (3_299, 49)\n",
       "┌───────────┬───────────┬───────────┬───────────┬───┬───────────┬───────────┬───────────┬──────────┐\n",
       "│ quadkey   ┆ MOV_TYPE  ┆ OBJECTID  ┆ MPIO_CCNC ┆ … ┆ label_mul ┆ pred_prob ┆ pred_prob ┆ pred_pro │\n",
       "│ ---       ┆ ---       ┆ ---       ┆ T         ┆   ┆ ticlass_p ┆ a_0       ┆ a_1       ┆ ba_2     │\n",
       "│ str       ┆ str       ┆ str       ┆ ---       ┆   ┆ red_class ┆ ---       ┆ ---       ┆ ---      │\n",
       "│           ┆           ┆           ┆ i64       ┆   ┆ ---       ┆ f32       ┆ f32       ┆ f32      │\n",
       "│           ┆           ┆           ┆           ┆   ┆ i64       ┆           ┆           ┆          │\n",
       "╞═══════════╪═══════════╪═══════════╪═══════════╪═══╪═══════════╪═══════════╪═══════════╪══════════╡\n",
       "│ 032232111 ┆ landslide ┆ nan       ┆ 15299     ┆ … ┆ 1         ┆ 0.016925  ┆ 0.875729  ┆ 0.107346 │\n",
       "│ 303212232 ┆           ┆           ┆           ┆   ┆           ┆           ┆           ┆          │\n",
       "│ 032231220 ┆ landslide ┆ nan       ┆ 15180     ┆ … ┆ 1         ┆ 0.001139  ┆ 0.997489  ┆ 0.001371 │\n",
       "│ 313022023 ┆           ┆           ┆           ┆   ┆           ┆           ┆           ┆          │\n",
       "│ 032232111 ┆ landslide ┆ nan       ┆ 15425     ┆ … ┆ 1         ┆ 0.001431  ┆ 0.996372  ┆ 0.002197 │\n",
       "│ 323322232 ┆           ┆           ┆           ┆   ┆           ┆           ┆           ┆          │\n",
       "│ 032231222 ┆ non_lands ┆ 032231222 ┆ 15693     ┆ … ┆ 0         ┆ 0.893177  ┆ 0.075941  ┆ 0.030882 │\n",
       "│ 203132321 ┆ lide      ┆ 203132321 ┆           ┆   ┆           ┆           ┆           ┆          │\n",
       "│ 032232111 ┆ landslide ┆ nan       ┆ 15804     ┆ … ┆ 1         ┆ 0.042016  ┆ 0.947338  ┆ 0.010646 │\n",
       "│ 122332201 ┆           ┆           ┆           ┆   ┆           ┆           ┆           ┆          │\n",
       "│ …         ┆ …         ┆ …         ┆ …         ┆ … ┆ …         ┆ …         ┆ …         ┆ …        │\n",
       "│ 032230101 ┆ non_lands ┆ 032230101 ┆ 8549      ┆ … ┆ 0         ┆ 0.900895  ┆ 0.00872   ┆ 0.090385 │\n",
       "│ 201331212 ┆ lide      ┆ 201331212 ┆           ┆   ┆           ┆           ┆           ┆          │\n",
       "│ 032230101 ┆ landslide ┆ nan       ┆ 8549      ┆ … ┆ 0         ┆ 0.586861  ┆ 0.367986  ┆ 0.045153 │\n",
       "│ 201233323 ┆           ┆           ┆           ┆   ┆           ┆           ┆           ┆          │\n",
       "│ 032230101 ┆ non_lands ┆ 032230101 ┆ 8549      ┆ … ┆ 0         ┆ 0.970593  ┆ 0.00605   ┆ 0.023358 │\n",
       "│ 212022232 ┆ lide      ┆ 212022232 ┆           ┆   ┆           ┆           ┆           ┆          │\n",
       "│ 032230101 ┆ non_lands ┆ 032230101 ┆ 8549      ┆ … ┆ 0         ┆ 0.99626   ┆ 0.000614  ┆ 0.003126 │\n",
       "│ 202011101 ┆ lide      ┆ 202011101 ┆           ┆   ┆           ┆           ┆           ┆          │\n",
       "│ 032230101 ┆ non_lands ┆ 032230101 ┆ 8549      ┆ … ┆ 0         ┆ 0.991603  ┆ 0.005263  ┆ 0.003134 │\n",
       "│ 202001200 ┆ lide      ┆ 202001200 ┆           ┆   ┆           ┆           ┆           ┆          │\n",
       "└───────────┴───────────┴───────────┴───────────┴───┴───────────┴───────────┴───────────┴──────────┘"
      ]
     },
     "execution_count": 27,
     "metadata": {},
     "output_type": "execute_result"
    }
   ],
   "source": [
    "predictions_kfolds_df"
   ]
  },
  {
   "cell_type": "code",
   "execution_count": 28,
   "metadata": {},
   "outputs": [],
   "source": [
    "predictions_kfolds_df.write_parquet(OUTPUT_PATH)"
   ]
  }
 ],
 "metadata": {
  "kernelspec": {
   "display_name": "immap-evidem",
   "language": "python",
   "name": "python3"
  },
  "language_info": {
   "codemirror_mode": {
    "name": "ipython",
    "version": 3
   },
   "file_extension": ".py",
   "mimetype": "text/x-python",
   "name": "python",
   "nbconvert_exporter": "python",
   "pygments_lexer": "ipython3",
   "version": "3.9.18"
  }
 },
 "nbformat": 4,
 "nbformat_minor": 2
}
