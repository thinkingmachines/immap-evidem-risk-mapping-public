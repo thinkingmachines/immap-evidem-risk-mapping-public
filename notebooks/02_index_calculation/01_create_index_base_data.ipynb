{
 "cells": [
  {
   "cell_type": "markdown",
   "metadata": {},
   "source": [
    "# Create index base data\n",
    "\n",
    "This notebook creates the base table from which the index will be calculated\n",
    "- Selecting area (if needed)\n",
    "- Filtering grids with nulls\n",
    "- Feature selection\n",
    "\n",
    "## Input\n",
    "- Aligned dataset with all processed features\n",
    "\n",
    "> Input file for this notebook is produced in `02_dataset_alignment/01_align_index_datasets.ipynb`. The file is provided in the project Google Drive folder.\n",
    "\n",
    "## Output \n",
    "- Aligned dataset with selected features and areas, to be used in index calculation\n"
   ]
  },
  {
   "cell_type": "markdown",
   "metadata": {},
   "source": [
    "## Imports and Set-up"
   ]
  },
  {
   "cell_type": "code",
   "execution_count": 1,
   "metadata": {},
   "outputs": [],
   "source": [
    "%load_ext autoreload\n",
    "%autoreload 2\n",
    "\n",
    "# Standard imports\n",
    "import sys\n",
    "import pandas as pd\n",
    "\n",
    "# geospatial\n",
    "import polars as pl\n",
    "\n",
    "\n",
    "import re"
   ]
  },
  {
   "cell_type": "code",
   "execution_count": 2,
   "metadata": {},
   "outputs": [],
   "source": [
    "# Util imports\n",
    "sys.path.append(\"../../\")  # include parent directory\n",
    "from src.settings import DATA_DIR\n",
    "from src.index_utils import add_flag_to_filepath"
   ]
  },
  {
   "cell_type": "markdown",
   "metadata": {},
   "source": [
    "## Set paths and input paramters"
   ]
  },
  {
   "cell_type": "code",
   "execution_count": 3,
   "metadata": {},
   "outputs": [],
   "source": [
    "ALIGNED_DIR = DATA_DIR / \"aligned\"\n",
    "ALIGNED_DATA_PARQUET = (\n",
    "    ALIGNED_DIR / \"parquets/aligned_index_datasets_consolidated_20240423.parquet\"\n",
    ")\n",
    "\n",
    "VERSION = pd.to_datetime(\"today\").strftime(\"%Y%m%d\")\n",
    "INDEX_OUTPUT_DIR = DATA_DIR / \"output/component_2\"\n",
    "\n",
    "# if True, drop data with nulls in census data\n",
    "DROP_NO_CENSUS = True\n",
    "CHECK_CENSUS_COLS = [\"census_population_total_count\"]"
   ]
  },
  {
   "cell_type": "markdown",
   "metadata": {},
   "source": [
    "## Create output filepath based on options\n"
   ]
  },
  {
   "cell_type": "code",
   "execution_count": 4,
   "metadata": {},
   "outputs": [
    {
     "data": {
      "text/plain": [
       "PosixPath('/home/jc_tm/project_repos/immap-evidem-risk-mapping/data/output/component_2/index_base_data_dropnocensus_20240528.parquet')"
      ]
     },
     "execution_count": 4,
     "metadata": {},
     "output_type": "execute_result"
    }
   ],
   "source": [
    "BASE_FPATH = INDEX_OUTPUT_DIR / f\"index_base_data.parquet\"\n",
    "OUT_FPATH = BASE_FPATH\n",
    "\n",
    "if DROP_NO_CENSUS:\n",
    "    OUT_FPATH = add_flag_to_filepath(OUT_FPATH, \"dropnocensus\")\n",
    "\n",
    "# Add version\n",
    "OUT_FPATH = add_flag_to_filepath(OUT_FPATH, VERSION)\n",
    "\n",
    "OUT_FPATH"
   ]
  },
  {
   "cell_type": "markdown",
   "metadata": {},
   "source": [
    "## Load data"
   ]
  },
  {
   "cell_type": "code",
   "execution_count": 5,
   "metadata": {},
   "outputs": [
    {
     "data": {
      "text/html": [
       "<div><style>\n",
       ".dataframe > thead > tr,\n",
       ".dataframe > tbody > tr {\n",
       "  text-align: right;\n",
       "  white-space: pre-wrap;\n",
       "}\n",
       "</style>\n",
       "<small>shape: (221_152, 123)</small><table border=\"1\" class=\"dataframe\"><thead><tr><th>quadkey</th><th>MPIO_CCNCT</th><th>MPIO_CNMBR</th><th>MPIO_CNMBR_EN</th><th>DPTO_CNMBR</th><th>DPTO_CNMBR_EN</th><th>Municipio</th><th>Municipio_EN</th><th>DPTO_CCDGO</th><th>MPIO_CCDGO</th><th>MPIO_CRSLC</th><th>MPIO_NAREA</th><th>MPIO_NANO</th><th>SHAPE_AREA</th><th>SHAPE_LEN</th><th>building_area_m2</th><th>building_area_fraction</th><th>building_count</th><th>census_dwellings_count</th><th>census_household_count</th><th>census_household_to_dwellings_ratio</th><th>census_population_total_count</th><th>census_population_density_per_m2</th><th>census_population_men_count</th><th>census_population_women_count</th><th>census_population_0_9_count</th><th>census_population_10_19_count</th><th>census_population_20_29_count</th><th>census_population_30_39_count</th><th>census_population_40_49_count</th><th>census_population_50_59_count</th><th>census_population_60_69_count</th><th>census_population_70_79_count</th><th>census_population_80_over_count</th><th>census_population_dependent_count</th><th>census_population_men_percent</th><th>census_population_women_percent</th><th>&hellip;</th><th>census_dwellings_internet_unknown_percent</th><th>travel_time_to_cities_hr_mean</th><th>travel_time_to_cities_hr_median</th><th>travel_time_to_cities_hr_max</th><th>travel_time_to_cities_hr_min</th><th>travel_time_to_cities_hr_count</th><th>travel_time_to_cities_hr_sum</th><th>ipm_median</th><th>ipm_mean</th><th>ipm_min</th><th>ipm_max</th><th>ipm_count</th><th>rwi</th><th>rwi_flipped</th><th>rwi_scaled</th><th>rwi_error</th><th>poverty_index</th><th>travel_time_to_nearest_healthcare_min_mean</th><th>travel_time_to_nearest_healthcare_min_median</th><th>travel_time_to_nearest_healthcare_min_max</th><th>travel_time_to_nearest_healthcare_min_min</th><th>travel_time_to_nearest_healthcare_min_count</th><th>travel_time_to_nearest_healthcare_min_sum</th><th>travel_time_to_nearest_healthcare_walking_only_min_mean</th><th>travel_time_to_nearest_healthcare_walking_only_min_median</th><th>travel_time_to_nearest_healthcare_walking_only_min_max</th><th>travel_time_to_nearest_healthcare_walking_only_min_min</th><th>travel_time_to_nearest_healthcare_walking_only_min_count</th><th>travel_time_to_nearest_healthcare_walking_only_min_sum</th><th>grid_area_m2</th><th>cropland_area_m2</th><th>cropland_area_fraction</th><th>builtup_area_m2</th><th>builtup_area_fraction</th><th>distance_to_nearest_healthcare_m</th><th>travel_time_to_nearest_healthcare_driving_min</th><th>travel_time_to_nearest_healthcare_walking_min</th></tr><tr><td>str</td><td>str</td><td>str</td><td>str</td><td>str</td><td>str</td><td>str</td><td>str</td><td>str</td><td>str</td><td>str</td><td>f64</td><td>i64</td><td>f64</td><td>f64</td><td>f64</td><td>f64</td><td>f64</td><td>f64</td><td>f64</td><td>f64</td><td>f64</td><td>f64</td><td>f64</td><td>f64</td><td>f64</td><td>f64</td><td>f64</td><td>f64</td><td>f64</td><td>f64</td><td>f64</td><td>f64</td><td>f64</td><td>f64</td><td>f64</td><td>f64</td><td>&hellip;</td><td>f64</td><td>f64</td><td>f64</td><td>f64</td><td>f64</td><td>i64</td><td>f64</td><td>f64</td><td>f64</td><td>f64</td><td>f64</td><td>f64</td><td>f64</td><td>f64</td><td>f64</td><td>f64</td><td>f64</td><td>f64</td><td>f64</td><td>f64</td><td>f64</td><td>i64</td><td>f64</td><td>f64</td><td>f64</td><td>f64</td><td>f64</td><td>i64</td><td>f64</td><td>f64</td><td>f64</td><td>f64</td><td>f64</td><td>f64</td><td>str</td><td>str</td><td>str</td></tr></thead><tbody><tr><td>&quot;03223223010033…</td><td>&quot;86749&quot;</td><td>&quot;SIBUNDOY&quot;</td><td>&quot;SIBUNDOY&quot;</td><td>&quot;PUTUMAYO&quot;</td><td>&quot;PUTUMAYO&quot;</td><td>&quot;Sibundoy&quot;</td><td>&quot;Sibundoy&quot;</td><td>&quot;86&quot;</td><td>&quot;749&quot;</td><td>&quot;Decreto 1871 d…</td><td>97.734625</td><td>2020</td><td>0.007922</td><td>0.511382</td><td>0.0</td><td>0.0</td><td>0.0</td><td>null</td><td>null</td><td>null</td><td>null</td><td>null</td><td>null</td><td>null</td><td>null</td><td>null</td><td>null</td><td>null</td><td>null</td><td>null</td><td>null</td><td>null</td><td>null</td><td>null</td><td>null</td><td>null</td><td>&hellip;</td><td>null</td><td>349.0</td><td>349.0</td><td>349.0</td><td>349.0</td><td>1</td><td>349.0</td><td>null</td><td>null</td><td>null</td><td>null</td><td>null</td><td>null</td><td>null</td><td>null</td><td>null</td><td>null</td><td>351.54718</td><td>351.54718</td><td>351.54718</td><td>351.54718</td><td>1</td><td>351.54718</td><td>876.0</td><td>876.0</td><td>876.0</td><td>876.0</td><td>1</td><td>876.0</td><td>23370.477172</td><td>0.0</td><td>0.0</td><td>0.0</td><td>0.0</td><td>&quot;13488.58705127…</td><td>&quot;&gt;60&quot;</td><td>&quot;&gt;60&quot;</td></tr><tr><td>&quot;03223223010033…</td><td>&quot;86749&quot;</td><td>&quot;SIBUNDOY&quot;</td><td>&quot;SIBUNDOY&quot;</td><td>&quot;PUTUMAYO&quot;</td><td>&quot;PUTUMAYO&quot;</td><td>&quot;Sibundoy&quot;</td><td>&quot;Sibundoy&quot;</td><td>&quot;86&quot;</td><td>&quot;749&quot;</td><td>&quot;Decreto 1871 d…</td><td>97.734625</td><td>2020</td><td>0.007922</td><td>0.511382</td><td>0.0</td><td>0.0</td><td>0.0</td><td>null</td><td>null</td><td>null</td><td>null</td><td>null</td><td>null</td><td>null</td><td>null</td><td>null</td><td>null</td><td>null</td><td>null</td><td>null</td><td>null</td><td>null</td><td>null</td><td>null</td><td>null</td><td>null</td><td>&hellip;</td><td>null</td><td>380.0</td><td>380.0</td><td>411.0</td><td>349.0</td><td>2</td><td>760.0</td><td>null</td><td>null</td><td>null</td><td>null</td><td>null</td><td>null</td><td>null</td><td>null</td><td>null</td><td>null</td><td>351.54718</td><td>351.54718</td><td>351.54718</td><td>351.54718</td><td>1</td><td>351.54718</td><td>876.0</td><td>876.0</td><td>876.0</td><td>876.0</td><td>1</td><td>876.0</td><td>23370.477173</td><td>0.0</td><td>0.0</td><td>0.0</td><td>0.0</td><td>&quot;13308.69180533…</td><td>&quot;&gt;60&quot;</td><td>&quot;&gt;60&quot;</td></tr><tr><td>&quot;03223223010033…</td><td>&quot;86749&quot;</td><td>&quot;SIBUNDOY&quot;</td><td>&quot;SIBUNDOY&quot;</td><td>&quot;PUTUMAYO&quot;</td><td>&quot;PUTUMAYO&quot;</td><td>&quot;Sibundoy&quot;</td><td>&quot;Sibundoy&quot;</td><td>&quot;86&quot;</td><td>&quot;749&quot;</td><td>&quot;Decreto 1871 d…</td><td>97.734625</td><td>2020</td><td>0.007922</td><td>0.511382</td><td>0.0</td><td>0.0</td><td>0.0</td><td>null</td><td>null</td><td>null</td><td>null</td><td>null</td><td>null</td><td>null</td><td>null</td><td>null</td><td>null</td><td>null</td><td>null</td><td>null</td><td>null</td><td>null</td><td>null</td><td>null</td><td>null</td><td>null</td><td>&hellip;</td><td>null</td><td>349.0</td><td>349.0</td><td>349.0</td><td>349.0</td><td>1</td><td>349.0</td><td>null</td><td>null</td><td>null</td><td>null</td><td>null</td><td>null</td><td>null</td><td>null</td><td>null</td><td>null</td><td>351.54718</td><td>351.54718</td><td>351.54718</td><td>351.54718</td><td>1</td><td>351.54718</td><td>876.0</td><td>876.0</td><td>876.0</td><td>876.0</td><td>1</td><td>876.0</td><td>23370.477172</td><td>0.0</td><td>0.0</td><td>0.0</td><td>0.0</td><td>&quot;13321.72933603…</td><td>&quot;&gt;60&quot;</td><td>&quot;&gt;60&quot;</td></tr><tr><td>&quot;03223223010033…</td><td>&quot;86749&quot;</td><td>&quot;SIBUNDOY&quot;</td><td>&quot;SIBUNDOY&quot;</td><td>&quot;PUTUMAYO&quot;</td><td>&quot;PUTUMAYO&quot;</td><td>&quot;Sibundoy&quot;</td><td>&quot;Sibundoy&quot;</td><td>&quot;86&quot;</td><td>&quot;749&quot;</td><td>&quot;Decreto 1871 d…</td><td>97.734625</td><td>2020</td><td>0.007922</td><td>0.511382</td><td>0.0</td><td>0.0</td><td>0.0</td><td>null</td><td>null</td><td>null</td><td>null</td><td>null</td><td>null</td><td>null</td><td>null</td><td>null</td><td>null</td><td>null</td><td>null</td><td>null</td><td>null</td><td>null</td><td>null</td><td>null</td><td>null</td><td>null</td><td>&hellip;</td><td>null</td><td>349.0</td><td>349.0</td><td>349.0</td><td>349.0</td><td>1</td><td>349.0</td><td>null</td><td>null</td><td>null</td><td>null</td><td>null</td><td>null</td><td>null</td><td>null</td><td>null</td><td>null</td><td>351.54718</td><td>351.54718</td><td>351.54718</td><td>351.54718</td><td>1</td><td>351.54718</td><td>876.0</td><td>876.0</td><td>876.0</td><td>876.0</td><td>1</td><td>876.0</td><td>23370.477172</td><td>0.0</td><td>0.0</td><td>0.0</td><td>0.0</td><td>&quot;13336.50660368…</td><td>&quot;&gt;60&quot;</td><td>&quot;&gt;60&quot;</td></tr><tr><td>&quot;03223223010122…</td><td>&quot;86749&quot;</td><td>&quot;SIBUNDOY&quot;</td><td>&quot;SIBUNDOY&quot;</td><td>&quot;PUTUMAYO&quot;</td><td>&quot;PUTUMAYO&quot;</td><td>&quot;Sibundoy&quot;</td><td>&quot;Sibundoy&quot;</td><td>&quot;86&quot;</td><td>&quot;749&quot;</td><td>&quot;Decreto 1871 d…</td><td>97.734625</td><td>2020</td><td>0.007922</td><td>0.511382</td><td>0.0</td><td>0.0</td><td>0.0</td><td>null</td><td>null</td><td>null</td><td>null</td><td>null</td><td>null</td><td>null</td><td>null</td><td>null</td><td>null</td><td>null</td><td>null</td><td>null</td><td>null</td><td>null</td><td>null</td><td>null</td><td>null</td><td>null</td><td>&hellip;</td><td>null</td><td>349.0</td><td>349.0</td><td>349.0</td><td>349.0</td><td>1</td><td>349.0</td><td>null</td><td>null</td><td>null</td><td>null</td><td>null</td><td>null</td><td>null</td><td>null</td><td>null</td><td>null</td><td>351.54718</td><td>351.54718</td><td>351.54718</td><td>351.54718</td><td>1</td><td>351.54718</td><td>876.0</td><td>876.0</td><td>876.0</td><td>876.0</td><td>1</td><td>876.0</td><td>23370.477172</td><td>0.0</td><td>0.0</td><td>0.0</td><td>0.0</td><td>&quot;13353.01783238…</td><td>&quot;&gt;60&quot;</td><td>&quot;&gt;60&quot;</td></tr><tr><td>&hellip;</td><td>&hellip;</td><td>&hellip;</td><td>&hellip;</td><td>&hellip;</td><td>&hellip;</td><td>&hellip;</td><td>&hellip;</td><td>&hellip;</td><td>&hellip;</td><td>&hellip;</td><td>&hellip;</td><td>&hellip;</td><td>&hellip;</td><td>&hellip;</td><td>&hellip;</td><td>&hellip;</td><td>&hellip;</td><td>&hellip;</td><td>&hellip;</td><td>&hellip;</td><td>&hellip;</td><td>&hellip;</td><td>&hellip;</td><td>&hellip;</td><td>&hellip;</td><td>&hellip;</td><td>&hellip;</td><td>&hellip;</td><td>&hellip;</td><td>&hellip;</td><td>&hellip;</td><td>&hellip;</td><td>&hellip;</td><td>&hellip;</td><td>&hellip;</td><td>&hellip;</td><td>&hellip;</td><td>&hellip;</td><td>&hellip;</td><td>&hellip;</td><td>&hellip;</td><td>&hellip;</td><td>&hellip;</td><td>&hellip;</td><td>&hellip;</td><td>&hellip;</td><td>&hellip;</td><td>&hellip;</td><td>&hellip;</td><td>&hellip;</td><td>&hellip;</td><td>&hellip;</td><td>&hellip;</td><td>&hellip;</td><td>&hellip;</td><td>&hellip;</td><td>&hellip;</td><td>&hellip;</td><td>&hellip;</td><td>&hellip;</td><td>&hellip;</td><td>&hellip;</td><td>&hellip;</td><td>&hellip;</td><td>&hellip;</td><td>&hellip;</td><td>&hellip;</td><td>&hellip;</td><td>&hellip;</td><td>&hellip;</td><td>&hellip;</td><td>&hellip;</td><td>&hellip;</td><td>&hellip;</td></tr><tr><td>&quot;03223102222032…</td><td>&quot;54250&quot;</td><td>&quot;EL TARRA&quot;</td><td>&quot;EL TARRA&quot;</td><td>&quot;NORTE DE SANTA…</td><td>&quot;NORTE DE SANTA…</td><td>&quot;El Tarra&quot;</td><td>&quot;El Tarra&quot;</td><td>&quot;54&quot;</td><td>&quot;250&quot;</td><td>&quot;Ordenanza 4 de…</td><td>704.100287</td><td>2020</td><td>0.057828</td><td>1.421222</td><td>0.0</td><td>0.0</td><td>0.0</td><td>null</td><td>null</td><td>null</td><td>null</td><td>null</td><td>null</td><td>null</td><td>null</td><td>null</td><td>null</td><td>null</td><td>null</td><td>null</td><td>null</td><td>null</td><td>null</td><td>null</td><td>null</td><td>null</td><td>&hellip;</td><td>null</td><td>320.0</td><td>320.0</td><td>320.0</td><td>320.0</td><td>1</td><td>320.0</td><td>null</td><td>null</td><td>null</td><td>null</td><td>null</td><td>-0.444</td><td>0.444</td><td>67.961642</td><td>0.418</td><td>67.961642</td><td>124.72142</td><td>124.72142</td><td>124.72142</td><td>124.72142</td><td>1</td><td>124.72142</td><td>514.0</td><td>514.0</td><td>514.0</td><td>514.0</td><td>1</td><td>514.0</td><td>23370.477172</td><td>0.0</td><td>0.0</td><td>0.0</td><td>0.0</td><td>&quot;8936.563610732…</td><td>&quot;&gt;60&quot;</td><td>&quot;&gt;60&quot;</td></tr><tr><td>&quot;03223102222032…</td><td>&quot;54250&quot;</td><td>&quot;EL TARRA&quot;</td><td>&quot;EL TARRA&quot;</td><td>&quot;NORTE DE SANTA…</td><td>&quot;NORTE DE SANTA…</td><td>&quot;El Tarra&quot;</td><td>&quot;El Tarra&quot;</td><td>&quot;54&quot;</td><td>&quot;250&quot;</td><td>&quot;Ordenanza 4 de…</td><td>704.100287</td><td>2020</td><td>0.057828</td><td>1.421222</td><td>0.0</td><td>0.0</td><td>0.0</td><td>null</td><td>null</td><td>null</td><td>null</td><td>null</td><td>null</td><td>null</td><td>null</td><td>null</td><td>null</td><td>null</td><td>null</td><td>null</td><td>null</td><td>null</td><td>null</td><td>null</td><td>null</td><td>null</td><td>&hellip;</td><td>null</td><td>338.5</td><td>338.5</td><td>357.0</td><td>320.0</td><td>2</td><td>677.0</td><td>null</td><td>null</td><td>null</td><td>null</td><td>null</td><td>-0.444</td><td>0.444</td><td>67.961642</td><td>0.418</td><td>67.961642</td><td>137.674377</td><td>137.674377</td><td>150.627335</td><td>124.72142</td><td>2</td><td>275.348755</td><td>521.0</td><td>521.0</td><td>528.0</td><td>514.0</td><td>2</td><td>1042.0</td><td>23370.477172</td><td>0.0</td><td>0.0</td><td>0.0</td><td>0.0</td><td>&quot;8984.079510839…</td><td>&quot;&gt;60&quot;</td><td>&quot;&gt;60&quot;</td></tr><tr><td>&quot;03223102222032…</td><td>&quot;54250&quot;</td><td>&quot;EL TARRA&quot;</td><td>&quot;EL TARRA&quot;</td><td>&quot;NORTE DE SANTA…</td><td>&quot;NORTE DE SANTA…</td><td>&quot;El Tarra&quot;</td><td>&quot;El Tarra&quot;</td><td>&quot;54&quot;</td><td>&quot;250&quot;</td><td>&quot;Ordenanza 4 de…</td><td>704.100287</td><td>2020</td><td>0.057828</td><td>1.421222</td><td>0.0</td><td>0.0</td><td>0.0</td><td>null</td><td>null</td><td>null</td><td>null</td><td>null</td><td>null</td><td>null</td><td>null</td><td>null</td><td>null</td><td>null</td><td>null</td><td>null</td><td>null</td><td>null</td><td>null</td><td>null</td><td>null</td><td>null</td><td>&hellip;</td><td>null</td><td>357.0</td><td>357.0</td><td>357.0</td><td>357.0</td><td>1</td><td>357.0</td><td>null</td><td>null</td><td>null</td><td>null</td><td>null</td><td>-0.444</td><td>0.444</td><td>67.961642</td><td>0.418</td><td>67.961642</td><td>150.627335</td><td>150.627335</td><td>150.627335</td><td>150.627335</td><td>1</td><td>150.627335</td><td>528.0</td><td>528.0</td><td>528.0</td><td>528.0</td><td>1</td><td>528.0</td><td>23370.477172</td><td>0.0</td><td>0.0</td><td>0.0</td><td>0.0</td><td>&quot;9033.932759316…</td><td>&quot;&gt;60&quot;</td><td>&quot;&gt;60&quot;</td></tr><tr><td>&quot;03223102222032…</td><td>&quot;54250&quot;</td><td>&quot;EL TARRA&quot;</td><td>&quot;EL TARRA&quot;</td><td>&quot;NORTE DE SANTA…</td><td>&quot;NORTE DE SANTA…</td><td>&quot;El Tarra&quot;</td><td>&quot;El Tarra&quot;</td><td>&quot;54&quot;</td><td>&quot;250&quot;</td><td>&quot;Ordenanza 4 de…</td><td>704.100287</td><td>2020</td><td>0.057828</td><td>1.421222</td><td>0.0</td><td>0.0</td><td>0.0</td><td>null</td><td>null</td><td>null</td><td>null</td><td>null</td><td>null</td><td>null</td><td>null</td><td>null</td><td>null</td><td>null</td><td>null</td><td>null</td><td>null</td><td>null</td><td>null</td><td>null</td><td>null</td><td>null</td><td>&hellip;</td><td>null</td><td>357.0</td><td>357.0</td><td>357.0</td><td>357.0</td><td>1</td><td>357.0</td><td>null</td><td>null</td><td>null</td><td>null</td><td>null</td><td>-0.444</td><td>0.444</td><td>67.961642</td><td>0.418</td><td>67.961642</td><td>150.627335</td><td>150.627335</td><td>150.627335</td><td>150.627335</td><td>1</td><td>150.627335</td><td>528.0</td><td>528.0</td><td>528.0</td><td>528.0</td><td>1</td><td>528.0</td><td>23370.477172</td><td>0.0</td><td>0.0</td><td>0.0</td><td>0.0</td><td>&quot;9086.084882773…</td><td>&quot;&gt;60&quot;</td><td>&quot;&gt;60&quot;</td></tr><tr><td>&quot;03223102222032…</td><td>&quot;54250&quot;</td><td>&quot;EL TARRA&quot;</td><td>&quot;EL TARRA&quot;</td><td>&quot;NORTE DE SANTA…</td><td>&quot;NORTE DE SANTA…</td><td>&quot;El Tarra&quot;</td><td>&quot;El Tarra&quot;</td><td>&quot;54&quot;</td><td>&quot;250&quot;</td><td>&quot;Ordenanza 4 de…</td><td>704.100287</td><td>2020</td><td>0.057828</td><td>1.421222</td><td>0.0</td><td>0.0</td><td>0.0</td><td>null</td><td>null</td><td>null</td><td>null</td><td>null</td><td>null</td><td>null</td><td>null</td><td>null</td><td>null</td><td>null</td><td>null</td><td>null</td><td>null</td><td>null</td><td>null</td><td>null</td><td>null</td><td>null</td><td>&hellip;</td><td>null</td><td>357.0</td><td>357.0</td><td>357.0</td><td>357.0</td><td>1</td><td>357.0</td><td>null</td><td>null</td><td>null</td><td>null</td><td>null</td><td>-0.444</td><td>0.444</td><td>67.961642</td><td>0.418</td><td>67.961642</td><td>150.627335</td><td>150.627335</td><td>150.627335</td><td>150.627335</td><td>1</td><td>150.627335</td><td>528.0</td><td>528.0</td><td>528.0</td><td>528.0</td><td>1</td><td>528.0</td><td>23370.477173</td><td>0.0</td><td>0.0</td><td>0.0</td><td>0.0</td><td>&quot;9140.496531830…</td><td>&quot;&gt;60&quot;</td><td>&quot;&gt;60&quot;</td></tr></tbody></table></div>"
      ],
      "text/plain": [
       "shape: (221_152, 123)\n",
       "┌───────────┬───────────┬───────────┬───────────┬───┬───────────┬───────────┬───────────┬──────────┐\n",
       "│ quadkey   ┆ MPIO_CCNC ┆ MPIO_CNMB ┆ MPIO_CNMB ┆ … ┆ builtup_a ┆ distance_ ┆ travel_ti ┆ travel_t │\n",
       "│ ---       ┆ T         ┆ R         ┆ R_EN      ┆   ┆ rea_fract ┆ to_neares ┆ me_to_nea ┆ ime_to_n │\n",
       "│ str       ┆ ---       ┆ ---       ┆ ---       ┆   ┆ ion       ┆ t_healthc ┆ rest_heal ┆ earest_h │\n",
       "│           ┆ str       ┆ str       ┆ str       ┆   ┆ ---       ┆ are_m     ┆ thcar…    ┆ ealthcar │\n",
       "│           ┆           ┆           ┆           ┆   ┆ f64       ┆ ---       ┆ ---       ┆ …        │\n",
       "│           ┆           ┆           ┆           ┆   ┆           ┆ str       ┆ str       ┆ ---      │\n",
       "│           ┆           ┆           ┆           ┆   ┆           ┆           ┆           ┆ str      │\n",
       "╞═══════════╪═══════════╪═══════════╪═══════════╪═══╪═══════════╪═══════════╪═══════════╪══════════╡\n",
       "│ 032232230 ┆ 86749     ┆ SIBUNDOY  ┆ SIBUNDOY  ┆ … ┆ 0.0       ┆ 13488.587 ┆ >60       ┆ >60      │\n",
       "│ 100333331 ┆           ┆           ┆           ┆   ┆           ┆ 05127119  ┆           ┆          │\n",
       "│ 032232230 ┆ 86749     ┆ SIBUNDOY  ┆ SIBUNDOY  ┆ … ┆ 0.0       ┆ 13308.691 ┆ >60       ┆ >60      │\n",
       "│ 100333323 ┆           ┆           ┆           ┆   ┆           ┆ 805333117 ┆           ┆          │\n",
       "│ 032232230 ┆ 86749     ┆ SIBUNDOY  ┆ SIBUNDOY  ┆ … ┆ 0.0       ┆ 13321.729 ┆ >60       ┆ >60      │\n",
       "│ 100333332 ┆           ┆           ┆           ┆   ┆           ┆ 336035429 ┆           ┆          │\n",
       "│ 032232230 ┆ 86749     ┆ SIBUNDOY  ┆ SIBUNDOY  ┆ … ┆ 0.0       ┆ 13336.506 ┆ >60       ┆ >60      │\n",
       "│ 100333333 ┆           ┆           ┆           ┆   ┆           ┆ 603686308 ┆           ┆          │\n",
       "│ 032232230 ┆ 86749     ┆ SIBUNDOY  ┆ SIBUNDOY  ┆ … ┆ 0.0       ┆ 13353.017 ┆ >60       ┆ >60      │\n",
       "│ 101222222 ┆           ┆           ┆           ┆   ┆           ┆ 832389014 ┆           ┆          │\n",
       "│ …         ┆ …         ┆ …         ┆ …         ┆ … ┆ …         ┆ …         ┆ …         ┆ …        │\n",
       "│ 032231022 ┆ 54250     ┆ EL TARRA  ┆ EL TARRA  ┆ … ┆ 0.0       ┆ 8936.5636 ┆ >60       ┆ >60      │\n",
       "│ 220323022 ┆           ┆           ┆           ┆   ┆           ┆ 10732781  ┆           ┆          │\n",
       "│ 032231022 ┆ 54250     ┆ EL TARRA  ┆ EL TARRA  ┆ … ┆ 0.0       ┆ 8984.0795 ┆ >60       ┆ >60      │\n",
       "│ 220323023 ┆           ┆           ┆           ┆   ┆           ┆ 10839689  ┆           ┆          │\n",
       "│ 032231022 ┆ 54250     ┆ EL TARRA  ┆ EL TARRA  ┆ … ┆ 0.0       ┆ 9033.9327 ┆ >60       ┆ >60      │\n",
       "│ 220323032 ┆           ┆           ┆           ┆   ┆           ┆ 59316718  ┆           ┆          │\n",
       "│ 032231022 ┆ 54250     ┆ EL TARRA  ┆ EL TARRA  ┆ … ┆ 0.0       ┆ 9086.0848 ┆ >60       ┆ >60      │\n",
       "│ 220323033 ┆           ┆           ┆           ┆   ┆           ┆ 82773284  ┆           ┆          │\n",
       "│ 032231022 ┆ 54250     ┆ EL TARRA  ┆ EL TARRA  ┆ … ┆ 0.0       ┆ 9140.4965 ┆ >60       ┆ >60      │\n",
       "│ 220323122 ┆           ┆           ┆           ┆   ┆           ┆ 31830137  ┆           ┆          │\n",
       "└───────────┴───────────┴───────────┴───────────┴───┴───────────┴───────────┴───────────┴──────────┘"
      ]
     },
     "execution_count": 5,
     "metadata": {},
     "output_type": "execute_result"
    }
   ],
   "source": [
    "aligned_df = pl.read_parquet(ALIGNED_DATA_PARQUET)\n",
    "aligned_df"
   ]
  },
  {
   "cell_type": "code",
   "execution_count": 6,
   "metadata": {},
   "outputs": [
    {
     "data": {
      "text/plain": [
       "OrderedDict([('quadkey', String),\n",
       "             ('MPIO_CCNCT', String),\n",
       "             ('MPIO_CNMBR', String),\n",
       "             ('MPIO_CNMBR_EN', String),\n",
       "             ('DPTO_CNMBR', String),\n",
       "             ('DPTO_CNMBR_EN', String),\n",
       "             ('Municipio', String),\n",
       "             ('Municipio_EN', String),\n",
       "             ('DPTO_CCDGO', String),\n",
       "             ('MPIO_CCDGO', String),\n",
       "             ('MPIO_CRSLC', String),\n",
       "             ('MPIO_NAREA', Float64),\n",
       "             ('MPIO_NANO', Int64),\n",
       "             ('SHAPE_AREA', Float64),\n",
       "             ('SHAPE_LEN', Float64),\n",
       "             ('building_area_m2', Float64),\n",
       "             ('building_area_fraction', Float64),\n",
       "             ('building_count', Float64),\n",
       "             ('census_dwellings_count', Float64),\n",
       "             ('census_household_count', Float64),\n",
       "             ('census_household_to_dwellings_ratio', Float64),\n",
       "             ('census_population_total_count', Float64),\n",
       "             ('census_population_density_per_m2', Float64),\n",
       "             ('census_population_men_count', Float64),\n",
       "             ('census_population_women_count', Float64),\n",
       "             ('census_population_0_9_count', Float64),\n",
       "             ('census_population_10_19_count', Float64),\n",
       "             ('census_population_20_29_count', Float64),\n",
       "             ('census_population_30_39_count', Float64),\n",
       "             ('census_population_40_49_count', Float64),\n",
       "             ('census_population_50_59_count', Float64),\n",
       "             ('census_population_60_69_count', Float64),\n",
       "             ('census_population_70_79_count', Float64),\n",
       "             ('census_population_80_over_count', Float64),\n",
       "             ('census_population_dependent_count', Float64),\n",
       "             ('census_population_men_percent', Float64),\n",
       "             ('census_population_women_percent', Float64),\n",
       "             ('census_population_0_9_percent', Float64),\n",
       "             ('census_population_10_19_percent', Float64),\n",
       "             ('census_population_20_29_percent', Float64),\n",
       "             ('census_population_30_39_percent', Float64),\n",
       "             ('census_population_40_49_percent', Float64),\n",
       "             ('census_population_50_59_percent', Float64),\n",
       "             ('census_population_60_69_percent', Float64),\n",
       "             ('census_population_70_79_percent', Float64),\n",
       "             ('census_population_80_over_percent', Float64),\n",
       "             ('census_population_dependent_percent', Float64),\n",
       "             ('census_population_edu_level_primary_count', Float64),\n",
       "             ('census_population_edu_level_secondary_count', Float64),\n",
       "             ('census_population_edu_level_technical_professional_count',\n",
       "              Float64),\n",
       "             ('census_population_edu_level_postgraduate_count', Float64),\n",
       "             ('census_population_edu_level_tertiary_count', Float64),\n",
       "             ('census_population_edu_level_none_count', Float64),\n",
       "             ('census_population_edu_level_unknown_count', Float64),\n",
       "             ('census_population_edu_level_primary_percent', Float64),\n",
       "             ('census_population_edu_level_secondary_percent', Float64),\n",
       "             ('census_population_edu_level_technical_professional_percent',\n",
       "              Float64),\n",
       "             ('census_population_edu_level_postgraduate_percent', Float64),\n",
       "             ('census_population_edu_level_tertiary_percent', Float64),\n",
       "             ('census_population_edu_level_none_percent', Float64),\n",
       "             ('census_population_edu_level_unknown_percent', Float64),\n",
       "             ('census_dwellings_water_service_count', Float64),\n",
       "             ('census_dwellings_no_water_service_count', Float64),\n",
       "             ('census_dwellings_sewerage_service_count', Float64),\n",
       "             ('census_dwellings_no_sewerage_service_count', Float64),\n",
       "             ('census_dwellings_garbage_collection_service_count', Float64),\n",
       "             ('census_dwellings_no_garbage_collection_service_count', Float64),\n",
       "             ('census_dwellings_water_service_percent', Float64),\n",
       "             ('census_dwellings_no_water_service_percent', Float64),\n",
       "             ('census_dwellings_sewerage_service_percent', Float64),\n",
       "             ('census_dwellings_no_sewerage_service_percent', Float64),\n",
       "             ('census_dwellings_garbage_collection_service_percent', Float64),\n",
       "             ('census_dwellings_no_garbage_collection_service_percent',\n",
       "              Float64),\n",
       "             ('census_dwellings_w_elec_count', Float64),\n",
       "             ('census_dwellings_wo_elec_count', Float64),\n",
       "             ('census_dwellings_w_elec_percent', Float64),\n",
       "             ('census_dwellings_wo_elec_percent', Float64),\n",
       "             ('census_dwellings_ind_count', Float64),\n",
       "             ('census_dwellings_eth_count', Float64),\n",
       "             ('census_dwellings_ind_percent', Float64),\n",
       "             ('census_dwellings_eth_percent', Float64),\n",
       "             ('census_dwellings_internet_service_count', Float64),\n",
       "             ('census_dwellings_no_internet_service_count', Float64),\n",
       "             ('census_dwellings_internet_unknown_count', Float64),\n",
       "             ('census_dwellings_internet_service_percent', Float64),\n",
       "             ('census_dwellings_no_internet_service_percent', Float64),\n",
       "             ('census_dwellings_internet_unknown_percent', Float64),\n",
       "             ('travel_time_to_cities_hr_mean', Float64),\n",
       "             ('travel_time_to_cities_hr_median', Float64),\n",
       "             ('travel_time_to_cities_hr_max', Float64),\n",
       "             ('travel_time_to_cities_hr_min', Float64),\n",
       "             ('travel_time_to_cities_hr_count', Int64),\n",
       "             ('travel_time_to_cities_hr_sum', Float64),\n",
       "             ('ipm_median', Float64),\n",
       "             ('ipm_mean', Float64),\n",
       "             ('ipm_min', Float64),\n",
       "             ('ipm_max', Float64),\n",
       "             ('ipm_count', Float64),\n",
       "             ('rwi', Float64),\n",
       "             ('rwi_flipped', Float64),\n",
       "             ('rwi_scaled', Float64),\n",
       "             ('rwi_error', Float64),\n",
       "             ('poverty_index', Float64),\n",
       "             ('travel_time_to_nearest_healthcare_min_mean', Float64),\n",
       "             ('travel_time_to_nearest_healthcare_min_median', Float64),\n",
       "             ('travel_time_to_nearest_healthcare_min_max', Float64),\n",
       "             ('travel_time_to_nearest_healthcare_min_min', Float64),\n",
       "             ('travel_time_to_nearest_healthcare_min_count', Int64),\n",
       "             ('travel_time_to_nearest_healthcare_min_sum', Float64),\n",
       "             ('travel_time_to_nearest_healthcare_walking_only_min_mean',\n",
       "              Float64),\n",
       "             ('travel_time_to_nearest_healthcare_walking_only_min_median',\n",
       "              Float64),\n",
       "             ('travel_time_to_nearest_healthcare_walking_only_min_max',\n",
       "              Float64),\n",
       "             ('travel_time_to_nearest_healthcare_walking_only_min_min',\n",
       "              Float64),\n",
       "             ('travel_time_to_nearest_healthcare_walking_only_min_count',\n",
       "              Int64),\n",
       "             ('travel_time_to_nearest_healthcare_walking_only_min_sum',\n",
       "              Float64),\n",
       "             ('grid_area_m2', Float64),\n",
       "             ('cropland_area_m2', Float64),\n",
       "             ('cropland_area_fraction', Float64),\n",
       "             ('builtup_area_m2', Float64),\n",
       "             ('builtup_area_fraction', Float64),\n",
       "             ('distance_to_nearest_healthcare_m', String),\n",
       "             ('travel_time_to_nearest_healthcare_driving_min', String),\n",
       "             ('travel_time_to_nearest_healthcare_walking_min', String)])"
      ]
     },
     "execution_count": 6,
     "metadata": {},
     "output_type": "execute_result"
    }
   ],
   "source": [
    "aligned_df.schema"
   ]
  },
  {
   "cell_type": "code",
   "execution_count": 7,
   "metadata": {},
   "outputs": [
    {
     "data": {
      "text/plain": [
       "(221152, 123)"
      ]
     },
     "execution_count": 7,
     "metadata": {},
     "output_type": "execute_result"
    }
   ],
   "source": [
    "aligned_df.shape"
   ]
  },
  {
   "cell_type": "code",
   "execution_count": 8,
   "metadata": {},
   "outputs": [],
   "source": [
    "process_df = aligned_df.clone()"
   ]
  },
  {
   "cell_type": "markdown",
   "metadata": {},
   "source": [
    "## Drop null columns"
   ]
  },
  {
   "cell_type": "code",
   "execution_count": 9,
   "metadata": {},
   "outputs": [
    {
     "name": "stdout",
     "output_type": "stream",
     "text": [
      "Shape before dropping nulls in ['census_population_total_count']: (221152, 123)\n",
      "Shape after dropping nulls in ['census_population_total_count']: (9910, 123)\n"
     ]
    }
   ],
   "source": [
    "if DROP_NO_CENSUS:\n",
    "    print(f\"Shape before dropping nulls in {CHECK_CENSUS_COLS}: {process_df.shape}\")\n",
    "    process_df = process_df.drop_nulls(CHECK_CENSUS_COLS)\n",
    "    print(f\"Shape after dropping nulls in {CHECK_CENSUS_COLS}: {process_df.shape}\")\n",
    "else:\n",
    "    print(\"Nulls in data retained\")"
   ]
  },
  {
   "cell_type": "markdown",
   "metadata": {},
   "source": [
    "## Inspect correlation between features\n",
    "\n",
    "This part will help us identify features that are highly correlated, which can indicate redundant quantities"
   ]
  },
  {
   "cell_type": "code",
   "execution_count": 10,
   "metadata": {},
   "outputs": [
    {
     "data": {
      "text/html": [
       "<div><style>\n",
       ".dataframe > thead > tr,\n",
       ".dataframe > tbody > tr {\n",
       "  text-align: right;\n",
       "  white-space: pre-wrap;\n",
       "}\n",
       "</style>\n",
       "<small>shape: (9_910, 105)</small><table border=\"1\" class=\"dataframe\"><thead><tr><th>building_area_m2</th><th>building_area_fraction</th><th>building_count</th><th>census_dwellings_count</th><th>census_household_count</th><th>census_household_to_dwellings_ratio</th><th>census_population_total_count</th><th>census_population_density_per_m2</th><th>census_population_men_count</th><th>census_population_women_count</th><th>census_population_0_9_count</th><th>census_population_10_19_count</th><th>census_population_20_29_count</th><th>census_population_30_39_count</th><th>census_population_40_49_count</th><th>census_population_50_59_count</th><th>census_population_60_69_count</th><th>census_population_70_79_count</th><th>census_population_80_over_count</th><th>census_population_dependent_count</th><th>census_population_men_percent</th><th>census_population_women_percent</th><th>census_population_0_9_percent</th><th>census_population_10_19_percent</th><th>census_population_20_29_percent</th><th>census_population_30_39_percent</th><th>census_population_40_49_percent</th><th>census_population_50_59_percent</th><th>census_population_60_69_percent</th><th>census_population_70_79_percent</th><th>census_population_80_over_percent</th><th>census_population_dependent_percent</th><th>census_population_edu_level_primary_count</th><th>census_population_edu_level_secondary_count</th><th>census_population_edu_level_technical_professional_count</th><th>census_population_edu_level_postgraduate_count</th><th>census_population_edu_level_tertiary_count</th><th>&hellip;</th><th>census_dwellings_internet_unknown_count</th><th>census_dwellings_internet_service_percent</th><th>census_dwellings_no_internet_service_percent</th><th>census_dwellings_internet_unknown_percent</th><th>travel_time_to_cities_hr_mean</th><th>travel_time_to_cities_hr_median</th><th>travel_time_to_cities_hr_max</th><th>travel_time_to_cities_hr_min</th><th>travel_time_to_cities_hr_count</th><th>travel_time_to_cities_hr_sum</th><th>ipm_median</th><th>ipm_mean</th><th>ipm_min</th><th>ipm_max</th><th>ipm_count</th><th>rwi</th><th>rwi_flipped</th><th>rwi_scaled</th><th>rwi_error</th><th>poverty_index</th><th>travel_time_to_nearest_healthcare_min_mean</th><th>travel_time_to_nearest_healthcare_min_median</th><th>travel_time_to_nearest_healthcare_min_max</th><th>travel_time_to_nearest_healthcare_min_min</th><th>travel_time_to_nearest_healthcare_min_count</th><th>travel_time_to_nearest_healthcare_min_sum</th><th>travel_time_to_nearest_healthcare_walking_only_min_mean</th><th>travel_time_to_nearest_healthcare_walking_only_min_median</th><th>travel_time_to_nearest_healthcare_walking_only_min_max</th><th>travel_time_to_nearest_healthcare_walking_only_min_min</th><th>travel_time_to_nearest_healthcare_walking_only_min_count</th><th>travel_time_to_nearest_healthcare_walking_only_min_sum</th><th>grid_area_m2</th><th>cropland_area_m2</th><th>cropland_area_fraction</th><th>builtup_area_m2</th><th>builtup_area_fraction</th></tr><tr><td>f64</td><td>f64</td><td>f64</td><td>f64</td><td>f64</td><td>f64</td><td>f64</td><td>f64</td><td>f64</td><td>f64</td><td>f64</td><td>f64</td><td>f64</td><td>f64</td><td>f64</td><td>f64</td><td>f64</td><td>f64</td><td>f64</td><td>f64</td><td>f64</td><td>f64</td><td>f64</td><td>f64</td><td>f64</td><td>f64</td><td>f64</td><td>f64</td><td>f64</td><td>f64</td><td>f64</td><td>f64</td><td>f64</td><td>f64</td><td>f64</td><td>f64</td><td>f64</td><td>&hellip;</td><td>f64</td><td>f64</td><td>f64</td><td>f64</td><td>f64</td><td>f64</td><td>f64</td><td>f64</td><td>i64</td><td>f64</td><td>f64</td><td>f64</td><td>f64</td><td>f64</td><td>f64</td><td>f64</td><td>f64</td><td>f64</td><td>f64</td><td>f64</td><td>f64</td><td>f64</td><td>f64</td><td>f64</td><td>i64</td><td>f64</td><td>f64</td><td>f64</td><td>f64</td><td>f64</td><td>i64</td><td>f64</td><td>f64</td><td>f64</td><td>f64</td><td>f64</td><td>f64</td></tr></thead><tbody><tr><td>0.0</td><td>0.0</td><td>0.0</td><td>0.0</td><td>0.0</td><td>null</td><td>0.0</td><td>0.0</td><td>0.0</td><td>0.0</td><td>0.0</td><td>0.0</td><td>0.0</td><td>0.0</td><td>0.0</td><td>0.0</td><td>0.0</td><td>0.0</td><td>0.0</td><td>0.0</td><td>null</td><td>null</td><td>null</td><td>null</td><td>null</td><td>null</td><td>null</td><td>null</td><td>null</td><td>null</td><td>null</td><td>null</td><td>0.0</td><td>0.0</td><td>0.0</td><td>0.0</td><td>0.0</td><td>&hellip;</td><td>0.0</td><td>null</td><td>null</td><td>null</td><td>338.0</td><td>338.0</td><td>338.0</td><td>338.0</td><td>1</td><td>338.0</td><td>null</td><td>null</td><td>null</td><td>null</td><td>null</td><td>null</td><td>null</td><td>null</td><td>null</td><td>null</td><td>323.265839</td><td>323.265839</td><td>323.265839</td><td>323.265839</td><td>1</td><td>323.265839</td><td>903.0</td><td>903.0</td><td>903.0</td><td>903.0</td><td>1</td><td>903.0</td><td>23370.477172</td><td>7632.849648</td><td>0.326602</td><td>0.0</td><td>0.0</td></tr><tr><td>0.0</td><td>0.0</td><td>0.0</td><td>0.0</td><td>0.0</td><td>null</td><td>0.0</td><td>0.0</td><td>0.0</td><td>0.0</td><td>0.0</td><td>0.0</td><td>0.0</td><td>0.0</td><td>0.0</td><td>0.0</td><td>0.0</td><td>0.0</td><td>0.0</td><td>0.0</td><td>null</td><td>null</td><td>null</td><td>null</td><td>null</td><td>null</td><td>null</td><td>null</td><td>null</td><td>null</td><td>null</td><td>null</td><td>0.0</td><td>0.0</td><td>0.0</td><td>0.0</td><td>0.0</td><td>&hellip;</td><td>0.0</td><td>null</td><td>null</td><td>null</td><td>375.5</td><td>375.5</td><td>388.0</td><td>363.0</td><td>2</td><td>751.0</td><td>null</td><td>null</td><td>null</td><td>null</td><td>null</td><td>null</td><td>null</td><td>null</td><td>null</td><td>null</td><td>323.265839</td><td>323.265839</td><td>323.265839</td><td>323.265839</td><td>1</td><td>323.265839</td><td>903.0</td><td>903.0</td><td>903.0</td><td>903.0</td><td>1</td><td>903.0</td><td>23370.477173</td><td>14137.244083</td><td>0.604919</td><td>0.0</td><td>0.0</td></tr><tr><td>0.0</td><td>0.0</td><td>0.0</td><td>0.0</td><td>0.0</td><td>null</td><td>0.0</td><td>0.0</td><td>0.0</td><td>0.0</td><td>0.0</td><td>0.0</td><td>0.0</td><td>0.0</td><td>0.0</td><td>0.0</td><td>0.0</td><td>0.0</td><td>0.0</td><td>0.0</td><td>null</td><td>null</td><td>null</td><td>null</td><td>null</td><td>null</td><td>null</td><td>null</td><td>null</td><td>null</td><td>null</td><td>null</td><td>0.0</td><td>0.0</td><td>0.0</td><td>0.0</td><td>0.0</td><td>&hellip;</td><td>0.0</td><td>null</td><td>null</td><td>null</td><td>375.5</td><td>375.5</td><td>388.0</td><td>363.0</td><td>2</td><td>751.0</td><td>null</td><td>null</td><td>null</td><td>null</td><td>null</td><td>null</td><td>null</td><td>null</td><td>null</td><td>null</td><td>323.265839</td><td>323.265839</td><td>323.265839</td><td>323.265839</td><td>1</td><td>323.265839</td><td>903.0</td><td>903.0</td><td>903.0</td><td>903.0</td><td>1</td><td>903.0</td><td>23370.477172</td><td>5867.936041</td><td>0.251083</td><td>0.0</td><td>0.0</td></tr><tr><td>150.580882</td><td>0.006443</td><td>1.0</td><td>2.0</td><td>2.0</td><td>1.0</td><td>3.5</td><td>0.00015</td><td>1.5</td><td>2.0</td><td>1.0</td><td>0.0</td><td>1.0</td><td>1.0</td><td>0.0</td><td>0.5</td><td>0.0</td><td>0.0</td><td>0.0</td><td>1.0</td><td>0.428571</td><td>0.571429</td><td>0.285714</td><td>0.0</td><td>0.285714</td><td>0.285714</td><td>0.0</td><td>0.142857</td><td>0.0</td><td>0.0</td><td>0.0</td><td>0.285714</td><td>1.0</td><td>0.5</td><td>1.5</td><td>0.0</td><td>1.5</td><td>&hellip;</td><td>0.0</td><td>0.0</td><td>1.0</td><td>0.0</td><td>311.0</td><td>311.0</td><td>311.0</td><td>311.0</td><td>1</td><td>311.0</td><td>null</td><td>null</td><td>null</td><td>null</td><td>null</td><td>-0.711</td><td>0.711</td><td>74.526678</td><td>0.476</td><td>74.526678</td><td>319.955475</td><td>319.955475</td><td>319.955475</td><td>319.955475</td><td>1</td><td>319.955475</td><td>738.0</td><td>738.0</td><td>738.0</td><td>738.0</td><td>1</td><td>738.0</td><td>23370.477172</td><td>0.0</td><td>0.0</td><td>0.0</td><td>0.0</td></tr><tr><td>69.48328</td><td>0.002973</td><td>1.0</td><td>2.0</td><td>2.0</td><td>1.0</td><td>3.5</td><td>0.00015</td><td>1.5</td><td>2.0</td><td>1.0</td><td>0.0</td><td>1.0</td><td>1.0</td><td>0.0</td><td>0.5</td><td>0.0</td><td>0.0</td><td>0.0</td><td>1.0</td><td>0.428571</td><td>0.571429</td><td>0.285714</td><td>0.0</td><td>0.285714</td><td>0.285714</td><td>0.0</td><td>0.142857</td><td>0.0</td><td>0.0</td><td>0.0</td><td>0.285714</td><td>1.0</td><td>0.5</td><td>1.5</td><td>0.0</td><td>1.5</td><td>&hellip;</td><td>0.0</td><td>0.0</td><td>1.0</td><td>0.0</td><td>206.0</td><td>206.0</td><td>206.0</td><td>206.0</td><td>1</td><td>206.0</td><td>null</td><td>null</td><td>null</td><td>null</td><td>null</td><td>-0.711</td><td>0.711</td><td>74.526678</td><td>0.476</td><td>74.526678</td><td>138.096603</td><td>138.096603</td><td>138.096603</td><td>138.096603</td><td>1</td><td>138.096603</td><td>556.0</td><td>556.0</td><td>556.0</td><td>556.0</td><td>1</td><td>556.0</td><td>23370.477172</td><td>0.0</td><td>0.0</td><td>0.0</td><td>0.0</td></tr><tr><td>&hellip;</td><td>&hellip;</td><td>&hellip;</td><td>&hellip;</td><td>&hellip;</td><td>&hellip;</td><td>&hellip;</td><td>&hellip;</td><td>&hellip;</td><td>&hellip;</td><td>&hellip;</td><td>&hellip;</td><td>&hellip;</td><td>&hellip;</td><td>&hellip;</td><td>&hellip;</td><td>&hellip;</td><td>&hellip;</td><td>&hellip;</td><td>&hellip;</td><td>&hellip;</td><td>&hellip;</td><td>&hellip;</td><td>&hellip;</td><td>&hellip;</td><td>&hellip;</td><td>&hellip;</td><td>&hellip;</td><td>&hellip;</td><td>&hellip;</td><td>&hellip;</td><td>&hellip;</td><td>&hellip;</td><td>&hellip;</td><td>&hellip;</td><td>&hellip;</td><td>&hellip;</td><td>&hellip;</td><td>&hellip;</td><td>&hellip;</td><td>&hellip;</td><td>&hellip;</td><td>&hellip;</td><td>&hellip;</td><td>&hellip;</td><td>&hellip;</td><td>&hellip;</td><td>&hellip;</td><td>&hellip;</td><td>&hellip;</td><td>&hellip;</td><td>&hellip;</td><td>&hellip;</td><td>&hellip;</td><td>&hellip;</td><td>&hellip;</td><td>&hellip;</td><td>&hellip;</td><td>&hellip;</td><td>&hellip;</td><td>&hellip;</td><td>&hellip;</td><td>&hellip;</td><td>&hellip;</td><td>&hellip;</td><td>&hellip;</td><td>&hellip;</td><td>&hellip;</td><td>&hellip;</td><td>&hellip;</td><td>&hellip;</td><td>&hellip;</td><td>&hellip;</td><td>&hellip;</td><td>&hellip;</td></tr><tr><td>61.004867</td><td>0.00261</td><td>1.0</td><td>0.671875</td><td>0.5</td><td>0.744186</td><td>1.8828125</td><td>0.000081</td><td>1.0390625</td><td>0.84375</td><td>0.386719</td><td>0.464844</td><td>0.355469</td><td>0.230469</td><td>0.167969</td><td>0.15625</td><td>0.0703125</td><td>0.035156</td><td>0.015625</td><td>0.5078125</td><td>0.551867</td><td>0.448133</td><td>0.205394</td><td>0.246888</td><td>0.188797</td><td>0.122407</td><td>0.089212</td><td>0.082988</td><td>0.037344</td><td>0.018672</td><td>0.008299</td><td>0.26971</td><td>1.0546875</td><td>0.359375</td><td>0.003906</td><td>0.0</td><td>0.003906</td><td>&hellip;</td><td>0.0</td><td>0.011628</td><td>0.622093</td><td>0.0</td><td>312.0</td><td>312.0</td><td>312.0</td><td>312.0</td><td>1</td><td>312.0</td><td>null</td><td>null</td><td>null</td><td>null</td><td>null</td><td>-0.504</td><td>0.504</td><td>69.436931</td><td>0.42</td><td>69.436931</td><td>82.222672</td><td>82.222672</td><td>83.144325</td><td>81.301018</td><td>2</td><td>164.445343</td><td>462.5</td><td>462.5</td><td>468.0</td><td>457.0</td><td>2</td><td>925.0</td><td>23370.477172</td><td>0.0</td><td>0.0</td><td>0.0</td><td>0.0</td></tr><tr><td>68.372628</td><td>0.002926</td><td>1.0</td><td>0.671875</td><td>0.5</td><td>0.744186</td><td>1.8828125</td><td>0.000081</td><td>1.0390625</td><td>0.84375</td><td>0.386719</td><td>0.464844</td><td>0.355469</td><td>0.230469</td><td>0.167969</td><td>0.15625</td><td>0.0703125</td><td>0.035156</td><td>0.015625</td><td>0.5078125</td><td>0.551867</td><td>0.448133</td><td>0.205394</td><td>0.246888</td><td>0.188797</td><td>0.122407</td><td>0.089212</td><td>0.082988</td><td>0.037344</td><td>0.018672</td><td>0.008299</td><td>0.26971</td><td>1.0546875</td><td>0.359375</td><td>0.003906</td><td>0.0</td><td>0.003906</td><td>&hellip;</td><td>0.0</td><td>0.011628</td><td>0.622093</td><td>0.0</td><td>357.0</td><td>357.0</td><td>357.0</td><td>357.0</td><td>1</td><td>357.0</td><td>null</td><td>null</td><td>null</td><td>null</td><td>null</td><td>-0.444</td><td>0.444</td><td>67.961642</td><td>0.418</td><td>67.961642</td><td>141.342804</td><td>141.342804</td><td>150.627335</td><td>132.058289</td><td>2</td><td>282.685608</td><td>518.5</td><td>518.5</td><td>528.0</td><td>509.0</td><td>2</td><td>1037.0</td><td>23370.477172</td><td>0.0</td><td>0.0</td><td>0.0</td><td>0.0</td></tr><tr><td>154.359791</td><td>0.006605</td><td>1.0</td><td>21.666667</td><td>18.0</td><td>0.830769</td><td>57.0</td><td>0.002439</td><td>29.666667</td><td>27.333333</td><td>13.333333</td><td>10.0</td><td>15.0</td><td>6.666667</td><td>3.666667</td><td>3.0</td><td>3.333333</td><td>1.333333</td><td>0.666667</td><td>18.666667</td><td>0.520468</td><td>0.479532</td><td>0.233918</td><td>0.175439</td><td>0.263158</td><td>0.116959</td><td>0.064327</td><td>0.052632</td><td>0.05848</td><td>0.023392</td><td>0.011696</td><td>0.327485</td><td>37.333333</td><td>8.333333</td><td>0.0</td><td>0.0</td><td>0.0</td><td>&hellip;</td><td>0.333333</td><td>0.015385</td><td>0.723077</td><td>0.015385</td><td>357.0</td><td>357.0</td><td>357.0</td><td>357.0</td><td>1</td><td>357.0</td><td>null</td><td>null</td><td>null</td><td>null</td><td>null</td><td>-0.444</td><td>0.444</td><td>67.961642</td><td>0.418</td><td>67.961642</td><td>141.342804</td><td>141.342804</td><td>150.627335</td><td>132.058289</td><td>2</td><td>282.685608</td><td>518.5</td><td>518.5</td><td>528.0</td><td>509.0</td><td>2</td><td>1037.0</td><td>23370.477172</td><td>0.0</td><td>0.0</td><td>0.0</td><td>0.0</td></tr><tr><td>99.001468</td><td>0.004236</td><td>1.0</td><td>0.671875</td><td>0.5</td><td>0.744186</td><td>1.8828125</td><td>0.000081</td><td>1.0390625</td><td>0.84375</td><td>0.386719</td><td>0.464844</td><td>0.355469</td><td>0.230469</td><td>0.167969</td><td>0.15625</td><td>0.0703125</td><td>0.035156</td><td>0.015625</td><td>0.5078125</td><td>0.551867</td><td>0.448133</td><td>0.205394</td><td>0.246888</td><td>0.188797</td><td>0.122407</td><td>0.089212</td><td>0.082988</td><td>0.037344</td><td>0.018672</td><td>0.008299</td><td>0.26971</td><td>1.0546875</td><td>0.359375</td><td>0.003906</td><td>0.0</td><td>0.003906</td><td>&hellip;</td><td>0.0</td><td>0.011628</td><td>0.622093</td><td>0.0</td><td>311.0</td><td>311.0</td><td>312.0</td><td>310.0</td><td>2</td><td>622.0</td><td>null</td><td>null</td><td>null</td><td>null</td><td>null</td><td>-0.504</td><td>0.504</td><td>69.436931</td><td>0.42</td><td>69.436931</td><td>82.765549</td><td>82.765549</td><td>83.144325</td><td>82.38678</td><td>2</td><td>165.531097</td><td>466.0</td><td>466.0</td><td>468.0</td><td>464.0</td><td>2</td><td>932.0</td><td>23370.477172</td><td>0.0</td><td>0.0</td><td>0.0</td><td>0.0</td></tr><tr><td>308.426325</td><td>0.013197</td><td>1.0</td><td>21.666667</td><td>18.0</td><td>0.830769</td><td>57.0</td><td>0.002439</td><td>29.666667</td><td>27.333333</td><td>13.333333</td><td>10.0</td><td>15.0</td><td>6.666667</td><td>3.666667</td><td>3.0</td><td>3.333333</td><td>1.333333</td><td>0.666667</td><td>18.666667</td><td>0.520468</td><td>0.479532</td><td>0.233918</td><td>0.175439</td><td>0.263158</td><td>0.116959</td><td>0.064327</td><td>0.052632</td><td>0.05848</td><td>0.023392</td><td>0.011696</td><td>0.327485</td><td>37.333333</td><td>8.333333</td><td>0.0</td><td>0.0</td><td>0.0</td><td>&hellip;</td><td>0.333333</td><td>0.015385</td><td>0.723077</td><td>0.015385</td><td>357.0</td><td>357.0</td><td>357.0</td><td>357.0</td><td>1</td><td>357.0</td><td>null</td><td>null</td><td>null</td><td>null</td><td>null</td><td>-0.444</td><td>0.444</td><td>67.961642</td><td>0.418</td><td>67.961642</td><td>150.627335</td><td>150.627335</td><td>150.627335</td><td>150.627335</td><td>1</td><td>150.627335</td><td>528.0</td><td>528.0</td><td>528.0</td><td>528.0</td><td>1</td><td>528.0</td><td>23370.477172</td><td>0.0</td><td>0.0</td><td>0.0</td><td>0.0</td></tr></tbody></table></div>"
      ],
      "text/plain": [
       "shape: (9_910, 105)\n",
       "┌───────────┬───────────┬───────────┬───────────┬───┬───────────┬───────────┬───────────┬──────────┐\n",
       "│ building_ ┆ building_ ┆ building_ ┆ census_dw ┆ … ┆ cropland_ ┆ cropland_ ┆ builtup_a ┆ builtup_ │\n",
       "│ area_m2   ┆ area_frac ┆ count     ┆ ellings_c ┆   ┆ area_m2   ┆ area_frac ┆ rea_m2    ┆ area_fra │\n",
       "│ ---       ┆ tion      ┆ ---       ┆ ount      ┆   ┆ ---       ┆ tion      ┆ ---       ┆ ction    │\n",
       "│ f64       ┆ ---       ┆ f64       ┆ ---       ┆   ┆ f64       ┆ ---       ┆ f64       ┆ ---      │\n",
       "│           ┆ f64       ┆           ┆ f64       ┆   ┆           ┆ f64       ┆           ┆ f64      │\n",
       "╞═══════════╪═══════════╪═══════════╪═══════════╪═══╪═══════════╪═══════════╪═══════════╪══════════╡\n",
       "│ 0.0       ┆ 0.0       ┆ 0.0       ┆ 0.0       ┆ … ┆ 7632.8496 ┆ 0.326602  ┆ 0.0       ┆ 0.0      │\n",
       "│           ┆           ┆           ┆           ┆   ┆ 48        ┆           ┆           ┆          │\n",
       "│ 0.0       ┆ 0.0       ┆ 0.0       ┆ 0.0       ┆ … ┆ 14137.244 ┆ 0.604919  ┆ 0.0       ┆ 0.0      │\n",
       "│           ┆           ┆           ┆           ┆   ┆ 083       ┆           ┆           ┆          │\n",
       "│ 0.0       ┆ 0.0       ┆ 0.0       ┆ 0.0       ┆ … ┆ 5867.9360 ┆ 0.251083  ┆ 0.0       ┆ 0.0      │\n",
       "│           ┆           ┆           ┆           ┆   ┆ 41        ┆           ┆           ┆          │\n",
       "│ 150.58088 ┆ 0.006443  ┆ 1.0       ┆ 2.0       ┆ … ┆ 0.0       ┆ 0.0       ┆ 0.0       ┆ 0.0      │\n",
       "│ 2         ┆           ┆           ┆           ┆   ┆           ┆           ┆           ┆          │\n",
       "│ 69.48328  ┆ 0.002973  ┆ 1.0       ┆ 2.0       ┆ … ┆ 0.0       ┆ 0.0       ┆ 0.0       ┆ 0.0      │\n",
       "│ …         ┆ …         ┆ …         ┆ …         ┆ … ┆ …         ┆ …         ┆ …         ┆ …        │\n",
       "│ 61.004867 ┆ 0.00261   ┆ 1.0       ┆ 0.671875  ┆ … ┆ 0.0       ┆ 0.0       ┆ 0.0       ┆ 0.0      │\n",
       "│ 68.372628 ┆ 0.002926  ┆ 1.0       ┆ 0.671875  ┆ … ┆ 0.0       ┆ 0.0       ┆ 0.0       ┆ 0.0      │\n",
       "│ 154.35979 ┆ 0.006605  ┆ 1.0       ┆ 21.666667 ┆ … ┆ 0.0       ┆ 0.0       ┆ 0.0       ┆ 0.0      │\n",
       "│ 1         ┆           ┆           ┆           ┆   ┆           ┆           ┆           ┆          │\n",
       "│ 99.001468 ┆ 0.004236  ┆ 1.0       ┆ 0.671875  ┆ … ┆ 0.0       ┆ 0.0       ┆ 0.0       ┆ 0.0      │\n",
       "│ 308.42632 ┆ 0.013197  ┆ 1.0       ┆ 21.666667 ┆ … ┆ 0.0       ┆ 0.0       ┆ 0.0       ┆ 0.0      │\n",
       "│ 5         ┆           ┆           ┆           ┆   ┆           ┆           ┆           ┆          │\n",
       "└───────────┴───────────┴───────────┴───────────┴───┴───────────┴───────────┴───────────┴──────────┘"
      ]
     },
     "execution_count": 10,
     "metadata": {},
     "output_type": "execute_result"
    }
   ],
   "source": [
    "# Get the data types of all columns\n",
    "dtypes = process_df.schema\n",
    "\n",
    "# Filter out columns with data type String\n",
    "non_string_columns = [\n",
    "    col for col, dtype in dtypes.items() if dtype != pl.datatypes.String\n",
    "]\n",
    "\n",
    "# Select only non-string columns\n",
    "features_df = process_df.select(non_string_columns)\n",
    "\n",
    "# Drop the municipality data\n",
    "drop_muni_cols = [\n",
    "    \"MPIO_NAREA\",\n",
    "    \"MPIO_NANO\",\n",
    "    \"SHAPE_AREA\",\n",
    "    \"SHAPE_LEN\",\n",
    "]  # List of columns to drop\n",
    "features_df = features_df.drop(drop_muni_cols)\n",
    "\n",
    "features_df"
   ]
  },
  {
   "cell_type": "code",
   "execution_count": 11,
   "metadata": {},
   "outputs": [
    {
     "data": {
      "text/html": [
       "<div><style>\n",
       ".dataframe > thead > tr,\n",
       ".dataframe > tbody > tr {\n",
       "  text-align: right;\n",
       "  white-space: pre-wrap;\n",
       "}\n",
       "</style>\n",
       "<small>shape: (11_025, 3)</small><table border=\"1\" class=\"dataframe\"><thead><tr><th>var1</th><th>var2</th><th>corr</th></tr><tr><td>str</td><td>str</td><td>f64</td></tr></thead><tbody><tr><td>&quot;census_population_men_percent&quot;</td><td>&quot;census_population_women_percent&quot;</td><td>-1.0</td></tr><tr><td>&quot;census_population_women_percent&quot;</td><td>&quot;census_population_men_percent&quot;</td><td>-1.0</td></tr><tr><td>&quot;rwi_scaled&quot;</td><td>&quot;rwi&quot;</td><td>-1.0</td></tr><tr><td>&quot;rwi&quot;</td><td>&quot;rwi_scaled&quot;</td><td>-1.0</td></tr><tr><td>&quot;rwi_flipped&quot;</td><td>&quot;rwi&quot;</td><td>-1.0</td></tr><tr><td>&hellip;</td><td>&hellip;</td><td>&hellip;</td></tr><tr><td>&quot;builtup_area_fraction&quot;</td><td>&quot;grid_area_m2&quot;</td><td>NaN</td></tr><tr><td>&quot;grid_area_m2&quot;</td><td>&quot;cropland_area_m2&quot;</td><td>NaN</td></tr><tr><td>&quot;grid_area_m2&quot;</td><td>&quot;cropland_area_fraction&quot;</td><td>NaN</td></tr><tr><td>&quot;grid_area_m2&quot;</td><td>&quot;builtup_area_m2&quot;</td><td>NaN</td></tr><tr><td>&quot;grid_area_m2&quot;</td><td>&quot;builtup_area_fraction&quot;</td><td>NaN</td></tr></tbody></table></div>"
      ],
      "text/plain": [
       "shape: (11_025, 3)\n",
       "┌─────────────────────────────────┬─────────────────────────────────┬──────┐\n",
       "│ var1                            ┆ var2                            ┆ corr │\n",
       "│ ---                             ┆ ---                             ┆ ---  │\n",
       "│ str                             ┆ str                             ┆ f64  │\n",
       "╞═════════════════════════════════╪═════════════════════════════════╪══════╡\n",
       "│ census_population_men_percent   ┆ census_population_women_percent ┆ -1.0 │\n",
       "│ census_population_women_percent ┆ census_population_men_percent   ┆ -1.0 │\n",
       "│ rwi_scaled                      ┆ rwi                             ┆ -1.0 │\n",
       "│ rwi                             ┆ rwi_scaled                      ┆ -1.0 │\n",
       "│ rwi_flipped                     ┆ rwi                             ┆ -1.0 │\n",
       "│ …                               ┆ …                               ┆ …    │\n",
       "│ builtup_area_fraction           ┆ grid_area_m2                    ┆ NaN  │\n",
       "│ grid_area_m2                    ┆ cropland_area_m2                ┆ NaN  │\n",
       "│ grid_area_m2                    ┆ cropland_area_fraction          ┆ NaN  │\n",
       "│ grid_area_m2                    ┆ builtup_area_m2                 ┆ NaN  │\n",
       "│ grid_area_m2                    ┆ builtup_area_fraction           ┆ NaN  │\n",
       "└─────────────────────────────────┴─────────────────────────────────┴──────┘"
      ]
     },
     "metadata": {},
     "output_type": "display_data"
    },
    {
     "name": "stdout",
     "output_type": "stream",
     "text": [
      "Rows: 11025\n",
      "Columns: 3\n",
      "$ var1 <str> 'census_population_men_percent', 'census_population_women_percent', 'rwi_scaled', 'rwi', 'rwi_flipped', 'rwi', 'census_dwellings_no_garbage_collection_service_percent', 'census_dwellings_garbage_collection_service_percent', 'census_dwellings_no_water_service_percent', 'census_dwellings_water_service_percent'\n",
      "$ var2 <str> 'census_population_women_percent', 'census_population_men_percent', 'rwi', 'rwi_scaled', 'rwi', 'rwi_flipped', 'census_dwellings_garbage_collection_service_percent', 'census_dwellings_no_garbage_collection_service_percent', 'census_dwellings_water_service_percent', 'census_dwellings_no_water_service_percent'\n",
      "$ corr <f64> -1.0000000000000147, -1.000000000000014, -1.0000000000000013, -1.0000000000000013, -1.0, -1.0, -0.8801486141137306, -0.8801486141137306, -0.8681018862309762, -0.8681018862309762\n",
      "\n",
      "None\n"
     ]
    }
   ],
   "source": [
    "## Get correlation table\n",
    "## TODO: add as util\n",
    "long = features_df.select(\n",
    "    [pl.corr(pl.all(), pl.col(c)).name.suffix(\"|\" + c) for c in features_df.columns]\n",
    ").melt()\n",
    "table = long.select(\n",
    "    pl.col(\"variable\").map_elements(lambda x: x.split(\"|\")[0]).alias(\"var1\"),\n",
    "    pl.col(\"variable\").map_elements(lambda x: x.split(\"|\")[1]).alias(\"var2\"),\n",
    "    pl.col(\"value\").alias(\"corr\"),\n",
    ").sort(by=\"corr\")\n",
    "\n",
    "with pl.Config(fmt_str_lengths=2000):\n",
    "    display(table)\n",
    "    print(table.glimpse())"
   ]
  },
  {
   "cell_type": "markdown",
   "metadata": {},
   "source": [
    "## Select features\n",
    "- Get id cols (quadkey, MPIO_CNMBR_EN, MPIO_CCNCT)\n",
    "- Get the median values for raster zonal stats\n",
    "- Get percent incidence for census data\n",
    "- Get area fraction columns for buildings and landcover\n",
    "- Get specific columns from census data: population density, total population, and total number of dwellings and households\n",
    "- Drop population_density and population_density UNadj (from WorldPop)"
   ]
  },
  {
   "cell_type": "code",
   "execution_count": 12,
   "metadata": {},
   "outputs": [],
   "source": [
    "id_cols = [\"quadkey\", \"MPIO_CNMBR_EN\", \"MPIO_CCNCT\"]\n",
    "manual_cols = [\n",
    "    \"census_dwellings_count\",\n",
    "    \"census_household_count\",\n",
    "    \"census_population_total_count\",\n",
    "    \"census_population_density_per_m2\",\n",
    "    \"census_household_to_dwellings_ratio\",\n",
    "    \"poverty_index\",\n",
    "    \"rwi_scaled\",\n",
    "    \"distance_to_nearest_healthcare_m\",\n",
    "    \"travel_time_to_nearest_healthcare_driving_min\",\n",
    "    \"travel_time_to_nearest_healthcare_walking_min\",\n",
    "]\n",
    "\n",
    "# drop_cols = [\"population_density_UNadj_median\", \"population_density_median\"]\n",
    "drop_cols = []"
   ]
  },
  {
   "cell_type": "code",
   "execution_count": 13,
   "metadata": {},
   "outputs": [
    {
     "data": {
      "text/plain": [
       "['travel_time_to_cities_hr_median',\n",
       " 'ipm_median',\n",
       " 'travel_time_to_nearest_healthcare_min_median',\n",
       " 'travel_time_to_nearest_healthcare_walking_only_min_median']"
      ]
     },
     "execution_count": 13,
     "metadata": {},
     "output_type": "execute_result"
    }
   ],
   "source": [
    "median_pattern = re.compile(\".*_median$\")\n",
    "median_cols = [col for col in process_df.columns if median_pattern.match(col)]\n",
    "median_cols"
   ]
  },
  {
   "cell_type": "code",
   "execution_count": 14,
   "metadata": {},
   "outputs": [
    {
     "data": {
      "text/plain": [
       "['census_population_men_percent',\n",
       " 'census_population_women_percent',\n",
       " 'census_population_0_9_percent',\n",
       " 'census_population_10_19_percent',\n",
       " 'census_population_20_29_percent',\n",
       " 'census_population_30_39_percent',\n",
       " 'census_population_40_49_percent',\n",
       " 'census_population_50_59_percent',\n",
       " 'census_population_60_69_percent',\n",
       " 'census_population_70_79_percent',\n",
       " 'census_population_80_over_percent',\n",
       " 'census_population_dependent_percent',\n",
       " 'census_population_edu_level_primary_percent',\n",
       " 'census_population_edu_level_secondary_percent',\n",
       " 'census_population_edu_level_technical_professional_percent',\n",
       " 'census_population_edu_level_postgraduate_percent',\n",
       " 'census_population_edu_level_tertiary_percent',\n",
       " 'census_population_edu_level_none_percent',\n",
       " 'census_population_edu_level_unknown_percent',\n",
       " 'census_dwellings_water_service_percent',\n",
       " 'census_dwellings_no_water_service_percent',\n",
       " 'census_dwellings_sewerage_service_percent',\n",
       " 'census_dwellings_no_sewerage_service_percent',\n",
       " 'census_dwellings_garbage_collection_service_percent',\n",
       " 'census_dwellings_no_garbage_collection_service_percent',\n",
       " 'census_dwellings_w_elec_percent',\n",
       " 'census_dwellings_wo_elec_percent',\n",
       " 'census_dwellings_ind_percent',\n",
       " 'census_dwellings_eth_percent',\n",
       " 'census_dwellings_internet_service_percent',\n",
       " 'census_dwellings_no_internet_service_percent',\n",
       " 'census_dwellings_internet_unknown_percent']"
      ]
     },
     "execution_count": 14,
     "metadata": {},
     "output_type": "execute_result"
    }
   ],
   "source": [
    "census_percent_pattern = re.compile(\"^census_[^_]+(?:_[^_]+)*_percent$\")\n",
    "census_percent_cols = [\n",
    "    col for col in process_df.columns if census_percent_pattern.match(col)\n",
    "]\n",
    "census_percent_cols"
   ]
  },
  {
   "cell_type": "code",
   "execution_count": 15,
   "metadata": {},
   "outputs": [
    {
     "data": {
      "text/plain": [
       "['building_area_fraction', 'cropland_area_fraction', 'builtup_area_fraction']"
      ]
     },
     "execution_count": 15,
     "metadata": {},
     "output_type": "execute_result"
    }
   ],
   "source": [
    "area_fraction_pattern = re.compile(\".*_area_fraction$\")\n",
    "area_fraction_cols = [\n",
    "    col for col in process_df.columns if area_fraction_pattern.match(col)\n",
    "]\n",
    "area_fraction_cols"
   ]
  },
  {
   "cell_type": "code",
   "execution_count": 16,
   "metadata": {},
   "outputs": [
    {
     "data": {
      "text/plain": [
       "['census_dwellings_count',\n",
       " 'census_household_count',\n",
       " 'census_population_total_count',\n",
       " 'census_population_density_per_m2',\n",
       " 'census_household_to_dwellings_ratio',\n",
       " 'poverty_index',\n",
       " 'rwi_scaled',\n",
       " 'distance_to_nearest_healthcare_m',\n",
       " 'travel_time_to_nearest_healthcare_driving_min',\n",
       " 'travel_time_to_nearest_healthcare_walking_min',\n",
       " 'travel_time_to_cities_hr_median',\n",
       " 'ipm_median',\n",
       " 'travel_time_to_nearest_healthcare_min_median',\n",
       " 'travel_time_to_nearest_healthcare_walking_only_min_median',\n",
       " 'census_population_men_percent',\n",
       " 'census_population_women_percent',\n",
       " 'census_population_0_9_percent',\n",
       " 'census_population_10_19_percent',\n",
       " 'census_population_20_29_percent',\n",
       " 'census_population_30_39_percent',\n",
       " 'census_population_40_49_percent',\n",
       " 'census_population_50_59_percent',\n",
       " 'census_population_60_69_percent',\n",
       " 'census_population_70_79_percent',\n",
       " 'census_population_80_over_percent',\n",
       " 'census_population_dependent_percent',\n",
       " 'census_population_edu_level_primary_percent',\n",
       " 'census_population_edu_level_secondary_percent',\n",
       " 'census_population_edu_level_technical_professional_percent',\n",
       " 'census_population_edu_level_postgraduate_percent',\n",
       " 'census_population_edu_level_tertiary_percent',\n",
       " 'census_population_edu_level_none_percent',\n",
       " 'census_population_edu_level_unknown_percent',\n",
       " 'census_dwellings_water_service_percent',\n",
       " 'census_dwellings_no_water_service_percent',\n",
       " 'census_dwellings_sewerage_service_percent',\n",
       " 'census_dwellings_no_sewerage_service_percent',\n",
       " 'census_dwellings_garbage_collection_service_percent',\n",
       " 'census_dwellings_no_garbage_collection_service_percent',\n",
       " 'census_dwellings_w_elec_percent',\n",
       " 'census_dwellings_wo_elec_percent',\n",
       " 'census_dwellings_ind_percent',\n",
       " 'census_dwellings_eth_percent',\n",
       " 'census_dwellings_internet_service_percent',\n",
       " 'census_dwellings_no_internet_service_percent',\n",
       " 'census_dwellings_internet_unknown_percent',\n",
       " 'building_area_fraction',\n",
       " 'cropland_area_fraction',\n",
       " 'builtup_area_fraction']"
      ]
     },
     "execution_count": 16,
     "metadata": {},
     "output_type": "execute_result"
    }
   ],
   "source": [
    "all_features = manual_cols\n",
    "all_features += median_cols + census_percent_cols + area_fraction_cols\n",
    "all_features = [x for x in all_features if x not in drop_cols]\n",
    "all_features = list(dict.fromkeys(all_features))  # dedup while keeping order\n",
    "all_features"
   ]
  },
  {
   "cell_type": "code",
   "execution_count": 17,
   "metadata": {},
   "outputs": [
    {
     "data": {
      "text/html": [
       "<div><style>\n",
       ".dataframe > thead > tr,\n",
       ".dataframe > tbody > tr {\n",
       "  text-align: right;\n",
       "  white-space: pre-wrap;\n",
       "}\n",
       "</style>\n",
       "<small>shape: (9_910, 52)</small><table border=\"1\" class=\"dataframe\"><thead><tr><th>quadkey</th><th>MPIO_CCNCT</th><th>MPIO_CNMBR_EN</th><th>building_area_fraction</th><th>census_dwellings_count</th><th>census_household_count</th><th>census_household_to_dwellings_ratio</th><th>census_population_total_count</th><th>census_population_density_per_m2</th><th>census_population_men_percent</th><th>census_population_women_percent</th><th>census_population_0_9_percent</th><th>census_population_10_19_percent</th><th>census_population_20_29_percent</th><th>census_population_30_39_percent</th><th>census_population_40_49_percent</th><th>census_population_50_59_percent</th><th>census_population_60_69_percent</th><th>census_population_70_79_percent</th><th>census_population_80_over_percent</th><th>census_population_dependent_percent</th><th>census_population_edu_level_primary_percent</th><th>census_population_edu_level_secondary_percent</th><th>census_population_edu_level_technical_professional_percent</th><th>census_population_edu_level_postgraduate_percent</th><th>census_population_edu_level_tertiary_percent</th><th>census_population_edu_level_none_percent</th><th>census_population_edu_level_unknown_percent</th><th>census_dwellings_water_service_percent</th><th>census_dwellings_no_water_service_percent</th><th>census_dwellings_sewerage_service_percent</th><th>census_dwellings_no_sewerage_service_percent</th><th>census_dwellings_garbage_collection_service_percent</th><th>census_dwellings_no_garbage_collection_service_percent</th><th>census_dwellings_w_elec_percent</th><th>census_dwellings_wo_elec_percent</th><th>census_dwellings_ind_percent</th><th>census_dwellings_eth_percent</th><th>census_dwellings_internet_service_percent</th><th>census_dwellings_no_internet_service_percent</th><th>census_dwellings_internet_unknown_percent</th><th>travel_time_to_cities_hr_median</th><th>ipm_median</th><th>rwi_scaled</th><th>poverty_index</th><th>travel_time_to_nearest_healthcare_min_median</th><th>travel_time_to_nearest_healthcare_walking_only_min_median</th><th>cropland_area_fraction</th><th>builtup_area_fraction</th><th>distance_to_nearest_healthcare_m</th><th>travel_time_to_nearest_healthcare_driving_min</th><th>travel_time_to_nearest_healthcare_walking_min</th></tr><tr><td>str</td><td>str</td><td>str</td><td>f64</td><td>f64</td><td>f64</td><td>f64</td><td>f64</td><td>f64</td><td>f64</td><td>f64</td><td>f64</td><td>f64</td><td>f64</td><td>f64</td><td>f64</td><td>f64</td><td>f64</td><td>f64</td><td>f64</td><td>f64</td><td>f64</td><td>f64</td><td>f64</td><td>f64</td><td>f64</td><td>f64</td><td>f64</td><td>f64</td><td>f64</td><td>f64</td><td>f64</td><td>f64</td><td>f64</td><td>f64</td><td>f64</td><td>f64</td><td>f64</td><td>f64</td><td>f64</td><td>f64</td><td>f64</td><td>f64</td><td>f64</td><td>f64</td><td>f64</td><td>f64</td><td>f64</td><td>f64</td><td>str</td><td>str</td><td>str</td></tr></thead><tbody><tr><td>&quot;03223223010211…</td><td>&quot;86749&quot;</td><td>&quot;SIBUNDOY&quot;</td><td>0.0</td><td>0.0</td><td>0.0</td><td>null</td><td>0.0</td><td>0.0</td><td>null</td><td>null</td><td>null</td><td>null</td><td>null</td><td>null</td><td>null</td><td>null</td><td>null</td><td>null</td><td>null</td><td>null</td><td>null</td><td>null</td><td>null</td><td>null</td><td>null</td><td>null</td><td>null</td><td>null</td><td>null</td><td>null</td><td>null</td><td>null</td><td>null</td><td>null</td><td>null</td><td>null</td><td>null</td><td>null</td><td>null</td><td>null</td><td>338.0</td><td>null</td><td>null</td><td>null</td><td>323.265839</td><td>903.0</td><td>0.326602</td><td>0.0</td><td>&quot;12120.58186516…</td><td>&quot;&gt;60&quot;</td><td>&quot;&gt;60&quot;</td></tr><tr><td>&quot;03223223010211…</td><td>&quot;86749&quot;</td><td>&quot;SIBUNDOY&quot;</td><td>0.0</td><td>0.0</td><td>0.0</td><td>null</td><td>0.0</td><td>0.0</td><td>null</td><td>null</td><td>null</td><td>null</td><td>null</td><td>null</td><td>null</td><td>null</td><td>null</td><td>null</td><td>null</td><td>null</td><td>null</td><td>null</td><td>null</td><td>null</td><td>null</td><td>null</td><td>null</td><td>null</td><td>null</td><td>null</td><td>null</td><td>null</td><td>null</td><td>null</td><td>null</td><td>null</td><td>null</td><td>null</td><td>null</td><td>null</td><td>375.5</td><td>null</td><td>null</td><td>null</td><td>323.265839</td><td>903.0</td><td>0.604919</td><td>0.0</td><td>&quot;11609.33756971…</td><td>&quot;&gt;60&quot;</td><td>&quot;&gt;60&quot;</td></tr><tr><td>&quot;03223223010211…</td><td>&quot;86749&quot;</td><td>&quot;SIBUNDOY&quot;</td><td>0.0</td><td>0.0</td><td>0.0</td><td>null</td><td>0.0</td><td>0.0</td><td>null</td><td>null</td><td>null</td><td>null</td><td>null</td><td>null</td><td>null</td><td>null</td><td>null</td><td>null</td><td>null</td><td>null</td><td>null</td><td>null</td><td>null</td><td>null</td><td>null</td><td>null</td><td>null</td><td>null</td><td>null</td><td>null</td><td>null</td><td>null</td><td>null</td><td>null</td><td>null</td><td>null</td><td>null</td><td>null</td><td>null</td><td>null</td><td>375.5</td><td>null</td><td>null</td><td>null</td><td>323.265839</td><td>903.0</td><td>0.251083</td><td>0.0</td><td>&quot;11620.25954237…</td><td>&quot;&gt;60&quot;</td><td>&quot;&gt;60&quot;</td></tr><tr><td>&quot;03223223010230…</td><td>&quot;86749&quot;</td><td>&quot;SIBUNDOY&quot;</td><td>0.006443</td><td>2.0</td><td>2.0</td><td>1.0</td><td>3.5</td><td>0.00015</td><td>0.428571</td><td>0.571429</td><td>0.285714</td><td>0.0</td><td>0.285714</td><td>0.285714</td><td>0.0</td><td>0.142857</td><td>0.0</td><td>0.0</td><td>0.0</td><td>0.285714</td><td>0.285714</td><td>0.142857</td><td>0.428571</td><td>0.0</td><td>0.428571</td><td>0.0</td><td>0.142857</td><td>1.0</td><td>0.0</td><td>1.0</td><td>0.0</td><td>1.0</td><td>0.0</td><td>1.0</td><td>0.0</td><td>0.0</td><td>0.0</td><td>0.0</td><td>1.0</td><td>0.0</td><td>311.0</td><td>null</td><td>74.526678</td><td>74.526678</td><td>319.955475</td><td>738.0</td><td>0.0</td><td>0.0</td><td>&quot;6756.959846086…</td><td>&quot;&gt;60&quot;</td><td>&quot;&gt;60&quot;</td></tr><tr><td>&quot;03223223010232…</td><td>&quot;86749&quot;</td><td>&quot;SIBUNDOY&quot;</td><td>0.002973</td><td>2.0</td><td>2.0</td><td>1.0</td><td>3.5</td><td>0.00015</td><td>0.428571</td><td>0.571429</td><td>0.285714</td><td>0.0</td><td>0.285714</td><td>0.285714</td><td>0.0</td><td>0.142857</td><td>0.0</td><td>0.0</td><td>0.0</td><td>0.285714</td><td>0.285714</td><td>0.142857</td><td>0.428571</td><td>0.0</td><td>0.428571</td><td>0.0</td><td>0.142857</td><td>1.0</td><td>0.0</td><td>1.0</td><td>0.0</td><td>1.0</td><td>0.0</td><td>1.0</td><td>0.0</td><td>0.0</td><td>0.0</td><td>0.0</td><td>1.0</td><td>0.0</td><td>206.0</td><td>null</td><td>74.526678</td><td>74.526678</td><td>138.096603</td><td>556.0</td><td>0.0</td><td>0.0</td><td>&quot;5877.726189470…</td><td>&quot;&gt;60&quot;</td><td>&quot;&gt;60&quot;</td></tr><tr><td>&hellip;</td><td>&hellip;</td><td>&hellip;</td><td>&hellip;</td><td>&hellip;</td><td>&hellip;</td><td>&hellip;</td><td>&hellip;</td><td>&hellip;</td><td>&hellip;</td><td>&hellip;</td><td>&hellip;</td><td>&hellip;</td><td>&hellip;</td><td>&hellip;</td><td>&hellip;</td><td>&hellip;</td><td>&hellip;</td><td>&hellip;</td><td>&hellip;</td><td>&hellip;</td><td>&hellip;</td><td>&hellip;</td><td>&hellip;</td><td>&hellip;</td><td>&hellip;</td><td>&hellip;</td><td>&hellip;</td><td>&hellip;</td><td>&hellip;</td><td>&hellip;</td><td>&hellip;</td><td>&hellip;</td><td>&hellip;</td><td>&hellip;</td><td>&hellip;</td><td>&hellip;</td><td>&hellip;</td><td>&hellip;</td><td>&hellip;</td><td>&hellip;</td><td>&hellip;</td><td>&hellip;</td><td>&hellip;</td><td>&hellip;</td><td>&hellip;</td><td>&hellip;</td><td>&hellip;</td><td>&hellip;</td><td>&hellip;</td><td>&hellip;</td><td>&hellip;</td></tr><tr><td>&quot;03223102222032…</td><td>&quot;54250&quot;</td><td>&quot;EL TARRA&quot;</td><td>0.00261</td><td>0.671875</td><td>0.5</td><td>0.744186</td><td>1.8828125</td><td>0.000081</td><td>0.551867</td><td>0.448133</td><td>0.205394</td><td>0.246888</td><td>0.188797</td><td>0.122407</td><td>0.089212</td><td>0.082988</td><td>0.037344</td><td>0.018672</td><td>0.008299</td><td>0.26971</td><td>0.560166</td><td>0.190871</td><td>0.002075</td><td>0.0</td><td>0.002075</td><td>0.141079</td><td>0.004149</td><td>0.075581</td><td>0.55814</td><td>0.005814</td><td>0.627907</td><td>0.005814</td><td>0.627907</td><td>0.505814</td><td>0.127907</td><td>0.0</td><td>0.0</td><td>0.011628</td><td>0.622093</td><td>0.0</td><td>312.0</td><td>null</td><td>69.436931</td><td>69.436931</td><td>82.222672</td><td>462.5</td><td>0.0</td><td>0.0</td><td>&quot;8403.599915060…</td><td>&quot;&gt;60&quot;</td><td>&quot;&gt;60&quot;</td></tr><tr><td>&quot;03223102222032…</td><td>&quot;54250&quot;</td><td>&quot;EL TARRA&quot;</td><td>0.002926</td><td>0.671875</td><td>0.5</td><td>0.744186</td><td>1.8828125</td><td>0.000081</td><td>0.551867</td><td>0.448133</td><td>0.205394</td><td>0.246888</td><td>0.188797</td><td>0.122407</td><td>0.089212</td><td>0.082988</td><td>0.037344</td><td>0.018672</td><td>0.008299</td><td>0.26971</td><td>0.560166</td><td>0.190871</td><td>0.002075</td><td>0.0</td><td>0.002075</td><td>0.141079</td><td>0.004149</td><td>0.075581</td><td>0.55814</td><td>0.005814</td><td>0.627907</td><td>0.005814</td><td>0.627907</td><td>0.505814</td><td>0.127907</td><td>0.0</td><td>0.0</td><td>0.011628</td><td>0.622093</td><td>0.0</td><td>357.0</td><td>null</td><td>67.961642</td><td>67.961642</td><td>141.342804</td><td>518.5</td><td>0.0</td><td>0.0</td><td>&quot;8914.763676464…</td><td>&quot;&gt;60&quot;</td><td>&quot;&gt;60&quot;</td></tr><tr><td>&quot;03223102222032…</td><td>&quot;54250&quot;</td><td>&quot;EL TARRA&quot;</td><td>0.006605</td><td>21.666667</td><td>18.0</td><td>0.830769</td><td>57.0</td><td>0.002439</td><td>0.520468</td><td>0.479532</td><td>0.233918</td><td>0.175439</td><td>0.263158</td><td>0.116959</td><td>0.064327</td><td>0.052632</td><td>0.05848</td><td>0.023392</td><td>0.011696</td><td>0.327485</td><td>0.654971</td><td>0.146199</td><td>0.0</td><td>0.0</td><td>0.0</td><td>0.093567</td><td>0.005848</td><td>0.0</td><td>0.753846</td><td>0.0</td><td>0.753846</td><td>0.015385</td><td>0.738462</td><td>0.307692</td><td>0.446154</td><td>0.0</td><td>0.0</td><td>0.015385</td><td>0.723077</td><td>0.015385</td><td>357.0</td><td>null</td><td>67.961642</td><td>67.961642</td><td>141.342804</td><td>518.5</td><td>0.0</td><td>0.0</td><td>&quot;8975.423759764…</td><td>&quot;&gt;60&quot;</td><td>&quot;&gt;60&quot;</td></tr><tr><td>&quot;03223102222023…</td><td>&quot;54250&quot;</td><td>&quot;EL TARRA&quot;</td><td>0.004236</td><td>0.671875</td><td>0.5</td><td>0.744186</td><td>1.8828125</td><td>0.000081</td><td>0.551867</td><td>0.448133</td><td>0.205394</td><td>0.246888</td><td>0.188797</td><td>0.122407</td><td>0.089212</td><td>0.082988</td><td>0.037344</td><td>0.018672</td><td>0.008299</td><td>0.26971</td><td>0.560166</td><td>0.190871</td><td>0.002075</td><td>0.0</td><td>0.002075</td><td>0.141079</td><td>0.004149</td><td>0.075581</td><td>0.55814</td><td>0.005814</td><td>0.627907</td><td>0.005814</td><td>0.627907</td><td>0.505814</td><td>0.127907</td><td>0.0</td><td>0.0</td><td>0.011628</td><td>0.622093</td><td>0.0</td><td>311.0</td><td>null</td><td>69.436931</td><td>69.436931</td><td>82.765549</td><td>466.0</td><td>0.0</td><td>0.0</td><td>&quot;8426.147336247…</td><td>&quot;&gt;60&quot;</td><td>&quot;&gt;60&quot;</td></tr><tr><td>&quot;03223102222032…</td><td>&quot;54250&quot;</td><td>&quot;EL TARRA&quot;</td><td>0.013197</td><td>21.666667</td><td>18.0</td><td>0.830769</td><td>57.0</td><td>0.002439</td><td>0.520468</td><td>0.479532</td><td>0.233918</td><td>0.175439</td><td>0.263158</td><td>0.116959</td><td>0.064327</td><td>0.052632</td><td>0.05848</td><td>0.023392</td><td>0.011696</td><td>0.327485</td><td>0.654971</td><td>0.146199</td><td>0.0</td><td>0.0</td><td>0.0</td><td>0.093567</td><td>0.005848</td><td>0.0</td><td>0.753846</td><td>0.0</td><td>0.753846</td><td>0.015385</td><td>0.738462</td><td>0.307692</td><td>0.446154</td><td>0.0</td><td>0.0</td><td>0.015385</td><td>0.723077</td><td>0.015385</td><td>357.0</td><td>null</td><td>67.961642</td><td>67.961642</td><td>150.627335</td><td>528.0</td><td>0.0</td><td>0.0</td><td>&quot;9055.755810727…</td><td>&quot;&gt;60&quot;</td><td>&quot;&gt;60&quot;</td></tr></tbody></table></div>"
      ],
      "text/plain": [
       "shape: (9_910, 52)\n",
       "┌───────────┬───────────┬───────────┬───────────┬───┬───────────┬───────────┬───────────┬──────────┐\n",
       "│ quadkey   ┆ MPIO_CCNC ┆ MPIO_CNMB ┆ building_ ┆ … ┆ builtup_a ┆ distance_ ┆ travel_ti ┆ travel_t │\n",
       "│ ---       ┆ T         ┆ R_EN      ┆ area_frac ┆   ┆ rea_fract ┆ to_neares ┆ me_to_nea ┆ ime_to_n │\n",
       "│ str       ┆ ---       ┆ ---       ┆ tion      ┆   ┆ ion       ┆ t_healthc ┆ rest_heal ┆ earest_h │\n",
       "│           ┆ str       ┆ str       ┆ ---       ┆   ┆ ---       ┆ are_m     ┆ thcar…    ┆ ealthcar │\n",
       "│           ┆           ┆           ┆ f64       ┆   ┆ f64       ┆ ---       ┆ ---       ┆ …        │\n",
       "│           ┆           ┆           ┆           ┆   ┆           ┆ str       ┆ str       ┆ ---      │\n",
       "│           ┆           ┆           ┆           ┆   ┆           ┆           ┆           ┆ str      │\n",
       "╞═══════════╪═══════════╪═══════════╪═══════════╪═══╪═══════════╪═══════════╪═══════════╪══════════╡\n",
       "│ 032232230 ┆ 86749     ┆ SIBUNDOY  ┆ 0.0       ┆ … ┆ 0.0       ┆ 12120.581 ┆ >60       ┆ >60      │\n",
       "│ 102111333 ┆           ┆           ┆           ┆   ┆           ┆ 865164326 ┆           ┆          │\n",
       "│ 032232230 ┆ 86749     ┆ SIBUNDOY  ┆ 0.0       ┆ … ┆ 0.0       ┆ 11609.337 ┆ >60       ┆ >60      │\n",
       "│ 102113031 ┆           ┆           ┆           ┆   ┆           ┆ 569712934 ┆           ┆          │\n",
       "│ 032232230 ┆ 86749     ┆ SIBUNDOY  ┆ 0.0       ┆ … ┆ 0.0       ┆ 11620.259 ┆ >60       ┆ >60      │\n",
       "│ 102113120 ┆           ┆           ┆           ┆   ┆           ┆ 54237284  ┆           ┆          │\n",
       "│ 032232230 ┆ 86749     ┆ SIBUNDOY  ┆ 0.006443  ┆ … ┆ 0.0       ┆ 6756.9598 ┆ >60       ┆ >60      │\n",
       "│ 102303131 ┆           ┆           ┆           ┆   ┆           ┆ 46086564  ┆           ┆          │\n",
       "│ 032232230 ┆ 86749     ┆ SIBUNDOY  ┆ 0.002973  ┆ … ┆ 0.0       ┆ 5877.7261 ┆ >60       ┆ >60      │\n",
       "│ 102320131 ┆           ┆           ┆           ┆   ┆           ┆ 89470211  ┆           ┆          │\n",
       "│ …         ┆ …         ┆ …         ┆ …         ┆ … ┆ …         ┆ …         ┆ …         ┆ …        │\n",
       "│ 032231022 ┆ 54250     ┆ EL TARRA  ┆ 0.00261   ┆ … ┆ 0.0       ┆ 8403.5999 ┆ >60       ┆ >60      │\n",
       "│ 220322012 ┆           ┆           ┆           ┆   ┆           ┆ 15060413  ┆           ┆          │\n",
       "│ 032231022 ┆ 54250     ┆ EL TARRA  ┆ 0.002926  ┆ … ┆ 0.0       ┆ 8914.7636 ┆ >60       ┆ >60      │\n",
       "│ 220323103 ┆           ┆           ┆           ┆   ┆           ┆ 76464006  ┆           ┆          │\n",
       "│ 032231022 ┆ 54250     ┆ EL TARRA  ┆ 0.006605  ┆ … ┆ 0.0       ┆ 8975.4237 ┆ >60       ┆ >60      │\n",
       "│ 220323112 ┆           ┆           ┆           ┆   ┆           ┆ 59764642  ┆           ┆          │\n",
       "│ 032231022 ┆ 54250     ┆ EL TARRA  ┆ 0.004236  ┆ … ┆ 0.0       ┆ 8426.1473 ┆ >60       ┆ >60      │\n",
       "│ 220233121 ┆           ┆           ┆           ┆   ┆           ┆ 3624785   ┆           ┆          │\n",
       "│ 032231022 ┆ 54250     ┆ EL TARRA  ┆ 0.013197  ┆ … ┆ 0.0       ┆ 9055.7558 ┆ >60       ┆ >60      │\n",
       "│ 220323121 ┆           ┆           ┆           ┆   ┆           ┆ 10727871  ┆           ┆          │\n",
       "└───────────┴───────────┴───────────┴───────────┴───┴───────────┴───────────┴───────────┴──────────┘"
      ]
     },
     "execution_count": 17,
     "metadata": {},
     "output_type": "execute_result"
    }
   ],
   "source": [
    "selected_features_df = process_df.select(\n",
    "    [col for col in process_df.columns if col in id_cols + all_features]\n",
    ")\n",
    "selected_features_df"
   ]
  },
  {
   "cell_type": "code",
   "execution_count": 18,
   "metadata": {},
   "outputs": [
    {
     "data": {
      "text/plain": [
       "OrderedDict([('quadkey', String),\n",
       "             ('MPIO_CCNCT', String),\n",
       "             ('MPIO_CNMBR_EN', String),\n",
       "             ('building_area_fraction', Float64),\n",
       "             ('census_dwellings_count', Float64),\n",
       "             ('census_household_count', Float64),\n",
       "             ('census_household_to_dwellings_ratio', Float64),\n",
       "             ('census_population_total_count', Float64),\n",
       "             ('census_population_density_per_m2', Float64),\n",
       "             ('census_population_men_percent', Float64),\n",
       "             ('census_population_women_percent', Float64),\n",
       "             ('census_population_0_9_percent', Float64),\n",
       "             ('census_population_10_19_percent', Float64),\n",
       "             ('census_population_20_29_percent', Float64),\n",
       "             ('census_population_30_39_percent', Float64),\n",
       "             ('census_population_40_49_percent', Float64),\n",
       "             ('census_population_50_59_percent', Float64),\n",
       "             ('census_population_60_69_percent', Float64),\n",
       "             ('census_population_70_79_percent', Float64),\n",
       "             ('census_population_80_over_percent', Float64),\n",
       "             ('census_population_dependent_percent', Float64),\n",
       "             ('census_population_edu_level_primary_percent', Float64),\n",
       "             ('census_population_edu_level_secondary_percent', Float64),\n",
       "             ('census_population_edu_level_technical_professional_percent',\n",
       "              Float64),\n",
       "             ('census_population_edu_level_postgraduate_percent', Float64),\n",
       "             ('census_population_edu_level_tertiary_percent', Float64),\n",
       "             ('census_population_edu_level_none_percent', Float64),\n",
       "             ('census_population_edu_level_unknown_percent', Float64),\n",
       "             ('census_dwellings_water_service_percent', Float64),\n",
       "             ('census_dwellings_no_water_service_percent', Float64),\n",
       "             ('census_dwellings_sewerage_service_percent', Float64),\n",
       "             ('census_dwellings_no_sewerage_service_percent', Float64),\n",
       "             ('census_dwellings_garbage_collection_service_percent', Float64),\n",
       "             ('census_dwellings_no_garbage_collection_service_percent',\n",
       "              Float64),\n",
       "             ('census_dwellings_w_elec_percent', Float64),\n",
       "             ('census_dwellings_wo_elec_percent', Float64),\n",
       "             ('census_dwellings_ind_percent', Float64),\n",
       "             ('census_dwellings_eth_percent', Float64),\n",
       "             ('census_dwellings_internet_service_percent', Float64),\n",
       "             ('census_dwellings_no_internet_service_percent', Float64),\n",
       "             ('census_dwellings_internet_unknown_percent', Float64),\n",
       "             ('travel_time_to_cities_hr_median', Float64),\n",
       "             ('ipm_median', Float64),\n",
       "             ('rwi_scaled', Float64),\n",
       "             ('poverty_index', Float64),\n",
       "             ('travel_time_to_nearest_healthcare_min_median', Float64),\n",
       "             ('travel_time_to_nearest_healthcare_walking_only_min_median',\n",
       "              Float64),\n",
       "             ('cropland_area_fraction', Float64),\n",
       "             ('builtup_area_fraction', Float64),\n",
       "             ('distance_to_nearest_healthcare_m', String),\n",
       "             ('travel_time_to_nearest_healthcare_driving_min', String),\n",
       "             ('travel_time_to_nearest_healthcare_walking_min', String)])"
      ]
     },
     "execution_count": 18,
     "metadata": {},
     "output_type": "execute_result"
    }
   ],
   "source": [
    "selected_features_df.schema"
   ]
  },
  {
   "cell_type": "code",
   "execution_count": 19,
   "metadata": {},
   "outputs": [
    {
     "data": {
      "text/plain": [
       "(9910, 52)"
      ]
     },
     "execution_count": 19,
     "metadata": {},
     "output_type": "execute_result"
    }
   ],
   "source": [
    "selected_features_df.shape"
   ]
  },
  {
   "cell_type": "code",
   "execution_count": 20,
   "metadata": {},
   "outputs": [
    {
     "data": {
      "text/html": [
       "<div><style>\n",
       ".dataframe > thead > tr,\n",
       ".dataframe > tbody > tr {\n",
       "  text-align: right;\n",
       "  white-space: pre-wrap;\n",
       "}\n",
       "</style>\n",
       "<small>shape: (1, 52)</small><table border=\"1\" class=\"dataframe\"><thead><tr><th>quadkey</th><th>MPIO_CCNCT</th><th>MPIO_CNMBR_EN</th><th>building_area_fraction</th><th>census_dwellings_count</th><th>census_household_count</th><th>census_household_to_dwellings_ratio</th><th>census_population_total_count</th><th>census_population_density_per_m2</th><th>census_population_men_percent</th><th>census_population_women_percent</th><th>census_population_0_9_percent</th><th>census_population_10_19_percent</th><th>census_population_20_29_percent</th><th>census_population_30_39_percent</th><th>census_population_40_49_percent</th><th>census_population_50_59_percent</th><th>census_population_60_69_percent</th><th>census_population_70_79_percent</th><th>census_population_80_over_percent</th><th>census_population_dependent_percent</th><th>census_population_edu_level_primary_percent</th><th>census_population_edu_level_secondary_percent</th><th>census_population_edu_level_technical_professional_percent</th><th>census_population_edu_level_postgraduate_percent</th><th>census_population_edu_level_tertiary_percent</th><th>census_population_edu_level_none_percent</th><th>census_population_edu_level_unknown_percent</th><th>census_dwellings_water_service_percent</th><th>census_dwellings_no_water_service_percent</th><th>census_dwellings_sewerage_service_percent</th><th>census_dwellings_no_sewerage_service_percent</th><th>census_dwellings_garbage_collection_service_percent</th><th>census_dwellings_no_garbage_collection_service_percent</th><th>census_dwellings_w_elec_percent</th><th>census_dwellings_wo_elec_percent</th><th>census_dwellings_ind_percent</th><th>census_dwellings_eth_percent</th><th>census_dwellings_internet_service_percent</th><th>census_dwellings_no_internet_service_percent</th><th>census_dwellings_internet_unknown_percent</th><th>travel_time_to_cities_hr_median</th><th>ipm_median</th><th>rwi_scaled</th><th>poverty_index</th><th>travel_time_to_nearest_healthcare_min_median</th><th>travel_time_to_nearest_healthcare_walking_only_min_median</th><th>cropland_area_fraction</th><th>builtup_area_fraction</th><th>distance_to_nearest_healthcare_m</th><th>travel_time_to_nearest_healthcare_driving_min</th><th>travel_time_to_nearest_healthcare_walking_min</th></tr><tr><td>u32</td><td>u32</td><td>u32</td><td>u32</td><td>u32</td><td>u32</td><td>u32</td><td>u32</td><td>u32</td><td>u32</td><td>u32</td><td>u32</td><td>u32</td><td>u32</td><td>u32</td><td>u32</td><td>u32</td><td>u32</td><td>u32</td><td>u32</td><td>u32</td><td>u32</td><td>u32</td><td>u32</td><td>u32</td><td>u32</td><td>u32</td><td>u32</td><td>u32</td><td>u32</td><td>u32</td><td>u32</td><td>u32</td><td>u32</td><td>u32</td><td>u32</td><td>u32</td><td>u32</td><td>u32</td><td>u32</td><td>u32</td><td>u32</td><td>u32</td><td>u32</td><td>u32</td><td>u32</td><td>u32</td><td>u32</td><td>u32</td><td>u32</td><td>u32</td><td>u32</td></tr></thead><tbody><tr><td>0</td><td>0</td><td>0</td><td>0</td><td>0</td><td>0</td><td>1014</td><td>0</td><td>0</td><td>1032</td><td>1032</td><td>1032</td><td>1032</td><td>1032</td><td>1032</td><td>1032</td><td>1032</td><td>1032</td><td>1032</td><td>1032</td><td>1032</td><td>1032</td><td>1032</td><td>1032</td><td>1032</td><td>1032</td><td>1032</td><td>1032</td><td>1014</td><td>1014</td><td>1014</td><td>1014</td><td>1014</td><td>1014</td><td>1014</td><td>1014</td><td>1014</td><td>1014</td><td>1014</td><td>1014</td><td>1014</td><td>4</td><td>8105</td><td>1000</td><td>926</td><td>0</td><td>0</td><td>0</td><td>0</td><td>0</td><td>0</td><td>0</td></tr></tbody></table></div>"
      ],
      "text/plain": [
       "shape: (1, 52)\n",
       "┌─────────┬────────────┬───────────┬───────────┬───┬───────────┬───────────┬───────────┬───────────┐\n",
       "│ quadkey ┆ MPIO_CCNCT ┆ MPIO_CNMB ┆ building_ ┆ … ┆ builtup_a ┆ distance_ ┆ travel_ti ┆ travel_ti │\n",
       "│ ---     ┆ ---        ┆ R_EN      ┆ area_frac ┆   ┆ rea_fract ┆ to_neares ┆ me_to_nea ┆ me_to_nea │\n",
       "│ u32     ┆ u32        ┆ ---       ┆ tion      ┆   ┆ ion       ┆ t_healthc ┆ rest_heal ┆ rest_heal │\n",
       "│         ┆            ┆ u32       ┆ ---       ┆   ┆ ---       ┆ are_m     ┆ thcar…    ┆ thcar…    │\n",
       "│         ┆            ┆           ┆ u32       ┆   ┆ u32       ┆ ---       ┆ ---       ┆ ---       │\n",
       "│         ┆            ┆           ┆           ┆   ┆           ┆ u32       ┆ u32       ┆ u32       │\n",
       "╞═════════╪════════════╪═══════════╪═══════════╪═══╪═══════════╪═══════════╪═══════════╪═══════════╡\n",
       "│ 0       ┆ 0          ┆ 0         ┆ 0         ┆ … ┆ 0         ┆ 0         ┆ 0         ┆ 0         │\n",
       "└─────────┴────────────┴───────────┴───────────┴───┴───────────┴───────────┴───────────┴───────────┘"
      ]
     },
     "execution_count": 20,
     "metadata": {},
     "output_type": "execute_result"
    }
   ],
   "source": [
    "# check for nulls in final output\n",
    "nulls_check_df = selected_features_df.select(pl.all().is_null().sum())\n",
    "nulls_check_df"
   ]
  },
  {
   "cell_type": "markdown",
   "metadata": {},
   "source": [
    "## Output table"
   ]
  },
  {
   "cell_type": "code",
   "execution_count": 21,
   "metadata": {},
   "outputs": [],
   "source": [
    "selected_features_df.write_parquet(OUT_FPATH)"
   ]
  }
 ],
 "metadata": {
  "kernelspec": {
   "display_name": "Python 3",
   "language": "python",
   "name": "python3"
  },
  "language_info": {
   "codemirror_mode": {
    "name": "ipython",
    "version": 3
   },
   "file_extension": ".py",
   "mimetype": "text/x-python",
   "name": "python",
   "nbconvert_exporter": "python",
   "pygments_lexer": "ipython3",
   "version": "3.9.18"
  }
 },
 "nbformat": 4,
 "nbformat_minor": 2
}
